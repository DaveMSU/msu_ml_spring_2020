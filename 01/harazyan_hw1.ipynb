{
  "nbformat": 4,
  "nbformat_minor": 0,
  "metadata": {
    "colab": {
      "name": "harazyan_hw1.ipynb",
      "provenance": [],
      "collapsed_sections": [],
      "include_colab_link": true
    },
    "kernelspec": {
      "display_name": "Python 3",
      "language": "python",
      "name": "python3"
    },
    "language_info": {
      "codemirror_mode": {
        "name": "ipython",
        "version": 3
      },
      "file_extension": ".py",
      "mimetype": "text/x-python",
      "name": "python",
      "nbconvert_exporter": "python",
      "pygments_lexer": "ipython3",
      "version": "3.7.4"
    }
  },
  "cells": [
    {
      "cell_type": "markdown",
      "metadata": {
        "id": "view-in-github",
        "colab_type": "text"
      },
      "source": [
        "<a href=\"https://colab.research.google.com/github/DaveMSU/msu_ml_spring_2020/blob/master/01/harazyan_hw1.ipynb\" target=\"_parent\"><img src=\"https://colab.research.google.com/assets/colab-badge.svg\" alt=\"Open In Colab\"/></a>"
      ]
    },
    {
      "cell_type": "markdown",
      "metadata": {
        "colab_type": "text",
        "id": "6YvqBzUcQmQ5"
      },
      "source": [
        "**Общая информация**\n",
        "\n",
        "**Срок сдачи:** 16 марта 2020, 08:30 \n",
        "\n",
        "**Штраф за опоздание:** по 1 баллу за 24 часа задержки. Через 5 дней домашнее задание сгорает.\n",
        "\n",
        "При отправлении ДЗ указывайте фамилию в названии файла\n",
        "Присылать ДЗ необходимо в виде ссылки на свой github репозиторий на почту ml1.sphere@mail.ru с указанием темы в следующем формате:\n",
        "\n",
        "[ML0220, Задание 1] Фамилия Имя.\n",
        "\n",
        "Используйте данный Ipython Notebook при оформлении домашнего задания."
      ]
    },
    {
      "cell_type": "markdown",
      "metadata": {
        "colab_type": "text",
        "id": "TrQyNQJpQmQ9"
      },
      "source": [
        "\n",
        "**Штрафные баллы:**\n",
        "\n",
        "1. Отсутствие фамилии в имени скрипта (скрипт должен называться по аналогии со stroykova_hw1.ipynb) -0.5 баллов\n",
        "2. Все строчки должны быть выполнены. Нужно, чтобы output команды можно было увидеть уже в git'е. В противном случае -0.5 баллов\n"
      ]
    },
    {
      "cell_type": "code",
      "metadata": {
        "colab_type": "code",
        "id": "OnMwWhPaQmRA",
        "colab": {}
      },
      "source": [
        "import warnings # Чтобы избежать лишних предупреждений, конкретно при подсчете tfidf, игнорировать предупреждения о делении на 0\n",
        "warnings.filterwarnings(\"ignore\")\n",
        "\n",
        "import numpy as np\n",
        "import matplotlib.pyplot as plt\n",
        "\n",
        "import seaborn as sns\n",
        "from sklearn import datasets\n",
        "from sklearn.base import BaseEstimator\n",
        "from sklearn.datasets import fetch_mldata, fetch_20newsgroups\n",
        "\n",
        "from sklearn.model_selection import train_test_split\n",
        "from sklearn.neighbors import KNeighborsClassifier, KDTree # 2-ой import для 3-его задания\n",
        "from sklearn.metrics import accuracy_score\n",
        "\n",
        "from scipy.spatial.distance import cdist        # Для попарных расстояний (в итоге полностью использовал pairwise_distances)\n",
        "import re                                       # Для описания регулярных выражений\n",
        "from scipy.sparse import csr_matrix, lil_matrix # Для хранения разряженных матриц\n",
        "from scipy.sparse import vstack as sp_vstack    # Для реализации cross_val_score функции\n",
        "from collections  import defaultdict as ddict   # Для того, чтобы постояно не инициализировать стандартный dict() нулем\n",
        "from sklearn.metrics import pairwise_distances as csr_cdist # Чтобы считать расстояния для случая когда матрицы сжатого формата"
      ],
      "execution_count": 0,
      "outputs": []
    },
    {
      "cell_type": "markdown",
      "metadata": {
        "colab_type": "text",
        "id": "mtAsEXqyQmRN"
      },
      "source": [
        "##### Задание 1 (1 балл)\n",
        "Реализовать KNN в классе MyKNeighborsClassifier (обязательное условие: точность не ниже sklearn реализации)\n",
        "Разберитесь самостоятельно, какая мера расстояния используется в KNeighborsClassifier дефолтно и реализуйте свой алгоритм именно с этой мерой. \n",
        "Для подсчета расстояний можно использовать функции [отсюда](https://docs.scipy.org/doc/scipy/reference/spatial.distance.html)"
      ]
    },
    {
      "cell_type": "code",
      "metadata": {
        "colab_type": "code",
        "id": "ZUXvm50eQmRP",
        "colab": {}
      },
      "source": [
        "class MyKNeighborsClassifier(BaseEstimator):\n",
        "    \n",
        "    def __init__(self, n_neighbors, metric='euclidean', algorithm='brute'):\n",
        "        \n",
        "        assert(algorithm in ['brute', 'kd_tree'])\n",
        "        self.metric = metric\n",
        "        self.algorithm = algorithm\n",
        "        self.n_neighbors = n_neighbors\n",
        "        self.y_prob = np.array([[]])\n",
        "        self.y_pred = np.array([])\n",
        "    \n",
        "    def fit(self, X, y):\n",
        "        self.X_train = X\n",
        "        self.y_train = np.asarray(y)\n",
        "        self.number_labels = np.unique(self.y_train).shape[0]\n",
        "        if self.algorithm == 'kd_tree':\n",
        "            self.tree = KDTree(X, leaf_size=40)\n",
        "\n",
        "    def predict(self, X):\n",
        "        \n",
        "        self.y_pred = np.empty(X.shape[0])\n",
        "        self.y_prob = np.empty((X.shape[0], self.number_labels))\n",
        "        \n",
        "        labels = np.tile(self.y_train, X.shape[0]).reshape(X.shape[0], self.y_train.shape[0])\n",
        "        if self.algorithm == 'brute':\n",
        "            tmp = np.argpartition(csr_cdist(X, self.X_train, metric=self.metric), kth=self.n_neighbors, axis=1) # cdist не работает с разряженными матрицами.\n",
        "        elif self.algorithm == 'kd_tree': # Не работает с csr_matrix, KNN из sklearn, так же не поддерживает.\n",
        "            tmp = self.tree.query(X, k=self.n_neighbors, return_distance =False)\n",
        "        \n",
        "        def raz_index(arr):\n",
        "            return arr[:self.X_train.shape[0]][arr[self.X_train.shape[0]:]]\n",
        "        \n",
        "        labels = np.apply_along_axis(raz_index, 1, np.hstack((labels, tmp)))[:,:self.n_neighbors]\n",
        "        tmp = np.apply_along_axis(np.bincount, 1, labels, minlength = self.number_labels)\n",
        "        \n",
        "        self.y_prob = np.divide(tmp.T, np.sum(tmp, axis=1)).T\n",
        "        self.y_pred = np.argmax(self.y_prob, axis=1)\n",
        "        \n",
        "        return self.y_pred.copy()"
      ],
      "execution_count": 0,
      "outputs": []
    },
    {
      "cell_type": "markdown",
      "metadata": {
        "colab_type": "text",
        "id": "Egut24GcQmRY"
      },
      "source": [
        "**IRIS**\n",
        "\n",
        "В библиотеке scikit-learn есть несколько датасетов из коробки. Один из них [Ирисы Фишера](https://ru.wikipedia.org/wiki/%D0%98%D1%80%D0%B8%D1%81%D1%8B_%D0%A4%D0%B8%D1%88%D0%B5%D1%80%D0%B0)"
      ]
    },
    {
      "cell_type": "code",
      "metadata": {
        "colab_type": "code",
        "id": "qZTVFaZpQmRa",
        "colab": {}
      },
      "source": [
        "iris = datasets.load_iris()"
      ],
      "execution_count": 0,
      "outputs": []
    },
    {
      "cell_type": "code",
      "metadata": {
        "colab_type": "code",
        "id": "GI-cQjaUQmRi",
        "colab": {}
      },
      "source": [
        "X_train, X_test, y_train, y_test = train_test_split(iris.data, iris.target, test_size=0.1, stratify=iris.target)"
      ],
      "execution_count": 0,
      "outputs": []
    },
    {
      "cell_type": "code",
      "metadata": {
        "colab_type": "code",
        "id": "w3HxH6aaQmRt",
        "colab": {}
      },
      "source": [
        "clf = KNeighborsClassifier(n_neighbors=2, algorithm='brute')\n",
        "my_clf = MyKNeighborsClassifier(n_neighbors=2, algorithm='brute')"
      ],
      "execution_count": 0,
      "outputs": []
    },
    {
      "cell_type": "code",
      "metadata": {
        "colab_type": "code",
        "id": "uqch72GEQmR4",
        "colab": {}
      },
      "source": [
        "clf.fit(X_train, y_train)\n",
        "my_clf.fit(X_train, y_train)"
      ],
      "execution_count": 0,
      "outputs": []
    },
    {
      "cell_type": "code",
      "metadata": {
        "colab_type": "code",
        "id": "amgnM4LSQmSC",
        "colab": {}
      },
      "source": [
        "sklearn_pred = clf.predict(X_test)\n",
        "my_clf_pred = my_clf.predict(X_test)\n",
        "assert abs( accuracy_score(y_test, my_clf_pred) -  accuracy_score(y_test, sklearn_pred ) )<0.005, \"Score must be simillar\""
      ],
      "execution_count": 0,
      "outputs": []
    },
    {
      "cell_type": "markdown",
      "metadata": {
        "colab_type": "text",
        "id": "DDtFReomQmSJ"
      },
      "source": [
        "**Задание 2 (0.5 балла)**\n",
        "\n",
        "Давайте попробуем добиться скорости работы на fit, predict сравнимой со sklearn для iris. Допускается замедление не более чем в 2 раза. \n",
        "Для этого используем numpy. "
      ]
    },
    {
      "cell_type": "code",
      "metadata": {
        "colab_type": "code",
        "id": "6bg1nr0GQmSL",
        "colab": {
          "base_uri": "https://localhost:8080/",
          "height": 102
        },
        "outputId": "fb604ce3-d914-40ae-b781-2270d505c655"
      },
      "source": [
        "%time clf.fit(X_train, y_train)"
      ],
      "execution_count": 9,
      "outputs": [
        {
          "output_type": "stream",
          "text": [
            "CPU times: user 1.31 ms, sys: 68 µs, total: 1.38 ms\n",
            "Wall time: 2.21 ms\n"
          ],
          "name": "stdout"
        },
        {
          "output_type": "execute_result",
          "data": {
            "text/plain": [
              "KNeighborsClassifier(algorithm='brute', leaf_size=30, metric='minkowski',\n",
              "                     metric_params=None, n_jobs=None, n_neighbors=2, p=2,\n",
              "                     weights='uniform')"
            ]
          },
          "metadata": {
            "tags": []
          },
          "execution_count": 9
        }
      ]
    },
    {
      "cell_type": "code",
      "metadata": {
        "colab_type": "code",
        "id": "jLNf7rWPQmSV",
        "colab": {
          "base_uri": "https://localhost:8080/",
          "height": 51
        },
        "outputId": "abc205ac-66af-49be-8230-ccd395fd29cd"
      },
      "source": [
        "%time my_clf.fit(X_train, y_train)"
      ],
      "execution_count": 10,
      "outputs": [
        {
          "output_type": "stream",
          "text": [
            "CPU times: user 380 µs, sys: 85 µs, total: 465 µs\n",
            "Wall time: 601 µs\n"
          ],
          "name": "stdout"
        }
      ]
    },
    {
      "cell_type": "code",
      "metadata": {
        "colab_type": "code",
        "id": "XyZNjAgwQmSe",
        "colab": {
          "base_uri": "https://localhost:8080/",
          "height": 68
        },
        "outputId": "9bd55a30-e3d4-4c86-d89c-5428a507751a"
      },
      "source": [
        "%time clf.predict(X_test)"
      ],
      "execution_count": 11,
      "outputs": [
        {
          "output_type": "stream",
          "text": [
            "CPU times: user 2.18 ms, sys: 40 µs, total: 2.22 ms\n",
            "Wall time: 2.48 ms\n"
          ],
          "name": "stdout"
        },
        {
          "output_type": "execute_result",
          "data": {
            "text/plain": [
              "array([2, 1, 1, 0, 0, 2, 0, 1, 1, 2, 2, 1, 0, 1, 0])"
            ]
          },
          "metadata": {
            "tags": []
          },
          "execution_count": 11
        }
      ]
    },
    {
      "cell_type": "code",
      "metadata": {
        "colab_type": "code",
        "id": "HxvPMzlYQmSl",
        "colab": {
          "base_uri": "https://localhost:8080/",
          "height": 68
        },
        "outputId": "c543a22d-db95-4ebf-e180-05082fedf4ec"
      },
      "source": [
        "%time my_clf.predict(X_test)"
      ],
      "execution_count": 12,
      "outputs": [
        {
          "output_type": "stream",
          "text": [
            "CPU times: user 935 µs, sys: 764 µs, total: 1.7 ms\n",
            "Wall time: 3.19 ms\n"
          ],
          "name": "stdout"
        },
        {
          "output_type": "execute_result",
          "data": {
            "text/plain": [
              "array([2, 1, 1, 0, 0, 2, 0, 1, 1, 2, 2, 1, 0, 1, 0])"
            ]
          },
          "metadata": {
            "tags": []
          },
          "execution_count": 12
        }
      ]
    },
    {
      "cell_type": "markdown",
      "metadata": {
        "colab_type": "text",
        "id": "gsYfB9iAQmSw"
      },
      "source": [
        "###### Задание 3 (1 балл)\n",
        "Добавьте algorithm='kd_tree' в реализацию KNN (использовать KDTree из sklearn.neighbors). Необходимо добиться скорости работы на fit,  predict сравнимой со sklearn для iris. Допускается замедление не более чем в 2 раза. \n",
        "Для этого используем numpy. Точность не должна уступать значению KNN из sklearn. "
      ]
    },
    {
      "cell_type": "code",
      "metadata": {
        "colab_type": "code",
        "id": "kTKN5QCwQmSy",
        "colab": {}
      },
      "source": [
        "clf = KNeighborsClassifier(n_neighbors=2, algorithm='kd_tree')\n",
        "my_clf = MyKNeighborsClassifier(n_neighbors=2, algorithm='kd_tree')"
      ],
      "execution_count": 0,
      "outputs": []
    },
    {
      "cell_type": "code",
      "metadata": {
        "colab_type": "code",
        "id": "UJF9vY2_QmS5",
        "colab": {}
      },
      "source": [
        "X_train, X_test, y_train, y_test = train_test_split(iris.data, iris.target, test_size=0.1, stratify=iris.target)"
      ],
      "execution_count": 0,
      "outputs": []
    },
    {
      "cell_type": "code",
      "metadata": {
        "colab_type": "code",
        "id": "_yMKYX5kQmTC",
        "colab": {
          "base_uri": "https://localhost:8080/",
          "height": 102
        },
        "outputId": "dbec69a5-fb60-4892-ed97-78f9d0db1b58"
      },
      "source": [
        "%time clf.fit(X_train, y_train)"
      ],
      "execution_count": 15,
      "outputs": [
        {
          "output_type": "stream",
          "text": [
            "CPU times: user 1.57 ms, sys: 0 ns, total: 1.57 ms\n",
            "Wall time: 10.4 ms\n"
          ],
          "name": "stdout"
        },
        {
          "output_type": "execute_result",
          "data": {
            "text/plain": [
              "KNeighborsClassifier(algorithm='kd_tree', leaf_size=30, metric='minkowski',\n",
              "                     metric_params=None, n_jobs=None, n_neighbors=2, p=2,\n",
              "                     weights='uniform')"
            ]
          },
          "metadata": {
            "tags": []
          },
          "execution_count": 15
        }
      ]
    },
    {
      "cell_type": "code",
      "metadata": {
        "colab_type": "code",
        "id": "3d4ZQ-IsQmTK",
        "colab": {
          "base_uri": "https://localhost:8080/",
          "height": 51
        },
        "outputId": "997c30f0-f51d-46d0-c2a8-4a4c5866ca85"
      },
      "source": [
        "%time my_clf.fit(X_train, y_train)"
      ],
      "execution_count": 16,
      "outputs": [
        {
          "output_type": "stream",
          "text": [
            "CPU times: user 418 µs, sys: 0 ns, total: 418 µs\n",
            "Wall time: 534 µs\n"
          ],
          "name": "stdout"
        }
      ]
    },
    {
      "cell_type": "code",
      "metadata": {
        "colab_type": "code",
        "id": "oKAp6rsaQmTS",
        "colab": {
          "base_uri": "https://localhost:8080/",
          "height": 68
        },
        "outputId": "4aecb2a6-c608-4dc9-8c55-3fc23e0bb410"
      },
      "source": [
        "%time clf.predict(X_test)"
      ],
      "execution_count": 17,
      "outputs": [
        {
          "output_type": "stream",
          "text": [
            "CPU times: user 1.96 ms, sys: 1.78 ms, total: 3.74 ms\n",
            "Wall time: 2.98 ms\n"
          ],
          "name": "stdout"
        },
        {
          "output_type": "execute_result",
          "data": {
            "text/plain": [
              "array([0, 0, 1, 1, 1, 0, 2, 2, 2, 1, 2, 0, 0, 1, 2])"
            ]
          },
          "metadata": {
            "tags": []
          },
          "execution_count": 17
        }
      ]
    },
    {
      "cell_type": "code",
      "metadata": {
        "colab_type": "code",
        "id": "lwghtoeZQmTZ",
        "colab": {
          "base_uri": "https://localhost:8080/",
          "height": 68
        },
        "outputId": "c77f0075-7b1c-4aa7-b3c4-d7696444c952"
      },
      "source": [
        "%time my_clf.predict(X_test)"
      ],
      "execution_count": 18,
      "outputs": [
        {
          "output_type": "stream",
          "text": [
            "CPU times: user 1.62 ms, sys: 137 µs, total: 1.76 ms\n",
            "Wall time: 1.22 ms\n"
          ],
          "name": "stdout"
        },
        {
          "output_type": "execute_result",
          "data": {
            "text/plain": [
              "array([0, 0, 1, 1, 1, 0, 2, 2, 2, 1, 2, 0, 0, 1, 2])"
            ]
          },
          "metadata": {
            "tags": []
          },
          "execution_count": 18
        }
      ]
    },
    {
      "cell_type": "code",
      "metadata": {
        "colab_type": "code",
        "id": "FkzB_ZSDQmTk",
        "colab": {}
      },
      "source": [
        "sklearn_pred = clf.predict(X_test)\n",
        "my_clf_pred = my_clf.predict(X_test)\n",
        "assert abs( accuracy_score(y_test, my_clf_pred) -  accuracy_score(y_test, sklearn_pred ) )<0.005, \"Score must be simillar\""
      ],
      "execution_count": 0,
      "outputs": []
    },
    {
      "cell_type": "markdown",
      "metadata": {
        "colab_type": "text",
        "id": "t_NvqFpbQmTt"
      },
      "source": [
        "**Задание 4 (2.5 балла)**\n",
        "\n",
        "Рассмотрим новый датасет 20 newsgroups"
      ]
    },
    {
      "cell_type": "code",
      "metadata": {
        "colab_type": "code",
        "id": "oFTO0g2yQmTv",
        "colab": {
          "base_uri": "https://localhost:8080/",
          "height": 51
        },
        "outputId": "72cf7413-148b-45cd-82f3-2c7a7706bdc1"
      },
      "source": [
        "newsgroups = fetch_20newsgroups(subset='train',remove=['headers','footers', 'quotes'])"
      ],
      "execution_count": 20,
      "outputs": [
        {
          "output_type": "stream",
          "text": [
            "Downloading 20news dataset. This may take a few minutes.\n",
            "Downloading dataset from https://ndownloader.figshare.com/files/5975967 (14 MB)\n"
          ],
          "name": "stderr"
        }
      ]
    },
    {
      "cell_type": "code",
      "metadata": {
        "colab_type": "code",
        "id": "l74jbs3cQmT1",
        "colab": {}
      },
      "source": [
        "data = newsgroups['data']\n",
        "target = newsgroups['target']"
      ],
      "execution_count": 0,
      "outputs": []
    },
    {
      "cell_type": "markdown",
      "metadata": {
        "colab_type": "text",
        "id": "LgQ_6xugQmT7"
      },
      "source": [
        "Преобразуйте текстовые данные из data с помощью [CountVectorizer](https://scikit-learn.org/stable/modules/generated/sklearn.feature_extraction.text.CountVectorizer.html). Словарь можно ограничить по частотности."
      ]
    },
    {
      "cell_type": "code",
      "metadata": {
        "id": "bmjgPhYeoQVH",
        "colab_type": "code",
        "colab": {
          "base_uri": "https://localhost:8080/",
          "height": 68
        },
        "outputId": "2daa6051-8b8a-4cee-9545-395ce84bded8"
      },
      "source": [
        "TOKEN_RE = re.compile(r'[\\w\\d]+')\n",
        "\n",
        "def tokenize_sentence(txt, min_token_size=3):\n",
        "    tokens = TOKEN_RE.findall(txt.lower())\n",
        "    return [token for token in tokens if len(token) >= min_token_size]\n",
        "\n",
        "def tokinize_corpus(corpus, \n",
        "                    target,\n",
        "                    min_doc_size = 1, \n",
        "                    min_token_size = 3,\n",
        "                    tokenizer=tokenize_sentence):\n",
        "  \n",
        "    data_tokenized = [token for token in [tokenizer(line, min_token_size) for line in corpus] if len(token) >= min_doc_size]\n",
        "    new_labels = [target[i] for i in range(len(corpus)) if len(tokenizer(corpus[i], min_token_size)) >= min_doc_size]\n",
        "    return data_tokenized, new_labels\n",
        "\n",
        "doc_size = 1   # Minimum of Document Size\n",
        "token_size = 4 # Minimum of Token Size\n",
        "data_tok, labels = tokinize_corpus(data,\n",
        "                                   target,\n",
        "                                   min_doc_size=doc_size,\n",
        "                                   min_token_size=token_size)\n",
        "\n",
        "print('Токенизация и фильтрация корпуса по минимальным длине слова и документа:')\n",
        "print('Кол-во текстов в выборке:', len(data_tok)) # Должны совпадать\n",
        "print('Кол-во меток:', len(labels)) # Должны совпадать"
      ],
      "execution_count": 22,
      "outputs": [
        {
          "output_type": "stream",
          "text": [
            "Токенизация и фильтрация корпуса по минимальным длине слова и документа:\n",
            "Кол-во текстов в выборке: 10995\n",
            "Кол-во меток: 10995\n"
          ],
          "name": "stdout"
        }
      ]
    },
    {
      "cell_type": "code",
      "metadata": {
        "id": "uMfCCjSmoQVN",
        "colab_type": "code",
        "colab": {
          "base_uri": "https://localhost:8080/",
          "height": 34
        },
        "outputId": "47067a33-c6d9-4119-a952-bb5a8abfcf27"
      },
      "source": [
        "def build_vocabilary(texts, min_word_count=5, max_word_freq=0.8, max_size=-1):\n",
        "    word_counts = ddict(int)\n",
        "    corpus_len = len(texts)\n",
        "\n",
        "    # Считаем кол-во встречаемости слова в корпусе и ков-во документов в нем\n",
        "    for text in texts:\n",
        "        unique_tokens = set(text)\n",
        "        for token in unique_tokens:\n",
        "            word_counts[token] += 1\n",
        "\n",
        "    # Убираем слишком частные и слишком редкие слова (вспомним расспределение Ципфа)\n",
        "    word_counts = {word: cnt for word, cnt in word_counts.items()\\\n",
        "                  if cnt >= min_word_count and cnt / corpus_len <= max_word_freq}\n",
        "\n",
        "    # Сортируем слова по убыванию частоты\n",
        "    sorted_word_counts = sorted(word_counts.items(),\n",
        "                                reverse=True,\n",
        "                                key=lambda pair: pair[1])[:max_size]\n",
        "  \n",
        "    # Нумеруем слова\n",
        "    word2id = {word: i for i, (word, _) in enumerate(sorted_word_counts)}\n",
        "\n",
        "    # Нормируем слова (частота слова в корпусе)\n",
        "    word2freq = np.array( [word_count/corpus_len for _, word_count in sorted_word_counts], dtype='float32') # В дальнейшем будет использовать для построения TFIDF\n",
        "\n",
        "    return word2id, word2freq\n",
        "\n",
        "word_count = 3  # Порог снизу на кол-во появления слова во всем корпусе (чтобы убирать очень редко употребимые слова - двадцатибуквенный, превет, ...)\n",
        "word_freq = 0.8 # Порог сверху на долю текстов, в которых слово встречалось (чтобы убирать слишком часто употрибимые слова - у, в, над, и, ...)\n",
        "doc_size = -1   # Порог на кол-во возможных слов в корпусе (в силу построения словаря, срез происходит отсечением более редких слов, т.е. отбрасыванием хвоста словаря)\n",
        "\n",
        "# Словарь - мн-во пар вида (токен, id), где токен с меньшим id, встречается чаще, чем с большим\n",
        "vocabulary, word_doc_freq = build_vocabilary(data_tok,\n",
        "                                        word_count,\n",
        "                                        word_freq,\n",
        "                                        doc_size)\n",
        "\n",
        "print('Мощность используемой лексики: ', len(vocabulary))"
      ],
      "execution_count": 23,
      "outputs": [
        {
          "output_type": "stream",
          "text": [
            "Мощность используемой лексики:  22350\n"
          ],
          "name": "stdout"
        }
      ]
    },
    {
      "cell_type": "code",
      "metadata": {
        "id": "5IGUB5TfoQVX",
        "colab_type": "code",
        "colab": {
          "base_uri": "https://localhost:8080/",
          "height": 51
        },
        "outputId": "42872ee7-089a-4c78-fce3-611735aad372"
      },
      "source": [
        "print(\"5 самых частых слов: \", list(vocabulary.keys())[:10])\n",
        "print(\"5 самых редких слов: \", list(vocabulary.keys())[-5:])"
      ],
      "execution_count": 24,
      "outputs": [
        {
          "output_type": "stream",
          "text": [
            "5 самых частых слов:  ['that', 'this', 'have', 'with', 'from', 'they', 'there', 'would', 'what', 'about']\n",
            "5 самых редких слов:  ['punk', 'oftentimes', 'contraband', 'swamping', 'hunch']\n"
          ],
          "name": "stdout"
        }
      ]
    },
    {
      "cell_type": "code",
      "metadata": {
        "id": "QwmqENkToQVg",
        "colab_type": "code",
        "colab": {
          "base_uri": "https://localhost:8080/",
          "height": 34
        },
        "outputId": "dd30ec09-bd92-40f5-b41f-566dcb01da86"
      },
      "source": [
        "def vectorize_text(tokenized_corpus,\n",
        "                   word2id, word2freq,\n",
        "                   mode='count',\n",
        "                   scale=False):\n",
        "\n",
        "    assert(mode in ['count', 'bin', 'tfidf']) # Вообще говоря, можно добавить вполне просто mode'ы такие как -\n",
        "                                              # - 'tf', 'idf', 'ltfidf', но чтобы не загромождать и так большой код включать их сюда не будем.\n",
        "\n",
        "    result = lil_matrix((len(tokenized_corpus), len(word2id)), dtype='float32')\n",
        "  \n",
        "    for text_id, text in enumerate(tokenized_corpus):\n",
        "        for token in text:\n",
        "            if token in word2id:\n",
        "                result[text_id, word2id[token]] += 1\n",
        "  \n",
        "    if mode == 'bin':\n",
        "        result = (result > 0).astype('float32')\n",
        "  \n",
        "    elif mode == 'tfidf':\n",
        "        result = result.tocsr()\n",
        "        result = result.multiply(1 / result.sum(axis=1)) # Частоты слов в документе (tf)\n",
        "        result = result.multiply(1 / word2freq)          # Обратные частоты слов в корпусе (idf) \n",
        "\n",
        "    if scale:\n",
        "        result = result.tocsc()\n",
        "        result -= result.min() # Стандартизируем, т.к. нормализация не подходит -\n",
        "        result /= result.max() + 1e-6 # - в силу того, что матрица перестанет быть разреженной.\n",
        "  \n",
        "    return result.tocsr() # csr - лучше подходит для работы со строками\n",
        "\n",
        "matrix = vectorize_text(data_tok, vocabulary, word_doc_freq)\n",
        "print('Размер матрицы признаков (документ, слово):', matrix.shape)"
      ],
      "execution_count": 25,
      "outputs": [
        {
          "output_type": "stream",
          "text": [
            "Размер матрицы признаков (документ, слово): (10995, 22350)\n"
          ],
          "name": "stdout"
        }
      ]
    },
    {
      "cell_type": "code",
      "metadata": {
        "id": "blmv1TXWoQVn",
        "colab_type": "code",
        "colab": {
          "base_uri": "https://localhost:8080/",
          "height": 34
        },
        "outputId": "25b82d9d-b122-408c-e26e-24d3c46650ac"
      },
      "source": [
        "# Ну или можно и так\n",
        "from sklearn.feature_extraction.text import CountVectorizer\n",
        "vectorizer = CountVectorizer()\n",
        "matrix_from_box = vectorizer.fit_transform(data)\n",
        "print('Размер матрицы признаков (документ, слово):', matrix_from_box.shape)"
      ],
      "execution_count": 28,
      "outputs": [
        {
          "output_type": "stream",
          "text": [
            "Размер матрицы признаков (документ, слово): (11314, 101631)\n"
          ],
          "name": "stdout"
        }
      ]
    },
    {
      "cell_type": "markdown",
      "metadata": {
        "colab_type": "text",
        "id": "F9R7arPWQmUQ"
      },
      "source": [
        "*Так мы получили векторное представление наших текстов. Значит можно приступать к задаче обучения модели*"
      ]
    },
    {
      "cell_type": "markdown",
      "metadata": {
        "colab_type": "text",
        "id": "bW8xrY5lQmUT"
      },
      "source": [
        "Реализуйте разбиение выборки для кросс-валидации на 3 фолдах. Разрешено использовать sklearn.cross_validation"
      ]
    },
    {
      "cell_type": "code",
      "metadata": {
        "colab_type": "code",
        "id": "pwlyipVmQmUV",
        "colab": {}
      },
      "source": [
        "def K_fold(data, target, K_fold = 3, seed=2357): # Получаем tuple(пару), в каждом из которых K_fold np.array'ев - объекты и соотв-ие им метки.\n",
        "    np.random.seed(seed)\n",
        "    data_size = data.shape[0] // K_fold\n",
        "    rows = np.random.permutation(np.arange(data_size * K_fold))\n",
        "    indexes = [rows[fold*data_size:(fold+1)*data_size].tolist() for fold in range(K_fold)]\n",
        "    return np.array([data[indx] for indx in indexes]), np.array([np.asarray(target)[indx] for indx in indexes])"
      ],
      "execution_count": 0,
      "outputs": []
    },
    {
      "cell_type": "code",
      "metadata": {
        "colab_type": "code",
        "id": "U-vlwbidQmUb",
        "colab": {}
      },
      "source": [
        "def cross_val_score(objects, targets, model, metric, num_fold=3, seed=2357):\n",
        "    X, y = K_fold(objects, targets, K_fold=num_fold, seed=seed)\n",
        "    score_history = []\n",
        "\n",
        "    for i in range(num_fold):\n",
        "        train_index = [indx for indx in range(0,i)] + [indx for indx in range(i+1,num_fold)]\n",
        "\n",
        "        X_train = X[train_index[0]]\n",
        "        y_train = y[train_index[0]]\n",
        "      \n",
        "        for index in train_index[1:]:\n",
        "            X_train = sp_vstack((X_train,X[index]))\n",
        "            y_train = np.hstack((y_train,y[index]))\n",
        "\n",
        "        X_val, y_val = X[i], y[i]\n",
        "        model.fit(X_train, y_train)\n",
        "        score = metric(model.predict(X_val), y_val)\n",
        "        score_history.append(score)\n",
        "    return score_history"
      ],
      "execution_count": 0,
      "outputs": []
    },
    {
      "cell_type": "markdown",
      "metadata": {
        "colab_type": "text",
        "id": "VWJULRohQmUh"
      },
      "source": [
        "Напишите метод, позволяющий найти оптимальное количество ближайших соседей(дающее максимальную точность в среднем на валидации на 3 фолдах).\n",
        "Постройте график зависимости средней точности от количества соседей. Можно рассмотреть число соседей от 1 до 10."
      ]
    },
    {
      "cell_type": "code",
      "metadata": {
        "colab_type": "code",
        "id": "LN_u8sloQmUj",
        "colab": {
          "base_uri": "https://localhost:8080/",
          "height": 153
        },
        "outputId": "6b39e603-bded-4d9b-cdcc-6efc4d1db61e"
      },
      "source": [
        "num_fold = 3\n",
        "all_score_history = []\n",
        "for k_neighbors in range(1,40):\n",
        "    \n",
        "    my_clf = MyKNeighborsClassifier(n_neighbors=k_neighbors, algorithm='brute')\n",
        "    score_history = cross_val_score(matrix, labels, my_clf, accuracy_score, num_fold)\n",
        "    all_score_history.append(np.mean(score_history))\n",
        "\n",
        "    if (k_neighbors-1) % 5 == 0:\n",
        "        print('kn =', k_neighbors, \", mean_score: %.4f\" % all_score_history[-1])"
      ],
      "execution_count": 31,
      "outputs": [
        {
          "output_type": "stream",
          "text": [
            "kn = 1 , mean_score: 0.2364\n",
            "kn = 6 , mean_score: 0.1983\n",
            "kn = 11 , mean_score: 0.1954\n",
            "kn = 16 , mean_score: 0.1919\n",
            "kn = 21 , mean_score: 0.1917\n",
            "kn = 26 , mean_score: 0.1880\n",
            "kn = 31 , mean_score: 0.1875\n",
            "kn = 36 , mean_score: 0.1866\n"
          ],
          "name": "stdout"
        }
      ]
    },
    {
      "cell_type": "code",
      "metadata": {
        "id": "bGpwDxOvoQWN",
        "colab_type": "code",
        "colab": {},
        "outputId": "b4b05065-1630-447f-aa2c-f14dd5e6281e"
      },
      "source": [
        "# Рисуем график loss-функции от k_neighbors\n",
        "\n",
        "fig = plt.figure(figsize= (24,6))\n",
        "ax=fig.add_subplot(111)\n",
        "ax.set_xlabel('K_neighbors')\n",
        "ax.set_ylabel('Mean score')\n",
        "plt.plot(all_score_history);"
      ],
      "execution_count": 0,
      "outputs": [
        {
          "output_type": "display_data",
          "data": {
            "image/png": "[encoded data removed]",
            "text/plain": [
              "<Figure size 1728x432 with 1 Axes>"
            ]
          },
          "metadata": {
            "tags": [],
            "needs_background": "light"
          }
        }
      ]
    },
    {
      "cell_type": "markdown",
      "metadata": {
        "colab_type": "text",
        "id": "s6Vc3TCvQmUq"
      },
      "source": [
        "Как изменится качество на валидации, если:\n",
        "\n",
        "1. Используется косинусная метрика вместо евклидовой.\n",
        "2. К текстам применяется TfIdf векторизацию( sklearn.feature_extraction.text.TfidfVectorizer)\n",
        "\n",
        "Сравните модели, выберите лучшую."
      ]
    },
    {
      "cell_type": "code",
      "metadata": {
        "id": "Eh00wrpJoQWW",
        "colab_type": "code",
        "colab": {
          "base_uri": "https://localhost:8080/",
          "height": 357
        },
        "outputId": "6187e1d0-27ba-4f2d-e674-9b5f9f073016"
      },
      "source": [
        "# Постараемся еще сильнее уменьшить влияние переобучения \n",
        "#  (увеличим кол-во итераций для подсчета score до 15)\n",
        "#  (поменяем способ высчитывания среднего score)\n",
        "\n",
        "matrix = vectorize_text(data_tok, vocabulary, word_doc_freq, mode='tfidf')\n",
        "num_fold = 3\n",
        "all_score_history = []\n",
        "\n",
        "for k_neighbors in range(1,200,10):\n",
        "    \n",
        "    my_clf = MyKNeighborsClassifier(n_neighbors=k_neighbors, metric='cosine', algorithm='brute')\n",
        "\n",
        "    score_history = []\n",
        "    for seed in [2357,2375,2537,2573,2735]:\n",
        "        score_history += cross_val_score(objects = matrix,\n",
        "                                         targets = labels,\n",
        "                                         model = my_clf,\n",
        "                                         metric = accuracy_score,\n",
        "                                         num_fold = num_fold,\n",
        "                                         seed = seed)\n",
        "      \n",
        "    all_score_history.append(np.mean(sorted(score_history)[3:-3])) # Считаем среднее между квантилями, чтобы избежать влияние выбросов.\n",
        "\n",
        "    print('kn =', k_neighbors, \", mean_score: %.4f\" % all_score_history[-1])"
      ],
      "execution_count": 33,
      "outputs": [
        {
          "output_type": "stream",
          "text": [
            "kn = 1 , mean_score: 0.4864\n",
            "kn = 11 , mean_score: 0.6101\n",
            "kn = 21 , mean_score: 0.6478\n",
            "kn = 31 , mean_score: 0.6593\n",
            "kn = 41 , mean_score: 0.6640\n",
            "kn = 51 , mean_score: 0.6662\n",
            "kn = 61 , mean_score: 0.6673\n",
            "kn = 71 , mean_score: 0.6685\n",
            "kn = 81 , mean_score: 0.6684\n",
            "kn = 91 , mean_score: 0.6682\n",
            "kn = 101 , mean_score: 0.6687\n",
            "kn = 111 , mean_score: 0.6700\n",
            "kn = 121 , mean_score: 0.6677\n",
            "kn = 131 , mean_score: 0.6682\n",
            "kn = 141 , mean_score: 0.6660\n",
            "kn = 151 , mean_score: 0.6646\n",
            "kn = 161 , mean_score: 0.6638\n",
            "kn = 171 , mean_score: 0.6637\n",
            "kn = 181 , mean_score: 0.6620\n",
            "kn = 191 , mean_score: 0.6613\n"
          ],
          "name": "stdout"
        }
      ]
    },
    {
      "cell_type": "code",
      "metadata": {
        "id": "7hYoqda3rYCa",
        "colab_type": "code",
        "colab": {
          "base_uri": "https://localhost:8080/",
          "height": 389
        },
        "outputId": "752a1708-3cd8-4657-d83c-edeb110d3c84"
      },
      "source": [
        "# Давайте лишний раз посмотреть на график\n",
        "\n",
        "fig = plt.figure(figsize= (24,6))\n",
        "ax=fig.add_subplot(111)\n",
        "x_scope = [i*10 for i in range(len(all_score_history))]\n",
        "ax.plot(x_scope[5:], all_score_history[5:], color = 'r', linewidth = 2)\n",
        "ax.set_ylabel('Mean score')\n",
        "ax.set_xlabel('k_neighbors');"
      ],
      "execution_count": 43,
      "outputs": [
        {
          "output_type": "display_data",
          "data": {
            "image/png": "[encoded data removed]",
            "text/plain": [
              "<Figure size 1728x432 with 1 Axes>"
            ]
          },
          "metadata": {
            "tags": []
          }
        }
      ]
    },
    {
      "cell_type": "code",
      "metadata": {
        "id": "uUHpfY5itwMu",
        "colab_type": "code",
        "colab": {}
      },
      "source": [
        "# Лучший результат score = 0.67, kn = 110."
      ],
      "execution_count": 0,
      "outputs": []
    },
    {
      "cell_type": "markdown",
      "metadata": {
        "colab_type": "text",
        "id": "dl9eJ-86rqDX"
      },
      "source": [
        "Загрузим  теперь test  часть нашей выборки и преобразуем её аналогично с train частью. Не забудьте, что наборы слов в train и test части могут отличаться."
      ]
    },
    {
      "cell_type": "code",
      "metadata": {
        "colab_type": "code",
        "id": "UqV5YAo6QmUw",
        "colab": {}
      },
      "source": [
        "newsgroups = fetch_20newsgroups(subset='test',remove=['headers','footers', 'quotes'])\n",
        "\n",
        "test_data = newsgroups['data']\n",
        "test_target = newsgroups['target']\n",
        "\n",
        "data_tok, test_labels = tokinize_corpus(test_data,\n",
        "                                        test_target,\n",
        "                                        min_doc_size=doc_size,\n",
        "                                        min_token_size=token_size)\n",
        "test_matrix = vectorize_text(data_tok,\n",
        "                             vocabulary,\n",
        "                             word_doc_freq,\n",
        "                             mode='tfidf') # Vocabulary, word_doc_freq  беруться из трейна, -\n",
        "                                           #  - т.к. они не известны на тесте."
      ],
      "execution_count": 0,
      "outputs": []
    },
    {
      "cell_type": "markdown",
      "metadata": {
        "colab_type": "text",
        "id": "se0_vNGnQmU6"
      },
      "source": [
        "Оценим точность вашей лучшей модели на test части датасета. Отличается ли оно от кросс-валидации? Попробуйте сделать выводы, почему отличается качество."
      ]
    },
    {
      "cell_type": "code",
      "metadata": {
        "colab_type": "code",
        "id": "Iq3G1UTKQmU8",
        "colab": {}
      },
      "source": [
        "data_tok, train_labels = tokinize_corpus(data, target, min_doc_size=doc_size, min_token_size=token_size) \n",
        "vocabulary, word_doc_freq = build_vocabilary(data_tok, word_count, word_freq, doc_size)\n",
        "train_matrix = vectorize_text(data_tok, vocabulary, word_doc_freq, mode='tfidf')"
      ],
      "execution_count": 0,
      "outputs": []
    },
    {
      "cell_type": "code",
      "metadata": {
        "id": "HJQrDqfUoQXL",
        "colab_type": "code",
        "colab": {}
      },
      "source": [
        "my_clf = MyKNeighborsClassifier(n_neighbors=110, metric='cosine', algorithm='brute')\n",
        "my_clf.fit(train_matrix, train_labels)"
      ],
      "execution_count": 0,
      "outputs": []
    },
    {
      "cell_type": "code",
      "metadata": {
        "id": "yFesvjMgoQXP",
        "colab_type": "code",
        "colab": {
          "base_uri": "https://localhost:8080/",
          "height": 34
        },
        "outputId": "d06b6bfc-af93-4e7c-dc06-e502077a9e5a"
      },
      "source": [
        "print('Final(test) score: %.4f - (Accuaracy)' % accuracy_score(my_clf.predict(test_matrix), test_labels))"
      ],
      "execution_count": 47,
      "outputs": [
        {
          "output_type": "stream",
          "text": [
            "Final(test) score: 0.6317 - (Accuaracy)\n"
          ],
          "name": "stdout"
        }
      ]
    },
    {
      "cell_type": "markdown",
      "metadata": {
        "id": "UjHpjpLcuaB8",
        "colab_type": "text"
      },
      "source": [
        "Вывод: Качество на тесте уступает качеству на кросс валидации, вообще говоря это далеко не тривиальный вопрос, но можно с уверенностью сказать, что мы не избавились полностью от переобучения даже используя хитрые способы подсчета статистик (ошибки), т.к. мы не строили каждый раз новый словарь (vocabulary и word_doc_freq) и знали зарания параметры tfidf, чего не знали при тесте.\n"
      ]
    }
  ]
}