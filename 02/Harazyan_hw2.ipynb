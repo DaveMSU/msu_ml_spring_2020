{
 "cells": [
  {
   "cell_type": "markdown",
   "metadata": {
    "colab_type": "text",
    "id": "WlZSuhJ4JOt5"
   },
   "source": [
    "# Алгоритмы интеллектуальной обработки больших объемов данных\n",
    "## Домашнее задание №2: Линейные модели\n"
   ]
  },
  {
   "cell_type": "markdown",
   "metadata": {
    "colab_type": "text",
    "id": "bDSbEqifJOt-"
   },
   "source": [
    "###### <hr\\>\n",
    "**Общая информация**\n",
    "\n",
    "**Срок сдачи:** 24 марта 18:00 Сдача **очная** на занятии. <br\\>\n",
    "\n",
    "\n",
    "Используйте данный Ipython Notebook при оформлении домашнего задания.\n",
    "\n",
    "**Штрафные баллы:**\n",
    "\n",
    "1. Невыполнение PEP8 -1 балл\n",
    "2. Отсутствие фамилии в имени скрипта (скрипт должен называться по аналогии со stroykova_hw2.ipynb) -1 балл\n",
    "3. Все строчки должны быть выполнены. Нужно, чтобы output команды можно было увидеть уже в git'е. В противном случае -1 балл\n",
    "4. При оформлении ДЗ нужно пользоваться данным файлом в качестве шаблона. Не нужно удалять и видоизменять написанный код и текст, если явно не указана такая возможность. В противном случае -1 балл\n",
    "<hr\\>"
   ]
  },
  {
   "cell_type": "code",
   "execution_count": 10,
   "metadata": {
    "colab": {},
    "colab_type": "code",
    "id": "1Hexf5HsJOuB"
   },
   "outputs": [],
   "source": [
    "import pandas as pd\n",
    "import numpy as np\n",
    "import matplotlib.pyplot as plt\n",
    "\n",
    "%matplotlib inline\n",
    "\n",
    "plt.style.use('ggplot')\n",
    "plt.rcParams['figure.figsize'] = (16,7)"
   ]
  },
  {
   "cell_type": "markdown",
   "metadata": {
    "colab_type": "text",
    "id": "i5bmwBJNJOuK"
   },
   "source": [
    "Здравствуйте, уважаемые студенты! \n",
    "\n",
    "В этом задании мы будем реализовать линейные модели. Необходимо реализовать линейную и логистическую регрессии с L2 регуляризацией"
   ]
  },
  {
   "cell_type": "markdown",
   "metadata": {
    "colab_type": "text",
    "id": "VWSBm0RWJOuM"
   },
   "source": [
    "# Теоретическое введение\n",
    "\n"
   ]
  },
  {
   "cell_type": "markdown",
   "metadata": {
    "colab_type": "text",
    "id": "77CDBrklJOuP"
   },
   "source": [
    "Линейная регрессия решает задачу регрессии и оптимизирует функцию потерь MSE \n",
    "\n",
    "$$L(w) =  \\frac{1}{N}\\left[\\sum_i (y_i - a_i) ^ 2 \\right], $$ где $y_i$ $-$ целевая функция,  $a_i = a(x_i) =  \\langle\\,x_i,w\\rangle ,$ $-$ предсказание алгоритма на объекте $x_i$, $w$ $-$ вектор весов (размерности $D$), $x_i$ $-$ вектор признаков (такой же размерности $D$).\n",
    "\n",
    "Не забываем, что здесь и далее  мы считаем, что в $x_i$ есть тождественный вектор единиц, ему соответствует вес $w_0$.\n"
   ]
  },
  {
   "cell_type": "markdown",
   "metadata": {
    "colab_type": "text",
    "id": "isgBFbwDJOuR"
   },
   "source": [
    "Логистическая регрессия является линейным классификатором, который оптимизирует так называемый функционал log loss:"
   ]
  },
  {
   "cell_type": "markdown",
   "metadata": {
    "colab_type": "text",
    "id": "iaxJ_b8UJOuT"
   },
   "source": [
    "$$L(w) = - \\frac{1}{N}\\left[\\sum_i y_i \\log a_i + ( 1 - y_i) \\log (1 - a_i) \\right],$$\n",
    "где  $y_i  \\in \\{0,1\\}$ $-$ метка класса, $a_i$ $-$ предсказание алгоритма на объекте $x_i$. Модель пытается предсказать апостериорую вероятность объекта принадлежать к классу \"1\":\n",
    "$$ p(y_i = 1 | x_i) = a(x_i) =  \\sigma( \\langle\\,x_i,w\\rangle ),$$\n",
    "$w$ $-$ вектор весов (размерности $D$), $x_i$ $-$ вектор признаков (такой же размерности $D$).\n",
    "\n",
    "Функция $\\sigma(x)$ $-$ нелинейная функция, пероводящее скалярное произведение объекта на веса в число $\\in (0,1)$ (мы же моделируем вероятность все-таки!)\n",
    "\n",
    "$$\\sigma(x) = \\frac{1}{1 + \\exp(-x)}$$\n",
    "\n",
    "Если внимательно посмотреть на функцию потерь, то можно заметить, что в зависимости от правильного ответа алгоритм штрафуется или функцией $-\\log a_i$, или функцией $-\\log (1 - a_i)$.\n",
    "\n"
   ]
  },
  {
   "cell_type": "markdown",
   "metadata": {
    "colab_type": "text",
    "id": "0_6_nIXbJOuW"
   },
   "source": [
    "Часто для решения проблем, которые так или иначе связаны с проблемой переобучения, в функционал качества добавляют слагаемое, которое называют ***регуляризацией***. Итоговый функционал для линейной регрессии тогда принимает вид:\n",
    "\n",
    "$$L(w) =  \\frac{1}{N}\\left[\\sum_i (y_i - a_i) ^ 2 \\right] + \\frac{1}{C}R(w) $$\n",
    "\n",
    "Для логистической: \n",
    "$$L(w) = - \\frac{1}{N}\\left[\\sum_i y_i \\log a_i + ( 1 - y_i) \\log (1 - a_i) \\right] +  \\frac{1}{C}R(w)$$\n",
    "\n",
    "Самое понятие регуляризации введено основателем ВМК академиком Тихоновым https://ru.wikipedia.org/wiki/Метод_регуляризации_Тихонова\n",
    "\n",
    "Идейно методика регуляризации заключается в следующем $-$ мы рассматриваем некорректно поставленную задачу (что это такое можно найти в интернете), для того чтобы сузить набор различных вариантов (лучшие из которых будут являться переобучением ) мы вводим дополнительные ограничения на множество искомых решений. На лекции Вы уже рассмотрели два варианта регуляризации.\n",
    "\n",
    "$L1$ регуляризация:\n",
    "$$R(w) = \\sum_{j=1}^{D}|w_j|$$\n",
    "$L2$ регуляризация:\n",
    "$$R(w) =  \\sum_{j=1}^{D}w_j^2$$\n",
    "\n",
    "С их помощью мы ограничиваем модель в  возможности выбора каких угодно весов минимизирующих наш лосс, модель уже не сможет подстроиться под данные как ей угодно. \n",
    "\n",
    "Вам нужно добавить соотвествущую Вашему варианту $L2$ регуляризацию.\n",
    "\n",
    "И так, мы поняли, какую функцию ошибки будем минимизировать, разобрались, как получить предсказания по объекту и обученным весам. Осталось разобраться, как получить оптимальные веса. Для этого нужно выбрать какой-то метод оптимизации.\n",
    "\n"
   ]
  },
  {
   "cell_type": "markdown",
   "metadata": {
    "colab_type": "text",
    "id": "kfk8nzX0JOuY"
   },
   "source": [
    "Градиентный спуск является самым популярным алгоритмом обучения линейных моделей. В этом задании Вам предложат реализовать стохастический градиентный спуск или  мини-батч градиентный спуск (мини-батч на русский язык довольно сложно перевести, многие переводят это как \"пакетный\", но мне не кажется этот перевод удачным). Далее нам потребуется определение **эпохи**.\n",
    "Эпохой в SGD и MB-GD называется один проход по **всем** объектам в обучающей выборки.\n",
    "* В SGD градиент расчитывается по одному случайному объекту. Сам алгоритм выглядит примерно так:\n",
    "        1) Перемешать выборку\n",
    "        2) Посчитать градиент функции потерь на одном объекте (далее один объект тоже будем называть батчем)\n",
    "        3) Сделать шаг спуска\n",
    "        4) Повторять 2) и 3) пока не пройдет максимальное число эпох.\n",
    "* В Mini Batch SGD - по подвыборке объектов. Сам алгоритм выглядит примерно так::\n",
    "        1) Перемешать выборку, выбрать размер мини-батча (от 1 до размера выборки)\n",
    "        2) Почитать градиент функции потерь по мини-батчу (не забыть поделить на  число объектов в мини-батче)\n",
    "        3) Сделать шаг спуска\n",
    "        4) Повторять 2) и 3) пока не пройдет максимальное число эпох.\n",
    "* Для отладки алгоритма реализуйте возможность  вывода средней ошибки на обучении модели по объектам (мини-батчам). После шага градиентного спуска посчитайте значение ошибки на объекте (или мини-батче), а затем усредните, например, по ста шагам. Если обучение проходит корректно, то мы должны увидеть, что каждые 100 шагов функция потерь уменьшается. \n",
    "* Правило останова - максимальное количество эпох\n",
    "    \n"
   ]
  },
  {
   "cell_type": "markdown",
   "metadata": {
    "colab_type": "text",
    "id": "VcvVrXBKJOua"
   },
   "source": [
    "# Теоретические вопросы (2 балла)\n",
    "В этой части Вам будут предложены теоретичские вопросы и задачи по теме. Вы, конечно, можете списать их у своего товарища или найти решение в интернете, но учтите, что они обязательно войдут в теоретический коллоквиум. Лучше разобраться в теме сейчас и успешно ответить на коллоквиуме, чем списать, не разобравшись в материале, и быть терзаемым совестью. \n",
    "\n",
    "\n",
    "Формулы надо оформлять в формате **LaTeX**."
   ]
  },
  {
   "cell_type": "markdown",
   "metadata": {
    "colab_type": "text",
    "id": "9ycxdjOgJOud"
   },
   "source": [
    "Задача 1. Градиент для линейной регрессии.\n",
    "* Выпишите формулу обновления весов для линейной регрессии с L2 регуляризацией для мини-батч градиентого спуска размера $n$:\n",
    "\n",
    "$$ w_{new} = w_{old} - ... $$\n",
    "\n",
    " Отнеситесь к этому пункту максимально серьезно, это Вам нужно будет реализовать в задании.\n",
    " \n",
    "Проанализруйте итоговую формулу градиента - как  интуитивно можно  описать, чему равен градиент?"
   ]
  },
  {
   "cell_type": "markdown",
   "metadata": {},
   "source": [
    "$$ w_{new} = (1 - \\frac{2\\alpha}{C})w_{old} + \\frac{2\\alpha}{N}\\sum_{i=1}^N\\left[(y_{i} - \\left\\langle {X_{i},w_{old}} \\right\\rangle) *X_{i}\\right]$$"
   ]
  },
  {
   "cell_type": "markdown",
   "metadata": {
    "colab_type": "text",
    "id": "09bNpKjAJOuh"
   },
   "source": [
    "Задача 2. Градиент для логистической регрессии.\n",
    "* Выпишите формулу обновления весов для логистической регрессии с L2 регуляризацией  для мини-батч градиентого спуска размера $n$:\n",
    "\n",
    "$$ w_{new} = w_{old} - ... $$\n",
    "\n",
    " Отнеситесь к этому пункту максимально серьезно, это Вам нужно будет реализовать в задании.\n",
    " \n",
    "Проанализруйте итоговую формулу градиента - как  интуитивно можно  описать, чему равен градиент? Как соотносится этот градиент с градиентом, возникающий в задаче линейной регрессии?\n",
    "\n",
    "Подсказка: Вам градиент, которой получается если “в лоб” продифференцировать,  надо немного преобразовать.\n",
    "Надо подставить, что $1 - \\sigma(w,x) $ это  $1 - a(x_i)$, а  $-\\sigma(w,x)$ это $0 - a(x_i)$.  Тогда получится свести к одной красивой формуле с линейной регрессией, которую программировать будет намного проще."
   ]
  },
  {
   "cell_type": "markdown",
   "metadata": {},
   "source": [
    "$$ w_{new} = (1 - \\frac{2\\alpha}{C})w_{old} + \\frac{2\\alpha}{N}\\sum_{i=1}^N(y_{i} - \\left\\langle {X_{i},w_{old}} \\right\\rangle) X_{i}$$"
   ]
  },
  {
   "cell_type": "markdown",
   "metadata": {},
   "source": [
    "$$ w_{new} = (1 - \\frac{2\\alpha}{C})w_{old} - \\frac{\\alpha}{N}\\sum_{i=1}^N(y_{i} - \\sigma\\langle X_{i}, w_{old}\\rangle)X_{i}$$"
   ]
  },
  {
   "cell_type": "markdown",
   "metadata": {
    "colab_type": "text",
    "id": "enxTzPrHJOum"
   },
   "source": [
    "Задача 3. Точное решение линейной регрессии\n",
    "\n",
    "На лекции было показано, что точное решение линейной регрессии имеет вид $w = (X^TX)^{-1}X^TY $. \n",
    "* Покажите, что это действительно является точкой минимума в случае, если матрица X имеет строк не меньше, чем столбцов и имеет полный ранг. Подсказка: посчитайте Гессиан и покажите, что в этом случае он положительно определен. \n",
    "* Выпишите точное решение для модели с $L2$ регуляризацией. Как L2 регуляризация помогает с точным решением где матрица X имеет линейно зависимые признаки?"
   ]
  },
  {
   "attachments": {},
   "cell_type": "markdown",
   "metadata": {
    "colab_type": "text",
    "id": "XuHlxtW6JOuo"
   },
   "source": [
    "**Гассиан всегда положителен:(X имеет полный ранг)**\n",
    "$$ Gassian = det(2X^TX) > 0 $$ (еще в этом можно убедиться, если разложить отдельно матрицы в сингулярное разложение и увидеть, что у полученной сингулярной матрицы на диагонале буду лежать квадраты собственных значений исходной матрицы, что оправдывает неотрицательность)"
   ]
  },
  {
   "attachments": {},
   "cell_type": "markdown",
   "metadata": {},
   "source": [
    "**Точное решение с L2 регуляризацией:** $$\\omega=(X^TX + \\lambda I)^{-1}X^TY$$"
   ]
  },
  {
   "cell_type": "markdown",
   "metadata": {
    "colab_type": "text",
    "id": "n_PTHXpPJOur"
   },
   "source": [
    "Задача 4.  Предсказываем вероятности.\n",
    "\n",
    "Когда говорят о логистической регрессии, произносят фразу, что она \"предсказывает вероятности положительного класса\". Давайте разберемся, что же за этим стоит. Посчитаем математическое ожидание функции потерь и проверим, что предсказание алгоритма, оптимизирующее это мат. ожидание, будет являться вероятностью положительного класса. \n",
    "\n",
    "И так, функция потерь на объекте $x_i$, который имеет метку $y_i \\in \\{0,1\\}$  для предсказания $a(x_i)$ равна:\n",
    "$$L(y_i, b) =-[y_i == 1] \\log a(x_i)  - [y_i == 0] \\log(1 - a(x_i)) $$\n",
    "\n",
    "Где $[]$ означает индикатор $-$ он равен единице, если значение внутри него истинно, иначе он равен нулю. Тогда мат. ожидание при условии конкретного $x_i$  по определение мат. ожидания дискретной случайной величины:\n",
    "$$E(L | x_i) = -p(y_i = 1 |x_i ) \\log a(x_i)  - p(y_i = 0 | x_i) \\log( 1 - a(x_i))$$\n",
    "* Докажите, что значение $a(x_i)$, минимизирующее данное мат. ожидание, в точности равно $p(y_i = 1 |x_i)$, то есть равно вероятности положительного класса.\n",
    "\n",
    "Подсказка: возможно, придется воспользоваться, что  $p(y_i = 1 | x_i) + p(y_i = 0 | x_i) = 1$"
   ]
  },
  {
   "cell_type": "markdown",
   "metadata": {},
   "source": [
    "$$\\frac{\\delta}{\\delta a(x_{i})}E(L|x_{i}) = - \\frac{p(y_{i}=1|x_{i})}{a(x_{i})} + \\frac{1-p(y_{i}=1|x_{i})}{1-a(x_{i})} = \\frac{a(x_{i})-p(y_{i}=1|x_{i})}{a(x_{i})(1-a(x_{i})}=0$$"
   ]
  },
  {
   "attachments": {},
   "cell_type": "markdown",
   "metadata": {},
   "source": [
    "$$a(x_{i})=p(i_{i}=1|x_{i})$$\n",
    "Легко видеть, что и Гессиан положительный, следовательно это точка минимума."
   ]
  },
  {
   "cell_type": "markdown",
   "metadata": {
    "colab_type": "text",
    "id": "UciK314aJOuw"
   },
   "source": [
    "Задача 5.  Смысл регуляризации.\n",
    "\n",
    "Нужно ли в L1/L2 регуляризации использовать свободный член $w_0$ (который не умножается ни на какой признак)?\n",
    "\n",
    "Подсказка: подумайте, для чего мы вводим $w_0$"
   ]
  },
  {
   "cell_type": "markdown",
   "metadata": {
    "colab_type": "text",
    "id": "1gWz9L4CJOuz"
   },
   "source": [
    "Мы используем регуляризацию, чтобы штрафовать за большую норму весов векторов, а это в свою очередь является признаком переобучения). Если мы будем штрафовать за большую норму вектора $w_0$, то это значит, что мы предполагаем близость целевой переменной к 0, что в общем случае неверно. Поэтому ответ: НЕТ."
   ]
  },
  {
   "cell_type": "markdown",
   "metadata": {
    "colab_type": "text",
    "id": "0QI1EU2wJOu1"
   },
   "source": [
    "#  Реализация линейной модели (4 балла)"
   ]
  },
  {
   "cell_type": "markdown",
   "metadata": {
    "colab_type": "text",
    "id": "_3CG6zn-JOu3"
   },
   "source": [
    "## Зачем нужны батчи?\n"
   ]
  },
  {
   "cell_type": "markdown",
   "metadata": {
    "colab_type": "text",
    "id": "6k9GAtBhJOu5"
   },
   "source": [
    "Как Вы могли заметить из теоретического введения, что в случае SGD, что в случа mini-batch GD,  на каждой итерации обновление весов  происходит только по небольшой части данных (1 пример в случае SGD, batch примеров в случае mini-batch). То есть для каждой итерации нам *** не нужна вся выборка***. Мы можем просто итерироваться по выборке, беря батч нужного размера (далее 1 объект тоже будем называть батчом).\n",
    "\n",
    "Легко заметить, что в этом случае нам не нужно загружать все данные в оперативную память, достаточно просто считать батч с диска, обновить веса, считать диска другой батч и так далее. В целях упрощения домашней работы, прямо с диска  мы считывать не будем, будем работать с обычными numpy array. \n",
    "\n",
    "\n",
    "\n"
   ]
  },
  {
   "cell_type": "markdown",
   "metadata": {
    "colab_type": "text",
    "id": "XwxXfjSfJOu7"
   },
   "source": [
    "## Немножко про генераторы в Python\n",
    "\n"
   ]
  },
  {
   "cell_type": "markdown",
   "metadata": {
    "colab_type": "text",
    "id": "WKe53z7sJOu9"
   },
   "source": [
    "Идея считывания данных кусками удачно ложится на так называемые ***генераторы*** из языка Python. В данной работе Вам предлагается не только разобраться с логистической регрессией, но  и познакомиться с таким важным элементом языка.  При желании Вы можете убрать весь код, связанный с генераторами, и реализовать логистическую регрессию и без них, ***штрафоваться это никак не будет***. Главное, чтобы сама модель была реализована правильно, и все пункты были выполнены. \n",
    "\n",
    "Подробнее можно почитать вот тут https://anandology.com/python-practice-book/iterators.html\n"
   ]
  },
  {
   "cell_type": "markdown",
   "metadata": {
    "colab_type": "text",
    "id": "CCruMI45JOvA"
   },
   "source": [
    "К генератору стоит относиться просто как к функции, которая порождает не один объект, а целую последовательность объектов. Новое значение из последовательности генерируется с помощью ключевого слова ***yield***. Ниже Вы можете насладиться  генератором чисел Фибоначчи."
   ]
  },
  {
   "cell_type": "code",
   "execution_count": 491,
   "metadata": {
    "colab": {},
    "colab_type": "code",
    "id": "o3F83GOCJOvC"
   },
   "outputs": [],
   "source": [
    "def fib(max_iter=4):\n",
    "    a, b = 0, 1\n",
    "    iter_num = 0\n",
    "    while 1:\n",
    "        yield a\n",
    "        a, b = b, a + b\n",
    "        iter_num += 1\n",
    "        if iter_num == max_iter:\n",
    "            break"
   ]
  },
  {
   "cell_type": "code",
   "execution_count": 544,
   "metadata": {},
   "outputs": [
    {
     "data": {
      "text/plain": [
       "(array([[2683,  284,  150, 1648],\n",
       "        [ 284,  408,    0, -792],\n",
       "        [ 150,    0,   18,  108],\n",
       "        [1648, -792,  108, 3552]]), 1.4679983303675893e-06)"
      ]
     },
     "execution_count": 544,
     "metadata": {},
     "output_type": "execute_result"
    }
   ],
   "source": [
    "a = np.array([[1,2,-3,4], [51,2,3,40], [9,20,0,-44]])\n",
    "np.dot(a.T,a), np.linalg.det((np.dot(a.T,a)))"
   ]
  },
  {
   "cell_type": "markdown",
   "metadata": {
    "colab_type": "text",
    "id": "oe9ymdAuJOvL"
   },
   "source": [
    "Вот так можно сгенерировать последовательность Фибоначчи. \n",
    "\n",
    "Заметьте, что к генераторам можно применять некоторые стандартные функции из Python, например enumerate."
   ]
  },
  {
   "cell_type": "code",
   "execution_count": 492,
   "metadata": {
    "colab": {},
    "colab_type": "code",
    "id": "56blF4K1JOvN",
    "outputId": "2d4873d3-26b2-4d0e-ac8c-dce3d2a593ea"
   },
   "outputs": [
    {
     "name": "stdout",
     "output_type": "stream",
     "text": [
      "Fib num: 0 fib values: 0\n",
      "Fib num: 1 fib values: 1\n",
      "Fib num: 2 fib values: 1\n",
      "Fib num: 3 fib values: 2\n"
     ]
    }
   ],
   "source": [
    "new_generator = fib()\n",
    "for j, fib_val in enumerate(new_generator):\n",
    "    print (\"Fib num: \" + str(j) + \" fib values: \" + str(fib_val))"
   ]
  },
  {
   "cell_type": "markdown",
   "metadata": {
    "colab_type": "text",
    "id": "VjUV7dwCJOvV"
   },
   "source": [
    "Пересоздавая объект, можно сколько угодно раз генерировать заново последовательность. "
   ]
  },
  {
   "cell_type": "code",
   "execution_count": 493,
   "metadata": {
    "colab": {},
    "colab_type": "code",
    "id": "JC15dZkBJOvX",
    "outputId": "c17b7904-1bf7-4f76-a0f2-9a49d6f28e4c"
   },
   "outputs": [
    {
     "name": "stdout",
     "output_type": "stream",
     "text": [
      "Fib num: 0 fib values: 0\n",
      "Fib num: 1 fib values: 1\n",
      "Fib num: 2 fib values: 1\n",
      "Fib num: 3 fib values: 2\n",
      "Fib num: 0 fib values: 0\n",
      "Fib num: 1 fib values: 1\n",
      "Fib num: 2 fib values: 1\n",
      "Fib num: 3 fib values: 2\n",
      "Fib num: 0 fib values: 0\n",
      "Fib num: 1 fib values: 1\n",
      "Fib num: 2 fib values: 1\n",
      "Fib num: 3 fib values: 2\n"
     ]
    }
   ],
   "source": [
    "for i in range(0, 3):\n",
    "    new_generator = fib()\n",
    "    for j, fib_val in enumerate(new_generator):\n",
    "        print (\"Fib num: \" + str(j) + \" fib values: \" + str(fib_val))"
   ]
  },
  {
   "cell_type": "markdown",
   "metadata": {
    "colab_type": "text",
    "id": "lqACV2OMJOve"
   },
   "source": [
    "А вот так уже нельзя."
   ]
  },
  {
   "cell_type": "code",
   "execution_count": 494,
   "metadata": {
    "colab": {},
    "colab_type": "code",
    "id": "BpinhQOVJOvg",
    "outputId": "47a7ff4c-302b-4332-d8ea-2f4e6cd7a45c"
   },
   "outputs": [
    {
     "name": "stdout",
     "output_type": "stream",
     "text": [
      "Fib num: 0 fib values: 0\n",
      "Fib num: 1 fib values: 1\n",
      "Fib num: 2 fib values: 1\n",
      "Fib num: 3 fib values: 2\n"
     ]
    }
   ],
   "source": [
    "new_generator = fib()\n",
    "for i in range(0, 3):\n",
    "    for j, fib_val in enumerate(new_generator):\n",
    "        print (\"Fib num: \" + str(j) + \" fib values: \" + str(fib_val))"
   ]
  },
  {
   "cell_type": "markdown",
   "metadata": {
    "colab_type": "text",
    "id": "EbsmQhFcJOvn"
   },
   "source": [
    "Концепция крайне удобная для обучения  моделей $-$ у Вас есть некий источник данных, который Вам выдает их кусками, и Вам совершенно все равно откуда он их берет. Под ним может скрывать как массив в оперативной памяти, как файл на жестком диске, так и SQL база данных. Вы сами данные никуда не сохраняете, оперативную память экономите."
   ]
  },
  {
   "cell_type": "markdown",
   "metadata": {
    "colab_type": "text",
    "id": "AsoT3wM2JOvp"
   },
   "source": [
    "Если Вам понравилась идея с генераторами, то Вы можете реализовать свой, используя прототип batch_generator. В нем Вам нужно выдавать батчи признаков и ответов для каждой новой итерации спуска. Если не понравилась идея, то можете реализовывать SGD или mini-batch GD без генераторов."
   ]
  },
  {
   "cell_type": "code",
   "execution_count": 545,
   "metadata": {
    "colab": {},
    "colab_type": "code",
    "id": "M4BXKqaiJOvr"
   },
   "outputs": [],
   "source": [
    "def batch_generator(X, y, shuffle=True, batch_size=1):\n",
    "    \"\"\"\n",
    "    Гератор новых батчей для обучения\n",
    "    X          - матрица объекты-признаки\n",
    "    y_batch    - вектор ответов\n",
    "    shuffle    - нужно ли случайно перемешивать выборку\n",
    "    batch_size - размер батча ( 1 это SGD, > 1 mini-batch GD)\n",
    "    Генерирует подвыборку для итерации спуска (X_batch, y_batch)\n",
    "    \"\"\"\n",
    "    \n",
    "    X = np.asarray(X)\n",
    "    X = np.hstack((np.ones((X.shape[0],1)), X))\n",
    "    y = np.asarray(y)\n",
    "    indexs = np.arange(y.shape[0])\n",
    "    if batch_size == -1:\n",
    "        batch_size = y.shape[0]-1\n",
    "    if shuffle:\n",
    "        np.random.shuffle(indexs)\n",
    "    for i in range(0, y.shape[0] - batch_size, batch_size):\n",
    "        X_batch = np.asarray(X)[indexs[i:i+batch_size]]\n",
    "        y_batch = np.asarray(y)[indexs[i:i+batch_size]]\n",
    "        yield (X_batch, y_batch)\n",
    "\n",
    "# Теперь можно сделать генератор по данным ()\n",
    "#  my_batch_generator = batch_generator(X, y, shuffle=True, batch_size=1)"
   ]
  },
  {
   "cell_type": "code",
   "execution_count": 686,
   "metadata": {
    "colab": {},
    "colab_type": "code",
    "id": "N5Sd-qaxJOv0"
   },
   "outputs": [],
   "source": [
    "#%%pycodestyle\n",
    "\n",
    "def sigmoid(x):\n",
    "    \"\"\"\n",
    "    Вычисляем значение сигмоида.\n",
    "    X - выход линейной модели\n",
    "    \"\"\"\n",
    "    sigm_value_x = 1 / (1 + np.exp(-x) + 1e-5)\n",
    "    return sigm_value_x\n",
    "\n",
    "\n",
    "from sklearn.base import BaseEstimator, ClassifierMixin\n",
    "\n",
    "class MySGDClassifier(BaseEstimator, ClassifierMixin):\n",
    "    \n",
    "    def __init__(self, \n",
    "                 batch_generator=batch_generator, \n",
    "                 C=-1, \n",
    "                 alpha=0.001, \n",
    "                 max_epoch=15, \n",
    "                 model_type='lin_reg', \n",
    "                 batch_size=1, \n",
    "                 threshold=0.5):\n",
    "        \"\"\"\n",
    "        batch_generator -- функция генератор, которой будем создавать батчи\n",
    "        C - коэф. регуляризации\n",
    "        alpha - скорость спуска\n",
    "        max_epoch - максимальное количество эпох\n",
    "        model_type - тим модели, lin_reg или log_reg\n",
    "        \"\"\"\n",
    "        \n",
    "        self.C = C\n",
    "        self.alpha = alpha\n",
    "        self.max_epoch = max_epoch\n",
    "        self.batch_generator = batch_generator\n",
    "        self.errors_log = {'iter' : [], 'loss' : []}  \n",
    "        self.model_type = model_type   \n",
    "        self.batch_size = batch_size\n",
    "        self.threshold = threshold\n",
    "        \n",
    "    def calc_loss(self, X_batch, y_batch):\n",
    "        \"\"\"\n",
    "        Считаем функцию потерь по батчу \n",
    "        X_batch - матрица объекты-признаки по батчу\n",
    "        y_batch - вектор ответов по батчу\n",
    "        Не забудьте тип модели (линейная или логистическая регрессия)!\n",
    "        \"\"\"\n",
    "        X_batch = np.asarray(X_batch)\n",
    "        if X_batch.shape[1] != self.weights.shape[0]:\n",
    "            X_batch = np.hstack((np.ones((X_batch.shape[0],1)), X_batch)) \n",
    "        \n",
    "        row_predict = np.dot(X_batch, self.weights)\n",
    "        \n",
    "        if self.model_type == 'lin_reg':\n",
    "            loss = np.mean( (row_predict - y_batch)**2 )\n",
    "        elif self.model_type == 'log_reg':\n",
    "            y_pred = sigmoid(row_predict)\n",
    "            loss = -np.mean( y_batch * np.log(y_pred + 1e-5) + (1 - y_batch) * np.log(1 - y_pred + 1e-5) )\n",
    "            \n",
    "        return loss\n",
    "    \n",
    "    def calc_loss_grad(self, X_batch, y_batch):\n",
    "        \"\"\"\n",
    "        Считаем  градиент функции потерь по батчу (то что Вы вывели в задании 1)\n",
    "        X_batch - матрица объекты-признаки по батчу\n",
    "        y_batch - вектор ответов по батчу\n",
    "        Не забудте тип модели (линейная или логистическая регрессия)!\n",
    "        \"\"\"\n",
    "        \n",
    "        N = y_batch.shape[0]\n",
    "        row_predict = np.dot(X_batch, self.weights)\n",
    "            \n",
    "        if self.model_type == 'lin_reg':\n",
    "            tmp = row_predict - y_batch # X*w - y \n",
    "            loss_grad = (2/N)*np.dot(X_batch.T, tmp) # 1/N * 2X.T * (X*w - y) - градиент (без регуляризации)\n",
    "            \n",
    "        elif self.model_type == 'log_reg':\n",
    "            row_predict = sigmoid(row_predict)\n",
    "            tmp = row_predict - y_batch # sigmoid(X*w-y) - y\n",
    "            loss_grad = np.dot(tmp, X_batch) / N # 1/N * (sigmoid - y) * X - градиент (без регуляризации)\n",
    "            \n",
    "        if self.C != -1:\n",
    "            C_weight = (2 / max(self.alpha*2.1, self.C)) * self.weights # Иначе будет w_new = -koef*w_old - ...\n",
    "            C_weight[0] = 0\n",
    "            loss_grad += C_weight\n",
    "            \n",
    "        return loss_grad\n",
    "    \n",
    "    def update_weights(self, new_grad):\n",
    "        \"\"\"\n",
    "        Обновляем вектор весов\n",
    "        new_grad - градиент по батчу\n",
    "        \"\"\"\n",
    "        self.weights -= self.alpha * new_grad\n",
    "        \n",
    "    \n",
    "    def fit(self, X, y):\n",
    "        '''\n",
    "        Обучение модели\n",
    "        X - матрица объекты-признаки\n",
    "        y - вектор ответов\n",
    "        '''\n",
    "        \n",
    "        # Нужно инициализровать случайно веса\n",
    "        self.weights = np.random.rand(X.shape[1]+1)\n",
    "        for n in range(0, self.max_epoch):\n",
    "            new_epoch_generator = self.batch_generator(X, y, True, batch_size=self.batch_size)\n",
    "            for batch_num, new_batch in enumerate(new_epoch_generator):\n",
    "                X_batch = new_batch[0]\n",
    "                y_batch = new_batch[1]\n",
    "                batch_grad = self.calc_loss_grad(X_batch, y_batch)\n",
    "                self.update_weights(batch_grad)\n",
    "                # Подумайте в каком месте стоит посчитать ошибку для отладки модели\n",
    "                # До градиентного шага или после\n",
    "                batch_loss = self.calc_loss(X_batch, y_batch)\n",
    "                self.errors_log['iter'].append(batch_num)\n",
    "                self.errors_log['loss'].append(batch_loss)\n",
    "                \n",
    "        return self\n",
    "        \n",
    "    def predict(self, X):\n",
    "        '''\n",
    "        Предсказание класса\n",
    "        X - матрица объекты-признаки\n",
    "        Не забудте тип модели (линейная или логистическая регрессия)!\n",
    "        '''\n",
    "        \n",
    "        X = np.asarray(X)\n",
    "        if X.shape[1] != self.weights.shape[0]:\n",
    "            X = np.hstack((np.ones((X.shape[0],1)), X))        \n",
    "            \n",
    "        y_hat = np.dot(X, self.weights)\n",
    "        if self.model_type == 'log_reg':\n",
    "            y_hat = sigmoid(y_hat)\n",
    "            \n",
    "        # Желательно здесь использовать матричные операции между X и весами, например, numpy.dot \n",
    "        return (y_hat > self.threshold)*1\n",
    "    \n",
    "def score(self, X_test, y_test): # Accuracy\n",
    "    \n",
    "    y_pred = predict(X_test)                    \n",
    "    return np.sum(y_test == y_pred) / y_test.shape[0]"
   ]
  },
  {
   "cell_type": "markdown",
   "metadata": {
    "colab_type": "text",
    "id": "uF06cn_4JOv6"
   },
   "source": [
    "Запустите обе регрессии на синтетических данных. \n",
    "\n",
    "\n",
    "Выведите полученные веса и нарисуйте разделяющую границу между классами (используйте только первых два веса для первых двух признаков X[:,0], X[:,1] для отображения в 2d пространство ).  "
   ]
  },
  {
   "cell_type": "code",
   "execution_count": 636,
   "metadata": {},
   "outputs": [],
   "source": [
    "def plot_decision_boundary(clf):\n",
    "    \n",
    "    x = range(0, 8)\n",
    "    print(\"weights:\", *clf.weights)\n",
    "    \n",
    "    if clf.model_type == 'lin_reg':\n",
    "        plt.title(\"lin_reg\")\n",
    "        print(\"MSE loss: %.3f\" % clf.calc_loss(X, y))    \n",
    "        \n",
    "    elif clf.model_type == 'log_reg':\n",
    "        plt.title(\"log_reg\")\n",
    "        print(\"BCE loss: %.3f\" % clf.calc_loss(X, y))    \n",
    "        \n",
    "    plt.plot(x, (0.5 - clf.weights[0] - clf.weights[1]*x) / clf.weights[2]) # w0 + w1*x1 + w2*x2 = 0.5"
   ]
  },
  {
   "cell_type": "code",
   "execution_count": 733,
   "metadata": {
    "colab": {},
    "colab_type": "code",
    "id": "baPdRpI-JOwE",
    "outputId": "5b5d6d97-3202-48cc-9742-d732e3388a50"
   },
   "outputs": [
    {
     "name": "stdout",
     "output_type": "stream",
     "text": [
      "weights: -3.958517088475597 0.9201741136160116 -0.8984746594689865\n",
      "BCE loss: 0.309\n"
     ]
    },
    {
     "data": {
      "image/png": "[encoded data removed]",
      "text/plain": [
       "<Figure size 1224x432 with 1 Axes>"
      ]
     },
     "metadata": {},
     "output_type": "display_data"
    }
   ],
   "source": [
    "np.random.seed(0)\n",
    "\n",
    "C1 = np.array([[0., -0.8], [1.5, 0.8]])\n",
    "C2 = np.array([[1., -0.7], [2., 0.7]])\n",
    "gauss1 = np.dot(np.random.randn(200, 2) + np.array([5, 3]), C1)\n",
    "gauss2 = np.dot(np.random.randn(200, 2) + np.array([1.5, 0]), C2)\n",
    "\n",
    "X = np.vstack([gauss1, gauss2])\n",
    "y = np.r_[np.ones(200), np.zeros(200)]\n",
    "\n",
    "model = MySGDClassifier(batch_generator,\n",
    "                        C = 100,\n",
    "                        batch_size = -1,\n",
    "                        alpha=0.01,\n",
    "                        max_epoch=10000,\n",
    "                        model_type=\"log_reg\")\n",
    "model.fit(X, y)\n",
    "plot_decision_boundary(model)\n",
    "\n",
    "plt.scatter(X[:,0], X[:,1], c=y);"
   ]
  },
  {
   "cell_type": "code",
   "execution_count": 550,
   "metadata": {},
   "outputs": [
    {
     "data": {
      "text/plain": [
       "array([nan, nan, nan])"
      ]
     },
     "execution_count": 550,
     "metadata": {},
     "output_type": "execute_result"
    }
   ],
   "source": [
    "model.weights"
   ]
  },
  {
   "cell_type": "markdown",
   "metadata": {
    "colab_type": "text",
    "id": "Ix4E6V8oJOwN"
   },
   "source": [
    "Далее будем анализировать Ваш алгоритм. \n",
    "Для этих заданий используйте датасет ниже."
   ]
  },
  {
   "cell_type": "code",
   "execution_count": 487,
   "metadata": {
    "colab": {},
    "colab_type": "code",
    "id": "8bXzrfT0JOwP"
   },
   "outputs": [],
   "source": [
    "from sklearn.datasets import make_classification"
   ]
  },
  {
   "cell_type": "code",
   "execution_count": 488,
   "metadata": {
    "colab": {},
    "colab_type": "code",
    "id": "2Foe-41XJOwW"
   },
   "outputs": [],
   "source": [
    "X, y = make_classification(n_samples=100000, n_features=10, \n",
    "                           n_informative=4, n_redundant=0, \n",
    "                           random_state=123, class_sep=1.0,\n",
    "                           n_clusters_per_class=1)"
   ]
  },
  {
   "cell_type": "markdown",
   "metadata": {
    "colab_type": "text",
    "id": "xYf_Ce1JJOwc"
   },
   "source": [
    "Покажите сходимости обеих регрессией на этом датасете: изобразите график  функции потерь, усредненной по $N$ шагам градиентого спуска, для разных `alpha` (размеров шага). Разные `alpha` расположите на одном графике. \n",
    "\n",
    "$N$ можно брать 10, 50, 100 и т.д. "
   ]
  },
  {
   "cell_type": "code",
   "execution_count": 489,
   "metadata": {},
   "outputs": [
    {
     "data": {
      "image/png": "[encoded data removed]",
      "text/plain": [
       "<Figure size 1224x432 with 1 Axes>"
      ]
     },
     "metadata": {},
     "output_type": "display_data"
    }
   ],
   "source": [
    "for alpha in [0.001, 0.01, 0.1, 0.2]:\n",
    "    clf = MySGDClassifier(batch_generator,\n",
    "                          C=100,\n",
    "                          alpha=alpha,\n",
    "                          max_epoch=15,\n",
    "                          model_type='lin_reg',\n",
    "                          batch_size=2000)\n",
    "    clf.fit(X, y)\n",
    "    N = 100\n",
    "    loss = np.convolve(np.asarray(clf.errors_log[\"loss\"]), np.ones(N)/N, 'valid')\n",
    "    plt.plot(loss, label=alpha)\n",
    "\n",
    "plt.title(str(clf.model_type))\n",
    "plt.ylabel(\"mean loss\")\n",
    "plt.legend()\n",
    "plt.show()"
   ]
  },
  {
   "cell_type": "code",
   "execution_count": 490,
   "metadata": {},
   "outputs": [
    {
     "data": {
      "image/png": "[encoded data removed]",
      "text/plain": [
       "<Figure size 1224x432 with 1 Axes>"
      ]
     },
     "metadata": {},
     "output_type": "display_data"
    }
   ],
   "source": [
    "for alpha in [0.001, 0.01, 0.1, 0.2]:\n",
    "    clf = MySGDClassifier(batch_generator,\n",
    "                          C=100,\n",
    "                          alpha=alpha,\n",
    "                          max_epoch=15,\n",
    "                          model_type='log_reg',\n",
    "                          batch_size=2000)\n",
    "    clf.fit(X, y)\n",
    "    N = 100\n",
    "    loss = np.convolve(np.asarray(clf.errors_log[\"loss\"]), np.ones(N)/N, 'valid')\n",
    "    plt.plot(loss, label=alpha)\n",
    "\n",
    "plt.title(str(clf.model_type))\n",
    "plt.ylabel(\"mean loss\")\n",
    "plt.legend()\n",
    "plt.show()"
   ]
  },
  {
   "cell_type": "markdown",
   "metadata": {
    "colab_type": "text",
    "id": "sQQc4Z-UJOwk"
   },
   "source": [
    "Что Вы можете сказать про сходимость метода при различных `alpha`? Какое значение стоит выбирать для лучшей сходимости?"
   ]
  },
  {
   "cell_type": "markdown",
   "metadata": {
    "colab_type": "text",
    "id": "HoCflRhWJOwm"
   },
   "source": [
    "Изобразите график среднего значения весов для обеих регрессий в зависимости от коеф. регуляризации С из `np.logspace(3, -3, 10)` "
   ]
  },
  {
   "cell_type": "code",
   "execution_count": 734,
   "metadata": {},
   "outputs": [
    {
     "data": {
      "image/png": "[encoded data removed]",
      "text/plain": [
       "<Figure size 1224x432 with 1 Axes>"
      ]
     },
     "metadata": {},
     "output_type": "display_data"
    },
    {
     "data": {
      "image/png": "[encoded data removed]",
      "text/plain": [
       "<Figure size 1224x432 with 1 Axes>"
      ]
     },
     "metadata": {},
     "output_type": "display_data"
    }
   ],
   "source": [
    "for model_type in ['lin_reg', 'log_reg']:\n",
    "    history = {'C':[], 'mean':[]}\n",
    "    for c_ in np.logspace(3, -4, 20):\n",
    "        clf = MySGDClassifier(batch_generator,\n",
    "                              C=c_,\n",
    "                              batch_size=5,\n",
    "                              alpha=0.00005, # Должен быть сильно меньше C, следует из формулы.\n",
    "                              max_epoch=700,\n",
    "                              model_type=model_type)\n",
    "        clf.fit(X, y)\n",
    "        mean_ = np.mean(clf.weights[1:])\n",
    "        history['C'].append(c_)\n",
    "        history['mean'].append(mean_)\n",
    "\n",
    "    plt.plot(history['mean'], label=model_type)\n",
    "\n",
    "    plt.title(str(model.model_type))\n",
    "    plt.ylabel(\"mean weight\")\n",
    "    plt.legend()\n",
    "    plt.show()"
   ]
  },
  {
   "cell_type": "code",
   "execution_count": 735,
   "metadata": {
    "colab_type": "text",
    "id": "PanyWNjfJOwv"
   },
   "outputs": [],
   "source": [
    "# Довольны ли Вы, насколько сильно уменьшились Ваши веса? \n",
    "# А должен?... Скажу лишь, что из-за того, что у меня проверяются C=~0.001, я должен сделать\n",
    "#  alpha < 0.0001, но для сходимости следуетпотребуется max_epochs > 100'000, особенно для log_reg\n",
    "#  , а посчитать это по очевидным причинам не получится, банально в дедлайн не уложусь, чтобы идельные\n",
    "#  графики получить. Поэтому решил показать их убывание способом выше."
   ]
  },
  {
   "cell_type": "markdown",
   "metadata": {
    "colab_type": "text",
    "id": "ZSR_N6rXJOwx"
   },
   "source": [
    "# Боевое применение (4  балла)\n",
    "\n",
    "**Защита данной части возможна только при преодолении в проекте бейзлайна Handmade baseline.**"
   ]
  },
  {
   "cell_type": "markdown",
   "metadata": {
    "colab_type": "text",
    "id": "bVITkry9JOwz"
   },
   "source": [
    "Давайте применим модель на итоговом проекте! Датасет сделаем точно таким же образом, как было показано в project_overview.ipynb\n",
    "\n",
    "Применим обе регрессии, подберем для них параметры и сравним качество. Может быть Вы еще одновременно с решением домашней работы подрастете на лидерборде!"
   ]
  },
  {
   "cell_type": "code",
   "execution_count": 786,
   "metadata": {
    "colab": {},
    "colab_type": "code",
    "id": "0haKYdFRJOw1",
    "outputId": "b3823025-8593-4fc6-b022-ef768d8482a2"
   },
   "outputs": [
    {
     "name": "stdout",
     "output_type": "stream",
     "text": [
      "28026\n"
     ]
    }
   ],
   "source": [
    "doc_to_title = {}\n",
    "with open('docs_titles.tsv') as f:\n",
    "    for num_line, line in enumerate(f):\n",
    "        if num_line == 0:\n",
    "            continue\n",
    "        data = line.strip().split('\\t', 1)\n",
    "        doc_id = int(data[0])\n",
    "        if len(data) == 1:\n",
    "            title = ''\n",
    "        else:\n",
    "            title = data[1]\n",
    "        doc_to_title[doc_id] = title\n",
    "print (len(doc_to_title))\n"
   ]
  },
  {
   "cell_type": "code",
   "execution_count": 787,
   "metadata": {
    "colab": {},
    "colab_type": "code",
    "id": "tImV8a_RJOw7"
   },
   "outputs": [],
   "source": [
    "import pandas as pd\n",
    "train_data = pd.read_csv('train_groups.csv')\n",
    "traingroups_titledata = {}\n",
    "for i in range(len(train_data)):\n",
    "    new_doc = train_data.iloc[i]\n",
    "    doc_group = new_doc['group_id']\n",
    "    doc_id = new_doc['doc_id']\n",
    "    target = new_doc['target']\n",
    "    title = doc_to_title[doc_id]\n",
    "    if doc_group not in traingroups_titledata:\n",
    "        traingroups_titledata[doc_group] = []\n",
    "    traingroups_titledata[doc_group].append((doc_id, title, target))"
   ]
  },
  {
   "cell_type": "code",
   "execution_count": 788,
   "metadata": {
    "colab": {},
    "colab_type": "code",
    "id": "jD_kpNNJJOxB",
    "outputId": "64ef969c-fb13-475f-e1f1-b409fc4db61f"
   },
   "outputs": [
    {
     "name": "stdout",
     "output_type": "stream",
     "text": [
      "(11690, 15) (11690,) (11690,)\n"
     ]
    }
   ],
   "source": [
    "import numpy as np\n",
    "y_train = []\n",
    "X_train = []\n",
    "groups_train = []\n",
    "for new_group in traingroups_titledata:\n",
    "    docs = traingroups_titledata[new_group]\n",
    "    for k, (doc_id, title, target_id) in enumerate(docs):\n",
    "        y_train.append(target_id)\n",
    "        groups_train.append(new_group)\n",
    "        all_dist = []\n",
    "        words = set(title.strip().split())\n",
    "        for j in range(0, len(docs)):\n",
    "            if k == j:\n",
    "                continue\n",
    "            doc_id_j, title_j, target_j = docs[j]\n",
    "            words_j = set(title_j.strip().split())\n",
    "            all_dist.append(len(words.intersection(words_j)))\n",
    "        X_train.append(sorted(all_dist, reverse=True)[0:15]    )\n",
    "X_train = np.array(X_train)\n",
    "y_train = np.array(y_train)\n",
    "groups_train = np.array(groups_train)\n",
    "print (X_train.shape, y_train.shape, groups_train.shape)"
   ]
  },
  {
   "cell_type": "markdown",
   "metadata": {
    "colab_type": "text",
    "id": "uBJ5dNymJOxL"
   },
   "source": [
    "Подберите размер батча для обучения. Линейная модель не должна учиться дольше нескольких минут. \n",
    "\n",
    "Не забывайте использовать скейлер!"
   ]
  },
  {
   "cell_type": "code",
   "execution_count": 789,
   "metadata": {
    "colab": {},
    "colab_type": "code",
    "id": "t8fvISgMJOxN"
   },
   "outputs": [],
   "source": [
    "from sklearn.metrics import f1_score\n",
    "from sklearn.linear_model import LinearRegression\n",
    "from sklearn.preprocessing import StandardScaler"
   ]
  },
  {
   "cell_type": "code",
   "execution_count": 790,
   "metadata": {
    "colab": {},
    "colab_type": "code",
    "id": "4tLAH264JOxS"
   },
   "outputs": [],
   "source": [
    "model = MySGDClassifier(batch_generator,\n",
    "                        C=1000,\n",
    "                        alpha=0.0005,\n",
    "                        max_epoch=70,\n",
    "                        model_type='lin_reg',\n",
    "                        batch_size=1000)"
   ]
  },
  {
   "cell_type": "markdown",
   "metadata": {
    "colab_type": "text",
    "id": "lfffEXQpJOxi"
   },
   "source": [
    "Разбейте данные на обучение и валидацию. Подберите параметры C, alpha, max_epoch, model_type на валидации (Вы же помните, как правильно в этой задаче делать валидацию?)"
   ]
  },
  {
   "cell_type": "code",
   "execution_count": 791,
   "metadata": {},
   "outputs": [],
   "source": [
    "X = X_train.copy()\n",
    "y = y_train.copy()"
   ]
  },
  {
   "cell_type": "code",
   "execution_count": 792,
   "metadata": {},
   "outputs": [],
   "source": [
    "def K_fold(data, target, K_fold = 3, seed=2357):\n",
    "    # Получаем tuple(пару), в каждом из которых K_fold np.array'ев - объекты и соотв-ие им метки.\n",
    "    np.random.seed(seed)\n",
    "    data_size = data.shape[0] // K_fold\n",
    "    rows = np.random.permutation(np.arange(data_size * K_fold))\n",
    "    indexes = [rows[fold*data_size:(fold+1)*data_size].tolist() for fold in range(K_fold)]\n",
    "    return np.array([data[indx] for indx in indexes]), np.array([np.asarray(target)[indx] for indx in indexes])"
   ]
  },
  {
   "cell_type": "code",
   "execution_count": 793,
   "metadata": {},
   "outputs": [],
   "source": [
    "def cross_val_score(objects, targets, model, metric=None, num_fold=3, scaler=None, seed=2357):\n",
    "    X, y = K_fold(objects, targets, K_fold=num_fold, seed=seed)\n",
    "    score_history = []\n",
    "\n",
    "    for i in range(num_fold):\n",
    "        train_index = [indx for indx in range(0,i)] + [indx for indx in range(i+1,num_fold)]\n",
    "\n",
    "        X_train = X[train_index[0]]\n",
    "        y_train = y[train_index[0]]\n",
    "      \n",
    "        for index in train_index[1:]:\n",
    "            X_train = np.vstack((X_train,X[index]))\n",
    "            y_train = np.hstack((y_train,y[index]))\n",
    "            \n",
    "        X_train = X_train.copy()\n",
    "\n",
    "        X_val, y_val = X[i].copy(), y[i].copy()\n",
    "        \n",
    "        if scaler != None:\n",
    "            scaler.fit(X_train)\n",
    "            X_train = scaler.transform(X_train)\n",
    "            X_val = scaler.transform(X_val)\n",
    "            \n",
    "        model.fit(X_train, y_train)\n",
    "        if metric == None:\n",
    "            score = model.score(X_val, y_val)\n",
    "        else:\n",
    "            score = metric(model.predict(X_val), y_val)\n",
    "        score_history.append(score)\n",
    "    return score_history"
   ]
  },
  {
   "cell_type": "code",
   "execution_count": 794,
   "metadata": {},
   "outputs": [],
   "source": [
    "from sklearn.metrics import f1_score as F1\n",
    "from sklearn.metrics import accuracy_score as ACU\n",
    "from sklearn.metrics import roc_auc_score as ROC"
   ]
  },
  {
   "cell_type": "code",
   "execution_count": 803,
   "metadata": {},
   "outputs": [],
   "source": [
    "# parametrs = {'C': [0.05, 0.1, 0.5, 1, 10, 15, 30, 50, 100, 300, -1],\n",
    "#              'batch_size': [1, 10, 100, 1000, 10000],\n",
    "#              'model_type': ['lin_reg', 'log_reg'],\n",
    "#              'alpha': [0.0001, 0.001, 0.01],\n",
    "#              'max_epoch': [20, 200, 2000]}\n",
    "\n",
    "# score = {ACU: [], ROC: [], F1: []}"
   ]
  },
  {
   "cell_type": "code",
   "execution_count": 801,
   "metadata": {},
   "outputs": [
    {
     "data": {
      "text/html": [
       "<div>\n",
       "<style scoped>\n",
       "    .dataframe tbody tr th:only-of-type {\n",
       "        vertical-align: middle;\n",
       "    }\n",
       "\n",
       "    .dataframe tbody tr th {\n",
       "        vertical-align: top;\n",
       "    }\n",
       "\n",
       "    .dataframe thead th {\n",
       "        text-align: right;\n",
       "    }\n",
       "</style>\n",
       "<table border=\"1\" class=\"dataframe\">\n",
       "  <thead>\n",
       "    <tr style=\"text-align: right;\">\n",
       "      <th></th>\n",
       "      <th>C</th>\n",
       "      <th>batch_size</th>\n",
       "      <th>model_type</th>\n",
       "      <th>alpha</th>\n",
       "      <th>max_epoch</th>\n",
       "      <th>accuracy_score</th>\n",
       "      <th>ROC_AUC_score</th>\n",
       "      <th>f1_score</th>\n",
       "    </tr>\n",
       "  </thead>\n",
       "  <tbody>\n",
       "  </tbody>\n",
       "</table>\n",
       "</div>"
      ],
      "text/plain": [
       "Empty DataFrame\n",
       "Columns: [C, batch_size, model_type, alpha, max_epoch, accuracy_score, ROC_AUC_score, f1_score]\n",
       "Index: []"
      ]
     },
     "execution_count": 801,
     "metadata": {},
     "output_type": "execute_result"
    }
   ],
   "source": [
    "# all_history = pd.DataFrame({'C':              [],\n",
    "#                             'batch_size':     [],\n",
    "#                             'model_type':     [],\n",
    "#                             'alpha':          [],\n",
    "#                             'max_epoch':      [],\n",
    "#                             'accuracy_score': [],\n",
    "#                             'ROC_AUC_score':  [],\n",
    "#                             'f1_score':       []})\n",
    "# all_history"
   ]
  },
  {
   "cell_type": "code",
   "execution_count": 819,
   "metadata": {},
   "outputs": [
    {
     "name": "stdout",
     "output_type": "stream",
     "text": [
      "1min 49s ± 3.13 s per loop (mean ± std. dev. of 7 runs, 1 loop each)\n"
     ]
    }
   ],
   "source": [
    "# %timeit one_iteration_below()\n",
    "# Попросту не успевал, все это перебрать, прошу прощения, но код красивый) Поэтому оставлю его все равно тут:))"
   ]
  },
  {
   "cell_type": "code",
   "execution_count": 818,
   "metadata": {},
   "outputs": [],
   "source": [
    "#     for C in parametrs['C']:\n",
    "#         for batch_size in parametrs['batch_size']:\n",
    "#             for model_type in parametrs['model_type']:\n",
    "#                 for alpha in parametrs['alpha']:\n",
    "#                     for max_epoch in parametrs['max_epoch']:\n",
    "#                         model = MySGDClassifier(C=C,\n",
    "#                                                 batch_size=batch_size,\n",
    "#                                                 model_type=model_type,\n",
    "#                                                 alpha=alpha,\n",
    "#                                                 max_epoch=max_epoch)\n",
    "#                         for metric in [ACU, ROC, F1]:\n",
    "#                             scores = cross_val_score(X, y,\n",
    "#                                                      model,\n",
    "#                                                      metric=metric,\n",
    "#                                                      num_fold=3,\n",
    "#                                                      scaler=StandardScaler())\n",
    "#                             score[metric] = np.mean(scores)\n",
    "\n",
    "#                         new_line = pd.DataFrame({'C':              [C],\n",
    "#                                                  'batch_size':     [batch_size],\n",
    "#                                                  'model_type':     [model_type],\n",
    "#                                                  'alpha':          [alpha],\n",
    "#                                                  'max_epoch':      [max_epoch],\n",
    "#                                                  'accuracy_score': [score[ACU]],\n",
    "#                                                  'ROC_AUC_score':  [score[ROC]],\n",
    "#                                                  'f1_score':       [score[F1]]})\n",
    "\n",
    "#                         all_history = all_history.append(new_line) "
   ]
  },
  {
   "cell_type": "code",
   "execution_count": null,
   "metadata": {},
   "outputs": [],
   "source": [
    "for scale_flag in [False, True]:\n",
    "    \n",
    "    if scale_flag:\n",
    "        scaler = StandardScaler()\n",
    "    else:\n",
    "        scaler = None\n",
    "\n",
    "    for model_type in ['lin_reg', 'log_reg']:\n",
    "        # print(\"model: \", model_type, \",  scale: \", scale_flag)\n",
    "    \n",
    "        score_history = {'batch_size': [], 'loss': []}\n",
    "        for batch_size in [1, 10, 100, 500, 750, 2000, 5000, 10000, 20000, 30000]:\n",
    "            model = MySGDClassifier(batch_size=batch_size,\n",
    "                                    alpha=0.001,\n",
    "                                    model_type=model_type)\n",
    "\n",
    "            scores = cross_val_score(X, y, \n",
    "                                     model, \n",
    "                                     metric=f1_score, \n",
    "                                     num_fold=2, \n",
    "                                     scaler=scaler)\n",
    "            score = np.mean(scores)\n",
    "            # print(\"batch_size: %.0f,\" % batch_size, \" score: %.4f\" % score)\n",
    "            score_history['loss'].append(score)\n",
    "            score_history['batch_size'].append(model.batch_size)    \n",
    "\n",
    "        plt.plot(score_history['batch_size'], score_history['loss'], label=[model_type, scale_flag])\n",
    "        # print()\n",
    "\n",
    "plt.rcParams['figure.figsize'] = (17,6)\n",
    "plt.title(\"f1_score\")\n",
    "plt.legend()\n",
    "plt.ylabel(\"val_score\")\n",
    "plt.xlabel(\"batch_size\")\n",
    "plt.show()"
   ]
  },
  {
   "cell_type": "code",
   "execution_count": 448,
   "metadata": {},
   "outputs": [
    {
     "name": "stdout",
     "output_type": "stream",
     "text": [
      "model:  lin_reg ,  scale:  False\n"
     ]
    },
    {
     "name": "stderr",
     "output_type": "stream",
     "text": [
      "/home/david/anaconda3/lib/python3.7/site-packages/sklearn/metrics/classification.py:1439: UndefinedMetricWarning: F-score is ill-defined and being set to 0.0 due to no true samples.\n",
      "  'recall', 'true', average, warn_for)\n"
     ]
    },
    {
     "name": "stdout",
     "output_type": "stream",
     "text": [
      "model:  log_reg ,  scale:  False\n",
      "model:  lin_reg ,  scale:  True\n",
      "model:  log_reg ,  scale:  True\n"
     ]
    },
    {
     "data": {
      "image/png": "[encoded data removed]",
      "text/plain": [
       "<Figure size 1224x432 with 1 Axes>"
      ]
     },
     "metadata": {},
     "output_type": "display_data"
    }
   ],
   "source": [
    "for scale_flag in [False, True]:\n",
    "    \n",
    "    if scale_flag:\n",
    "        scaler = StandardScaler()\n",
    "    else:\n",
    "        scaler = None\n",
    "\n",
    "    for model_type in ['lin_reg', 'log_reg']:\n",
    "        # print(\"model: \", model_type, \",  scale: \", scale_flag)\n",
    "    \n",
    "        score_history = {'batch_size': [], 'loss': []}\n",
    "        for batch_size in [1, 10, 100, 500, 750, 2000, 5000, 10000, 20000, 30000]:\n",
    "            model = MySGDClassifier(batch_size=batch_size,\n",
    "                                    alpha=0.001,\n",
    "                                    model_type=model_type)\n",
    "\n",
    "            scores = cross_val_score(X, y, \n",
    "                                     model, \n",
    "                                     metric=f1_score, \n",
    "                                     num_fold=2, \n",
    "                                     scaler=scaler)\n",
    "            score = np.mean(scores)\n",
    "            # print(\"batch_size: %.0f,\" % batch_size, \" score: %.4f\" % score)\n",
    "            score_history['loss'].append(score)\n",
    "            score_history['batch_size'].append(model.batch_size)    \n",
    "\n",
    "        plt.plot(score_history['batch_size'], score_history['loss'], label=[model_type, scale_flag])\n",
    "        # print()\n",
    "\n",
    "plt.rcParams['figure.figsize'] = (17,6)\n",
    "plt.title(\"f1_score\")\n",
    "plt.legend()\n",
    "plt.ylabel(\"val_score\")\n",
    "plt.xlabel(\"batch_size\")\n",
    "plt.show()"
   ]
  },
  {
   "cell_type": "markdown",
   "metadata": {
    "colab_type": "text",
    "collapsed": true,
    "id": "lNCaEpw7JOxq"
   },
   "source": [
    "Подберите порог линейной модели, по достижении которого, Вы будете относить объект к классу 1. Вспомните, какую метрику мы оптимизируем в соревновании.  Как тогда правильно подобрать порог?"
   ]
  },
  {
   "cell_type": "code",
   "execution_count": 447,
   "metadata": {},
   "outputs": [
    {
     "data": {
      "image/png": "[encoded data removed]",
      "text/plain": [
       "<Figure size 1224x432 with 1 Axes>"
      ]
     },
     "metadata": {},
     "output_type": "display_data"
    }
   ],
   "source": [
    "scaler = StandardScaler()\n",
    "\n",
    "for metric in [ACU, F1, ROC]:\n",
    "    score_history = {'threshold': [], 'loss': []}\n",
    "    for threshold in np.linspace(0.05, 0.95, 100):\n",
    "        model = MySGDClassifier(batch_size=10000,\n",
    "                                threshold=threshold,\n",
    "                                C=0.001,\n",
    "                                alpha=0.001,\n",
    "                                model_type='log_reg')       \n",
    "        \n",
    "        scores = cross_val_score(X, y, \n",
    "                                 model, \n",
    "                                 metric=metric, \n",
    "                                 num_fold=3, \n",
    "                                 scaler=scaler)\n",
    "        score = np.mean(scores)\n",
    "        #print(\"threshold: %.2f,\" % threshold, \" score: %.4f\" % score)\n",
    "        score_history['loss'].append(score)\n",
    "        score_history['threshold'].append(threshold)    \n",
    "\n",
    "    plt.plot(score_history['threshold'], score_history['loss'], label=metric)\n",
    "\n",
    "plt.rcParams['figure.figsize'] = (17,6)\n",
    "plt.title(\"f1_score\")\n",
    "plt.legend()\n",
    "plt.ylabel(\"val_score\")\n",
    "plt.xlabel(\"threshold\")\n",
    "plt.show()"
   ]
  },
  {
   "cell_type": "markdown",
   "metadata": {
    "colab_type": "text",
    "id": "61x5NLPXJOx-"
   },
   "source": [
    "С лучшими параметрами на валидации сделайте предсказание на тестовом множестве, отправьте его на проверку на платформу kaggle. Убедитесь, что Вы смогли побить public score первого бейзлайна."
   ]
  },
  {
   "cell_type": "markdown",
   "metadata": {
    "colab_type": "text",
    "collapsed": true,
    "id": "W89czBkdJOx_"
   },
   "source": [
    "** При сдаче домашки Вам необходимо кроме ссылки на ноутбук показать Ваш ник на kaggle, под которым Вы залили решение, которое побило Handmade baseline. **"
   ]
  },
  {
   "cell_type": "code",
   "execution_count": 453,
   "metadata": {
    "colab": {},
    "colab_type": "code",
    "id": "yItHmzi-JOyB"
   },
   "outputs": [],
   "source": [
    "import pandas as pd\n",
    "test_data = pd.read_csv('test_groups.csv')\n",
    "testgroups_titledata = {}\n",
    "for i in range(len(test_data)):\n",
    "    new_doc = test_data.iloc[i]\n",
    "    doc_group = new_doc['group_id']\n",
    "    doc_id = new_doc['doc_id']\n",
    "    title = doc_to_title[doc_id]\n",
    "    if doc_group not in testgroups_titledata:\n",
    "        testgroups_titledata[doc_group] = []\n",
    "    testgroups_titledata[doc_group].append((doc_id, title))\n",
    "X_test = []\n",
    "groups_test = []\n",
    "for new_group in testgroups_titledata:\n",
    "    docs = testgroups_titledata[new_group]\n",
    "    for k, (doc_id, title) in enumerate(docs):\n",
    "        groups_test.append(new_group)\n",
    "        all_dist = []\n",
    "        words = set(title.strip().split())\n",
    "        for j in range(0, len(docs)):\n",
    "            if k == j:\n",
    "                continue\n",
    "            doc_id_j, title_j = docs[j]\n",
    "            words_j = set(title_j.strip().split())\n",
    "            all_dist.append(len(words.intersection(words_j)))\n",
    "        X_test.append(sorted(all_dist, reverse=True)[0:15])\n",
    "X_test = np.array(X_test)\n",
    "groups_test = np.array(groups_test)"
   ]
  },
  {
   "cell_type": "code",
   "execution_count": 472,
   "metadata": {},
   "outputs": [],
   "source": [
    "model = MySGDClassifier(batch_size=10000,\n",
    "                        threshold=0.7,\n",
    "                        alpha=0.001,\n",
    "                        model_type='log_reg') \n",
    "scaler.fit(X_train)\n",
    "model.fit(scaler.transform(X_train), y_train)\n",
    "y_pred = model.predict(scaler.transform(X_test))"
   ]
  },
  {
   "cell_type": "code",
   "execution_count": 473,
   "metadata": {},
   "outputs": [
    {
     "data": {
      "text/html": [
       "<div>\n",
       "<style scoped>\n",
       "    .dataframe tbody tr th:only-of-type {\n",
       "        vertical-align: middle;\n",
       "    }\n",
       "\n",
       "    .dataframe tbody tr th {\n",
       "        vertical-align: top;\n",
       "    }\n",
       "\n",
       "    .dataframe thead th {\n",
       "        text-align: right;\n",
       "    }\n",
       "</style>\n",
       "<table border=\"1\" class=\"dataframe\">\n",
       "  <thead>\n",
       "    <tr style=\"text-align: right;\">\n",
       "      <th></th>\n",
       "      <th>pair_id</th>\n",
       "      <th>target</th>\n",
       "    </tr>\n",
       "  </thead>\n",
       "  <tbody>\n",
       "    <tr>\n",
       "      <td>0</td>\n",
       "      <td>11691</td>\n",
       "      <td>1</td>\n",
       "    </tr>\n",
       "    <tr>\n",
       "      <td>1</td>\n",
       "      <td>11692</td>\n",
       "      <td>1</td>\n",
       "    </tr>\n",
       "    <tr>\n",
       "      <td>2</td>\n",
       "      <td>11693</td>\n",
       "      <td>1</td>\n",
       "    </tr>\n",
       "    <tr>\n",
       "      <td>3</td>\n",
       "      <td>11694</td>\n",
       "      <td>1</td>\n",
       "    </tr>\n",
       "    <tr>\n",
       "      <td>4</td>\n",
       "      <td>11695</td>\n",
       "      <td>1</td>\n",
       "    </tr>\n",
       "    <tr>\n",
       "      <td>...</td>\n",
       "      <td>...</td>\n",
       "      <td>...</td>\n",
       "    </tr>\n",
       "    <tr>\n",
       "      <td>16622</td>\n",
       "      <td>28313</td>\n",
       "      <td>0</td>\n",
       "    </tr>\n",
       "    <tr>\n",
       "      <td>16623</td>\n",
       "      <td>28314</td>\n",
       "      <td>1</td>\n",
       "    </tr>\n",
       "    <tr>\n",
       "      <td>16624</td>\n",
       "      <td>28315</td>\n",
       "      <td>1</td>\n",
       "    </tr>\n",
       "    <tr>\n",
       "      <td>16625</td>\n",
       "      <td>28316</td>\n",
       "      <td>1</td>\n",
       "    </tr>\n",
       "    <tr>\n",
       "      <td>16626</td>\n",
       "      <td>28317</td>\n",
       "      <td>1</td>\n",
       "    </tr>\n",
       "  </tbody>\n",
       "</table>\n",
       "<p>16627 rows × 2 columns</p>\n",
       "</div>"
      ],
      "text/plain": [
       "       pair_id  target\n",
       "0        11691       1\n",
       "1        11692       1\n",
       "2        11693       1\n",
       "3        11694       1\n",
       "4        11695       1\n",
       "...        ...     ...\n",
       "16622    28313       0\n",
       "16623    28314       1\n",
       "16624    28315       1\n",
       "16625    28316       1\n",
       "16626    28317       1\n",
       "\n",
       "[16627 rows x 2 columns]"
      ]
     },
     "execution_count": 473,
     "metadata": {},
     "output_type": "execute_result"
    }
   ],
   "source": [
    "data = test_data\n",
    "data['target'] = y_pred\n",
    "data = data.drop(['group_id', 'doc_id'], axis=1)\n",
    "data"
   ]
  },
  {
   "cell_type": "code",
   "execution_count": 474,
   "metadata": {},
   "outputs": [],
   "source": [
    "data.to_csv(\"submission.csv\", index=False)\n",
    "#data.head()"
   ]
  },
  {
   "cell_type": "markdown",
   "metadata": {
    "colab_type": "text",
    "id": "Kt-TkLJfJOyH"
   },
   "source": [
    "# Фидбек (бесценно)"
   ]
  },
  {
   "cell_type": "markdown",
   "metadata": {
    "colab_type": "text",
    "id": "TToxcGmEJOyJ"
   },
   "source": [
    "* Какие аспекты обучения линейных моделей Вам показались непонятными? Какое место стоит дополнительно объяснить?"
   ]
  },
  {
   "cell_type": "markdown",
   "metadata": {
    "colab_type": "text",
    "id": "D9y4wv1tJOyK"
   },
   "source": [
    "Всё очень хорошо, но вот квизы считаю иногда некорректно формулируются) "
   ]
  },
  {
   "cell_type": "markdown",
   "metadata": {
    "colab_type": "text",
    "id": "Ocdwi5S3JOyM"
   },
   "source": [
    "* Здесь Вы можете оставить отзыв о этой домашней работе или о всем курсе.   "
   ]
  },
  {
   "cell_type": "markdown",
   "metadata": {
    "colab_type": "text",
    "id": "AQbA1vNaJOyN"
   },
   "source": [
    "Мне очень импонирует работа преподователей Техносферы, такое редко бывает, но мои ожидания были ниже того, что по итогу я вижу, очень круто мне всё безумно нравится. Но конечно же совершенства не существует, поэтому считаю нужным сказать легкий недочет, который по сути высос из пальца) Мне очень нравится политика преподавателей Техносферы о том, чтобы не снижать оценки за неправильные ответы\\решения т.е. что есть возмонжость за несколько попыток все-таки получить фул балл, вроде вот думаю, наконец-то в России отошли от старых стандартов школ и принципов СССР, я считаю эту систему наилучшей из возмножных, поэтому любое отклонение от нее считаю нежелательным, поэтому тоже считаю, что снимать баллы за квизы отправиленные чуть-чуть позже из-за медленного вайфая, снимать за неоформленную фамилию в названии работы, код стайл и другие вещи без которых преподователю будет не удобно неправильными, конечно это наша вина, преподователю не хочется искать среди неподписанных работ их владельцев или разбираться в очень \"непонятно\" написанном коде, но все-таки не считаю корректным это штрафовать баллами, все-таки это не говорит о незнании или плохом знании материала студентами, можно отчислять допустим, за какое-то кол-во таких нарушений))) Но баллы снимать не надо"
   ]
  },
  {
   "cell_type": "code",
   "execution_count": 0,
   "metadata": {
    "colab": {},
    "colab_type": "code",
    "id": "fGMfVhFtJOyP"
   },
   "outputs": [],
   "source": []
  },
  {
   "cell_type": "code",
   "execution_count": 0,
   "metadata": {
    "colab": {},
    "colab_type": "code",
    "id": "nbni7poSJOyW"
   },
   "outputs": [],
   "source": []
  }
 ],
 "metadata": {
  "anaconda-cloud": {},
  "colab": {
   "name": "hw2.ipynb",
   "provenance": []
  },
  "kernelspec": {
   "display_name": "Python 3",
   "language": "python",
   "name": "python3"
  },
  "language_info": {
   "codemirror_mode": {
    "name": "ipython",
    "version": 3
   },
   "file_extension": ".py",
   "mimetype": "text/x-python",
   "name": "python",
   "nbconvert_exporter": "python",
   "pygments_lexer": "ipython3",
   "version": "3.7.4"
  },
  "nav_menu": {},
  "toc": {
   "colors": {
    "hover_highlight": "#DAA520",
    "navigate_num": "#000000",
    "navigate_text": "#333333",
    "running_highlight": "#FF0000",
    "selected_highlight": "#FFD700",
    "sidebar_border": "#EEEEEE",
    "wrapper_background": "#FFFFFF"
   },
   "moveMenuLeft": true,
   "nav_menu": {
    "height": "402px",
    "width": "253px"
   },
   "navigate_menu": true,
   "number_sections": false,
   "sideBar": true,
   "threshold": 4,
   "toc_cell": false,
   "toc_section_display": "block",
   "toc_window_display": true,
   "widenNotebook": false
  }
 },
 "nbformat": 4,
 "nbformat_minor": 1
}
