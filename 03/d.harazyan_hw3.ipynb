{
 "cells": [
  {
   "cell_type": "markdown",
   "metadata": {
    "colab_type": "text",
    "id": "sg-NCKx5DbaT"
   },
   "source": [
    "### Алгоритмы интеллектуальной обработки больших объемов данных\n",
    "## Домашнее задание №3 - Дерево решений\n"
   ]
  },
  {
   "cell_type": "markdown",
   "metadata": {
    "colab_type": "text",
    "id": "a8v55muHDbaa"
   },
   "source": [
    "**Общая информация**\n",
    "\n",
    "**Срок сдачи:** 27 апреля 2020, 08:30   \n",
    "**Штраф за опоздание:** -2 балла после 08:30 27 апреля, -4 балла после 08:30 4 мая, -6 баллов после 08:30 11 мая, -8 баллов после 08:30 18 мая.\n",
    "\n",
    "При отправлении ДЗ указывайте фамилию в названии файла Присылать ДЗ необходимо в виде ссылки на свой github репозиторий на почту ml1.sphere@mail.ru с указанием темы в следующем формате:\n",
    "[ML0220, Задание 3] Фамилия Имя. \n",
    "\n",
    "\n",
    "Используйте данный Ipython Notebook при оформлении домашнего задания."
   ]
  },
  {
   "cell_type": "markdown",
   "metadata": {
    "colab_type": "text",
    "id": "NxPyifesDbac"
   },
   "source": [
    "##  Реализуем дерево решений (3 балла)"
   ]
  },
  {
   "cell_type": "markdown",
   "metadata": {
    "colab_type": "text",
    "id": "JdUDbJDCDbad"
   },
   "source": [
    "Допишите недостающие части дерева решений. Ваша реализация дерева должна работать по точности не хуже DecisionTreeClassifier из sklearn.\n",
    "Внимание: если Вас не устраивает предложенная структура хранения дерева, Вы без потери баллов можете сделать свой класс DecisionTreeClassifier, в котором сами полностью воспроизведете алгоритм дерева решений. Обязательно в нем иметь только функции fit, predict"
   ]
  },
  {
   "cell_type": "code",
   "execution_count": 1,
   "metadata": {
    "colab": {},
    "colab_type": "code",
    "id": "MNH3aqhlDbaf"
   },
   "outputs": [],
   "source": [
    "import matplotlib.pyplot as plt\n",
    "import numpy as np\n",
    "import pandas as pd\n",
    "\n",
    "from sklearn.datasets import load_wine\n",
    "from sklearn.ensemble import RandomForestClassifier\n",
    "from sklearn.metrics import accuracy_score, make_scorer\n",
    "from sklearn.model_selection import KFold, train_test_split, GridSearchCV, RandomizedSearchCV\n",
    "from sklearn.tree import DecisionTreeClassifier\n",
    "from functools import reduce\n",
    "# !pip install tqdm -U\n",
    "from tqdm.notebook import tqdm"
   ]
  },
  {
   "cell_type": "code",
   "execution_count": 102,
   "metadata": {},
   "outputs": [],
   "source": [
    "class MyDecisionTreeClassifier:\n",
    "    NON_LEAF_TYPE = 0\n",
    "    LEAF_TYPE = 1\n",
    "\n",
    "    def __init__(self, min_samples_split=2, max_depth=5, criterion='gini'):\n",
    "        \"\"\"\n",
    "        criterion -- критерий расщепления. необходимо релизовать три:\n",
    "        Ошибка классификации, Индекс Джини, Энтропийный критерий\n",
    "        max_depth -- максимальная глубина дерева\n",
    "        min_samples_split -- минимальное число объектов в листе, чтобы сделать новый сплит\n",
    "        \"\"\"\n",
    "        self.criterion = criterion\n",
    "        self.min_samples_split = min_samples_split\n",
    "        self.max_depth = max_depth\n",
    "        self.num_class = -1\n",
    "        # Для последнего задания\n",
    "        self.feature_importances_ = None\n",
    "        self.criterion = criterion\n",
    "\n",
    "        # Структура, которая описывает дерево\n",
    "        # Представляет словарь, где для  node_id (айдишник узла дерева) храним\n",
    "        # (тип_узла, айдишник признака сплита, порог сплита) если тип NON_LEAF_TYPE\n",
    "        # (тип_узла, предсказание класса, вероятность класса) если тип LEAF_TYPE\n",
    "        # Подразумевается, что у каждого node_id в дереве слева \n",
    "        # узел с айди 2 * node_id + 1, а справа 2 * node_id + 2\n",
    "                \n",
    "        self.tree = {0: [self.__class__.NON_LEAF_TYPE, -1, 0.0]}\n",
    "        \n",
    "\n",
    "    def __div_samples(self, x, y, feature_id, threshold):\n",
    "        \"\"\"\n",
    "        Разделяет объекты на 2 множества\n",
    "        x -- матрица объектов\n",
    "        y -- вектор ответов\n",
    "        feature_id -- айдишник признака, по которому делаем сплит\n",
    "        threshold -- порог, по которому делаем сплит\n",
    "        \"\"\"\n",
    "        left_mask = x[:, feature_id] > threshold\n",
    "        right_mask = ~left_mask\n",
    "        return x[left_mask], x[right_mask], y[left_mask], y[right_mask]\n",
    "    \n",
    "\n",
    "    def __info(self, l_c, l_s, r_c, r_s, criterion):\n",
    "        \"\"\"\n",
    "        Считаем меру неопределённости\n",
    "        посредством критерия criterion\n",
    "        по выборке (x, y)\n",
    "        \"\"\"\n",
    "\n",
    "        if   criterion == 'misclass':\n",
    "            return self.__misclass(l_c, l_s, r_c, r_s)\n",
    "        \n",
    "        elif criterion == 'gini':\n",
    "            return self.__gini(l_c, l_s, r_c, r_s)\n",
    "        \n",
    "        elif criterion == 'entropy':\n",
    "            return self.__entropy(l_c, l_s, r_c, r_s)\n",
    "        \n",
    "        else:\n",
    "            raise RuntimeError(\"No such criterion as \\'{}\\'!\".format(criterion))\n",
    "\n",
    "            \n",
    "            \n",
    "    def __gini(self, l_c, l_s, r_c, r_s):#матрицы: NxKxF. N - число объектов\n",
    "        l_s = l_s.astype('float')  # K - число классов, F - число признаков. r_c - общее количество \n",
    "        r_s = r_s.astype('float')  # справа, r_s количество справа по классам.\n",
    "                                   # l_s: l_s - r_s = количество объектов слева по классам\n",
    "                                   # l_c: l_c - r_c = общее количество объектов слева\n",
    "        return ((r_s-l_s*(r_c/l_c))**2).sum(axis=1)/((l_c-r_c)*r_c).reshape(-1,1)\n",
    "    \n",
    "    def __entropy(self, l_c, l_s, r_c, r_s):\n",
    "        return reduce(lambda ans,x:ans+(x[0]*np.log(x[0]/x[1]+0.000000000001)).sum(axis=1),\n",
    "                      [[l_s-r_s,l_c-r_c],[r_s,r_c],[-l_s,-l_c]],0)/l_c\n",
    "    def __misclass(self, l_c, l_s, r_c, r_s):\n",
    "        return ((l_s-r_s)/(l_c-r_c)).max(axis=1)+(r_s/r_c).max(axis=1)-(l_s/l_c).max(axis=1)\n",
    "\n",
    "    def __find_threshold(self, x, y):\n",
    "        y_un=np.unique(y)\n",
    "        LS=(y[...,np.newaxis]==y_un[np.newaxis]).sum(axis=0)\n",
    "        if LS.max()==y.shape[0]:\n",
    "            return [-1,-1]\n",
    "        \n",
    "        best_gain=0\n",
    "        best_feature=best_th=-1\n",
    "        \n",
    "        rc=np.arange(1,y.shape[0])\n",
    "        \n",
    "        Y=y.shape[0]\n",
    "        \n",
    "        feature_ids=np.arange(x.shape[1])\n",
    "        sorted_ids=x[:,feature_ids].argsort(axis=0)\n",
    "        rs=(y[sorted_ids][:,np.newaxis]==y_un[np.newaxis,:,np.newaxis]).astype(int)\n",
    "        for i in range(1,y.shape[0]):\n",
    "                rs[i]+=rs[i-1]\n",
    "        R=rs[-1]\n",
    "        rs=rs[:-1]\n",
    "        gain=self.__info(Y,R[np.newaxis],rc[...,np.newaxis,np.newaxis],rs, self.criterion)\n",
    "        r=np.take_along_axis(x,sorted_ids,axis=0)\n",
    "        gain*=r[:-1]!=r[1:]\n",
    "        best_idx=gain.argmax()\n",
    "        if gain.ravel()[best_idx] > 0:\n",
    "            best_feature=feature_ids[best_idx%gain.shape[1]]\n",
    "            best_th=x[sorted_ids.ravel()[best_idx],best_feature]\n",
    "            self.feature_importances_[best_feature] += gain.ravel()[best_idx]\n",
    "    \n",
    "        return best_feature,best_th\n",
    "        \n",
    "\n",
    "    def __fit_node(self, x, y, node_id, depth):\n",
    "        \"\"\"\n",
    "        Делаем новый узел в дереве\n",
    "        Решаем, терминальный он или нет\n",
    "        Если нет, то строим левый узел  с айди 2 * node_id + 1\n",
    "        И правый узел с  айди 2 * node_id + 2\n",
    "        \"\"\"\n",
    "        \n",
    "        c_node = self.tree[node_id]\n",
    "        \n",
    "        y_len = y.shape[0]\n",
    "        \n",
    "        prob_distr = np.bincount(y, minlength=self.num_class,\\\n",
    "                                    weights=[1/y_len]*y_len)\n",
    "        \n",
    "        condition = (x.shape[0] <= self.min_samples_split) \\\n",
    "                        or np.isclose(np.max(prob_distr), 1.0) \\\n",
    "                            or (self.max_depth < depth)\n",
    "        \n",
    "        if condition:\n",
    "            c_node[0] = self.__class__.LEAF_TYPE        \n",
    "            c_node[1] = np.argmax(prob_distr)\n",
    "            c_node[2] = prob_distr[c_node[1]]\n",
    "        \n",
    "        else:\n",
    "            c_node[1], c_node[2] = self.__find_threshold(x, y)\n",
    "            x_left, x_right, y_left, y_right = self.__div_samples(x, y, c_node[1], c_node[2])\n",
    "            c_node[0] = self.__class__.NON_LEAF_TYPE\n",
    "            self.tree[2*node_id+1] = [None, None, None]\n",
    "            self.tree[2*node_id+2] = [None, None, None]  \n",
    "            self.__fit_node(x_left,  y_left,  2*node_id+1, depth+1)\n",
    "            self.__fit_node(x_right, y_right, 2*node_id+2, depth+1)\n",
    "\n",
    "    \n",
    "    def fit(self, x, y):        \n",
    "        \"\"\"\n",
    "        Рекурсивно строим дерево решений\n",
    "        Начинаем с корня node_id 0\n",
    "        \"\"\"\n",
    "        self.num_class = np.unique(y).size\n",
    "        self.feature_importances_= np.zeros(x.shape[1])\n",
    "        self.__fit_node(np.asarray(x), np.asarray(y), 0, 0)\n",
    "            \n",
    "\n",
    "    def __predict_class(self, x, node_id):\n",
    "        \"\"\"\n",
    "        Рекурсивно обходим дерево по всем узлам,\n",
    "        пока не дойдем до терминального\n",
    "        \"\"\"\n",
    "        node = self.tree[node_id]\n",
    "        if node[0] == self.__class__.NON_LEAF_TYPE:\n",
    "            _, feature_id, threshold = node\n",
    "            if x[feature_id] > threshold:\n",
    "                return self.__predict_class(x, 2 * node_id + 1)\n",
    "            else:\n",
    "                return self.__predict_class(x, 2 * node_id + 2)\n",
    "        else:\n",
    "            return node[1]\n",
    "        \n",
    "        \n",
    "    def predict(self, X):\n",
    "        \"\"\"\n",
    "        Вызывает predict для всех объектов из матрицы X\n",
    "        \"\"\"\n",
    "        return np.array([self.__predict_class(x, 0) for x in np.asarray(X)])\n",
    "\n",
    "    \n",
    "    def fit_predict(self, x_train, y_train, predicted_x):\n",
    "        self.fit(x_train, y_train)\n",
    "        return self.predict(predicted_x)\n",
    "\n",
    "    \n",
    "    def get_feature_importance(self):\n",
    "        \"\"\"\n",
    "        Возвращает важность признаков\n",
    "        \"\"\"\n",
    "        return {key: self.feature_importances_[key] for key in self.feature_importances_.argsort()[::-1]}"
   ]
  },
  {
   "cell_type": "code",
   "execution_count": 92,
   "metadata": {
    "colab": {},
    "colab_type": "code",
    "id": "AwcM7PqSDbbC"
   },
   "outputs": [],
   "source": [
    "my_clf = MyDecisionTreeClassifier(min_samples_split=2, criterion='gini')\n",
    "clf = DecisionTreeClassifier(min_samples_split=2, criterion='gini')"
   ]
  },
  {
   "cell_type": "code",
   "execution_count": 93,
   "metadata": {
    "colab": {},
    "colab_type": "code",
    "id": "QhisFftGDbbP"
   },
   "outputs": [],
   "source": [
    "wine = load_wine()\n",
    "X_train, X_test, y_train, y_test = train_test_split(wine.data, wine.target, test_size=0.1, stratify=wine.target)"
   ]
  },
  {
   "cell_type": "code",
   "execution_count": 94,
   "metadata": {},
   "outputs": [
    {
     "data": {
      "text/plain": [
       "DecisionTreeClassifier(class_weight=None, criterion='gini', max_depth=None,\n",
       "                       max_features=None, max_leaf_nodes=None,\n",
       "                       min_impurity_decrease=0.0, min_impurity_split=None,\n",
       "                       min_samples_leaf=1, min_samples_split=2,\n",
       "                       min_weight_fraction_leaf=0.0, presort=False,\n",
       "                       random_state=None, splitter='best')"
      ]
     },
     "execution_count": 94,
     "metadata": {},
     "output_type": "execute_result"
    }
   ],
   "source": [
    "my_clf.fit(X_train, y_train)\n",
    "clf.fit(X_train, y_train)"
   ]
  },
  {
   "cell_type": "code",
   "execution_count": 95,
   "metadata": {
    "colab": {},
    "colab_type": "code",
    "id": "O7db8QSSDbba"
   },
   "outputs": [
    {
     "data": {
      "text/plain": [
       "(0.8888888888888888, 0.8888888888888888)"
      ]
     },
     "execution_count": 95,
     "metadata": {},
     "output_type": "execute_result"
    }
   ],
   "source": [
    "accuracy_score(y_pred=clf.predict(X_test), y_true=y_test), accuracy_score(y_pred=my_clf.predict(X_test), y_true=y_test)"
   ]
  },
  {
   "cell_type": "markdown",
   "metadata": {
    "colab_type": "text",
    "id": "FGauzyl6Dbbm"
   },
   "source": [
    "## Ускоряем дерево решений (2 балла)\n",
    "Добиться скорости работы на fit не медленнее чем в 10 раз sklearn на данных wine. \n",
    "Для этого используем numpy."
   ]
  },
  {
   "cell_type": "code",
   "execution_count": 15,
   "metadata": {
    "colab": {},
    "colab_type": "code",
    "id": "VV8mXglkDbbr",
    "scrolled": true
   },
   "outputs": [
    {
     "name": "stdout",
     "output_type": "stream",
     "text": [
      "883 µs ± 12.9 µs per loop (mean ± std. dev. of 7 runs, 1000 loops each)\n"
     ]
    }
   ],
   "source": [
    "%timeit clf.fit(X_train, y_train)"
   ]
  },
  {
   "cell_type": "code",
   "execution_count": 16,
   "metadata": {
    "colab": {},
    "colab_type": "code",
    "id": "2hd1mV6gDbb5"
   },
   "outputs": [
    {
     "name": "stdout",
     "output_type": "stream",
     "text": [
      "6.02 ms ± 46.5 µs per loop (mean ± std. dev. of 7 runs, 100 loops each)\n"
     ]
    }
   ],
   "source": [
    "%timeit my_clf.fit(X_train, y_train)"
   ]
  },
  {
   "cell_type": "markdown",
   "metadata": {
    "colab_type": "text",
    "id": "cEtP59-6DbcP"
   },
   "source": [
    "## Боевое применение (3 балла)\n",
    "\n",
    "На практике Вы познакомились с датасетом Speed Dating Data. В нем каждая пара в быстрых свиданиях характеризуется определенным набором признаков. Задача -- предсказать, произойдет ли матч пары (колонка match). \n",
    "\n",
    "Пример работы с датасетом можете найти в практике пункт 2\n",
    "https://github.com/VVVikulin/ml1.sphere/blob/master/2019-09/lecture_06/pract-trees.ipynb\n",
    "\n",
    "Данные и описания колонок лежат тут\n",
    "https://cloud.mail.ru/public/8nHV/p6J7wY1y1/speed-dating-experiment/"
   ]
  },
  {
   "cell_type": "markdown",
   "metadata": {
    "colab_type": "text",
    "id": "H8TdyRwoDbcQ"
   },
   "source": [
    "Скачайте датасет, обработайте данные, как показано на семинаре или своим собственным способом. Обучите дерево классифкации. В качестве таргета возьмите колонку 'match'. Постарайтесь хорошо обработать признаки, чтобы выбить максимальную точность. Если точность будет близка к случайному гаданию, задание не будет защитано. \n"
   ]
  },
  {
   "cell_type": "code",
   "execution_count": 22,
   "metadata": {
    "colab": {},
    "colab_type": "code",
    "id": "17ybw0FiDbcR"
   },
   "outputs": [],
   "source": [
    "df = pd.read_csv('Speed Dating Data.csv', encoding = \"ISO-8859-1\")"
   ]
  },
  {
   "cell_type": "code",
   "execution_count": 23,
   "metadata": {},
   "outputs": [
    {
     "data": {
      "text/html": [
       "<div>\n",
       "<style scoped>\n",
       "    .dataframe tbody tr th:only-of-type {\n",
       "        vertical-align: middle;\n",
       "    }\n",
       "\n",
       "    .dataframe tbody tr th {\n",
       "        vertical-align: top;\n",
       "    }\n",
       "\n",
       "    .dataframe thead th {\n",
       "        text-align: right;\n",
       "    }\n",
       "</style>\n",
       "<table border=\"1\" class=\"dataframe\">\n",
       "  <thead>\n",
       "    <tr style=\"text-align: right;\">\n",
       "      <th></th>\n",
       "      <th>iid</th>\n",
       "      <th>id</th>\n",
       "      <th>gender</th>\n",
       "      <th>idg</th>\n",
       "      <th>condtn</th>\n",
       "      <th>wave</th>\n",
       "      <th>round</th>\n",
       "      <th>position</th>\n",
       "      <th>positin1</th>\n",
       "      <th>order</th>\n",
       "      <th>...</th>\n",
       "      <th>attr3_3</th>\n",
       "      <th>sinc3_3</th>\n",
       "      <th>intel3_3</th>\n",
       "      <th>fun3_3</th>\n",
       "      <th>amb3_3</th>\n",
       "      <th>attr5_3</th>\n",
       "      <th>sinc5_3</th>\n",
       "      <th>intel5_3</th>\n",
       "      <th>fun5_3</th>\n",
       "      <th>amb5_3</th>\n",
       "    </tr>\n",
       "  </thead>\n",
       "  <tbody>\n",
       "    <tr>\n",
       "      <th>0</th>\n",
       "      <td>1</td>\n",
       "      <td>1.0</td>\n",
       "      <td>0</td>\n",
       "      <td>1</td>\n",
       "      <td>1</td>\n",
       "      <td>1</td>\n",
       "      <td>10</td>\n",
       "      <td>7</td>\n",
       "      <td>NaN</td>\n",
       "      <td>4</td>\n",
       "      <td>...</td>\n",
       "      <td>5.0</td>\n",
       "      <td>7.0</td>\n",
       "      <td>7.0</td>\n",
       "      <td>7.0</td>\n",
       "      <td>7.0</td>\n",
       "      <td>NaN</td>\n",
       "      <td>NaN</td>\n",
       "      <td>NaN</td>\n",
       "      <td>NaN</td>\n",
       "      <td>NaN</td>\n",
       "    </tr>\n",
       "    <tr>\n",
       "      <th>1</th>\n",
       "      <td>1</td>\n",
       "      <td>1.0</td>\n",
       "      <td>0</td>\n",
       "      <td>1</td>\n",
       "      <td>1</td>\n",
       "      <td>1</td>\n",
       "      <td>10</td>\n",
       "      <td>7</td>\n",
       "      <td>NaN</td>\n",
       "      <td>3</td>\n",
       "      <td>...</td>\n",
       "      <td>5.0</td>\n",
       "      <td>7.0</td>\n",
       "      <td>7.0</td>\n",
       "      <td>7.0</td>\n",
       "      <td>7.0</td>\n",
       "      <td>NaN</td>\n",
       "      <td>NaN</td>\n",
       "      <td>NaN</td>\n",
       "      <td>NaN</td>\n",
       "      <td>NaN</td>\n",
       "    </tr>\n",
       "    <tr>\n",
       "      <th>2</th>\n",
       "      <td>1</td>\n",
       "      <td>1.0</td>\n",
       "      <td>0</td>\n",
       "      <td>1</td>\n",
       "      <td>1</td>\n",
       "      <td>1</td>\n",
       "      <td>10</td>\n",
       "      <td>7</td>\n",
       "      <td>NaN</td>\n",
       "      <td>10</td>\n",
       "      <td>...</td>\n",
       "      <td>5.0</td>\n",
       "      <td>7.0</td>\n",
       "      <td>7.0</td>\n",
       "      <td>7.0</td>\n",
       "      <td>7.0</td>\n",
       "      <td>NaN</td>\n",
       "      <td>NaN</td>\n",
       "      <td>NaN</td>\n",
       "      <td>NaN</td>\n",
       "      <td>NaN</td>\n",
       "    </tr>\n",
       "    <tr>\n",
       "      <th>3</th>\n",
       "      <td>1</td>\n",
       "      <td>1.0</td>\n",
       "      <td>0</td>\n",
       "      <td>1</td>\n",
       "      <td>1</td>\n",
       "      <td>1</td>\n",
       "      <td>10</td>\n",
       "      <td>7</td>\n",
       "      <td>NaN</td>\n",
       "      <td>5</td>\n",
       "      <td>...</td>\n",
       "      <td>5.0</td>\n",
       "      <td>7.0</td>\n",
       "      <td>7.0</td>\n",
       "      <td>7.0</td>\n",
       "      <td>7.0</td>\n",
       "      <td>NaN</td>\n",
       "      <td>NaN</td>\n",
       "      <td>NaN</td>\n",
       "      <td>NaN</td>\n",
       "      <td>NaN</td>\n",
       "    </tr>\n",
       "    <tr>\n",
       "      <th>4</th>\n",
       "      <td>1</td>\n",
       "      <td>1.0</td>\n",
       "      <td>0</td>\n",
       "      <td>1</td>\n",
       "      <td>1</td>\n",
       "      <td>1</td>\n",
       "      <td>10</td>\n",
       "      <td>7</td>\n",
       "      <td>NaN</td>\n",
       "      <td>7</td>\n",
       "      <td>...</td>\n",
       "      <td>5.0</td>\n",
       "      <td>7.0</td>\n",
       "      <td>7.0</td>\n",
       "      <td>7.0</td>\n",
       "      <td>7.0</td>\n",
       "      <td>NaN</td>\n",
       "      <td>NaN</td>\n",
       "      <td>NaN</td>\n",
       "      <td>NaN</td>\n",
       "      <td>NaN</td>\n",
       "    </tr>\n",
       "  </tbody>\n",
       "</table>\n",
       "<p>5 rows × 195 columns</p>\n",
       "</div>"
      ],
      "text/plain": [
       "   iid   id  gender  idg  condtn  wave  round  position  positin1  order  ...  \\\n",
       "0    1  1.0       0    1       1     1     10         7       NaN      4  ...   \n",
       "1    1  1.0       0    1       1     1     10         7       NaN      3  ...   \n",
       "2    1  1.0       0    1       1     1     10         7       NaN     10  ...   \n",
       "3    1  1.0       0    1       1     1     10         7       NaN      5  ...   \n",
       "4    1  1.0       0    1       1     1     10         7       NaN      7  ...   \n",
       "\n",
       "   attr3_3  sinc3_3  intel3_3  fun3_3  amb3_3  attr5_3  sinc5_3  intel5_3  \\\n",
       "0      5.0      7.0       7.0     7.0     7.0      NaN      NaN       NaN   \n",
       "1      5.0      7.0       7.0     7.0     7.0      NaN      NaN       NaN   \n",
       "2      5.0      7.0       7.0     7.0     7.0      NaN      NaN       NaN   \n",
       "3      5.0      7.0       7.0     7.0     7.0      NaN      NaN       NaN   \n",
       "4      5.0      7.0       7.0     7.0     7.0      NaN      NaN       NaN   \n",
       "\n",
       "   fun5_3  amb5_3  \n",
       "0     NaN     NaN  \n",
       "1     NaN     NaN  \n",
       "2     NaN     NaN  \n",
       "3     NaN     NaN  \n",
       "4     NaN     NaN  \n",
       "\n",
       "[5 rows x 195 columns]"
      ]
     },
     "execution_count": 23,
     "metadata": {},
     "output_type": "execute_result"
    }
   ],
   "source": [
    "df.head()"
   ]
  },
  {
   "cell_type": "code",
   "execution_count": 24,
   "metadata": {},
   "outputs": [],
   "source": [
    "df = df.drop(['id', 'idg', 'condtn', 'round', 'position', 'positin1',\\\n",
    "              'order', 'partner', 'age_o', 'race_o', 'pf_o_att',\\\n",
    "              'pf_o_sin', 'pf_o_int', 'pf_o_fun', 'pf_o_amb', 'pf_o_sha',\\\n",
    "              'dec_o', 'attr_o', 'sinc_o', 'intel_o', 'fun_o',\\\n",
    "              'amb_o', 'shar_o', 'like_o', 'prob_o','met_o'],\\\n",
    "              axis=1)\\\n",
    "       .dropna(subset=['age'])\n"
   ]
  },
  {
   "cell_type": "code",
   "execution_count": 25,
   "metadata": {},
   "outputs": [],
   "source": [
    "df.loc[:, 'field_cd'] = df.loc[:, 'field_cd'].fillna(19)\n",
    "df = df.drop(['field', 'undergra'], axis=1)\n",
    "df.loc[:, 'mn_sat'] = df.loc[:, 'mn_sat'].str.replace(',', '').astype(np.float)\n",
    "df.loc[:, 'tuition'] = df.loc[:, 'tuition'].str.replace(',', '').astype(np.float)\n",
    "\n",
    "df.loc[:, 'income'] = df.loc[:, 'income'].str.replace(',', '').astype(np.float)\n",
    "df.loc[:, 'income'] = df.loc[:, 'income'].fillna(-999)"
   ]
  },
  {
   "cell_type": "code",
   "execution_count": 26,
   "metadata": {},
   "outputs": [],
   "source": [
    "df = df.dropna(subset=['imprelig', 'imprace'])\n",
    "df = df.dropna(subset=['date'])\n",
    "df.loc[:, 'career_c'] = df.loc[:, 'career_c'].fillna(18)"
   ]
  },
  {
   "cell_type": "code",
   "execution_count": 27,
   "metadata": {},
   "outputs": [],
   "source": [
    "df = df.drop(['sports','tvsports','exercise','dining','museums','art','hiking','gaming',\n",
    "       'clubbing','reading','tv','theater','movies','concerts','music','shopping','yoga'], axis=1)"
   ]
  },
  {
   "cell_type": "code",
   "execution_count": 28,
   "metadata": {},
   "outputs": [],
   "source": [
    "df = df.drop(['expnum'], axis=1)"
   ]
  },
  {
   "cell_type": "code",
   "execution_count": 29,
   "metadata": {},
   "outputs": [],
   "source": [
    "feat = ['iid', 'wave', 'attr1_1', 'sinc1_1', 'intel1_1', 'fun1_1', 'amb1_1', 'shar1_1']\n",
    "temp = df.drop_duplicates(subset=['iid', 'wave']).loc[:, feat]\n",
    "temp.loc[:, 'totalsum'] = temp.iloc[:, 2:].sum(axis=1)\n",
    "df.loc[:, 'temp_totalsum'] = df.loc[:, ['attr1_1',\\\n",
    "                            'sinc1_1', 'intel1_1', 'fun1_1', 'amb1_1', 'shar1_1']].sum(axis=1)\n",
    "df.loc[:, ['attr1_1', 'sinc1_1', 'intel1_1', 'fun1_1', 'amb1_1', 'shar1_1']] = \\\n",
    "        (df.loc[:, ['attr1_1', 'sinc1_1', 'intel1_1', 'fun1_1', 'amb1_1', 'shar1_1']]\\\n",
    "        .T/df.loc[:, 'temp_totalsum'].T).T * 100"
   ]
  },
  {
   "cell_type": "code",
   "execution_count": 30,
   "metadata": {},
   "outputs": [],
   "source": [
    "df.loc[:, 'temp_totalsum'] = df.loc[:, ['attr2_1', 'sinc2_1', 'intel2_1', 'fun2_1', 'amb2_1', 'shar2_1']].sum(axis=1)\n",
    "df.loc[:, ['attr2_1', 'sinc2_1', 'intel2_1', 'fun2_1', 'amb2_1', 'shar2_1']] = \\\n",
    "         (df.loc[:, ['attr2_1', 'sinc2_1', 'intel2_1', 'fun2_1', 'amb2_1', 'shar2_1']].\\\n",
    "         T/df.loc[:, 'temp_totalsum'].T).T * 100"
   ]
  },
  {
   "cell_type": "code",
   "execution_count": 31,
   "metadata": {},
   "outputs": [],
   "source": [
    "df = df.drop(['wave'], axis=1)"
   ]
  },
  {
   "cell_type": "code",
   "execution_count": 32,
   "metadata": {},
   "outputs": [],
   "source": [
    "df = df.drop(['temp_totalsum'], axis=1)\n",
    "df_male = df.query('gender == 1').drop_duplicates(subset=['iid', 'pid'])\\\n",
    "                                 .drop(['gender'], axis=1)\\\n",
    "                                 .dropna()\n",
    "df_female = df.query('gender == 0').drop_duplicates(subset=['iid'])\\\n",
    "                                   .drop(['gender', 'match', 'int_corr', 'samerace'], axis=1)\\\n",
    "                                   .dropna()        \n",
    "df_female.columns = df_female.columns + '_f'"
   ]
  },
  {
   "cell_type": "code",
   "execution_count": 33,
   "metadata": {},
   "outputs": [],
   "source": [
    "dd = {col: df[col].median() for col in df.columns if df[col].dtype == float}"
   ]
  },
  {
   "cell_type": "code",
   "execution_count": 34,
   "metadata": {},
   "outputs": [],
   "source": [
    "df = df.dropna(axis=1, thresh=7500).fillna(dd)"
   ]
  },
  {
   "cell_type": "code",
   "execution_count": 35,
   "metadata": {},
   "outputs": [],
   "source": [
    "df = pd.get_dummies(df)"
   ]
  },
  {
   "cell_type": "markdown",
   "metadata": {
    "colab_type": "text",
    "id": "Cr198YkuDbck"
   },
   "source": [
    "Разбейте датасет на трейн и валидацию. Подберите на валидации оптимальный критерий  информативности. \n",
    "Постройте графики зависимости точности на валидации от глубины дерева, от минимального числа объектов для сплита. \n",
    "Какой максимальной точности удалось достигнуть?"
   ]
  },
  {
   "cell_type": "code",
   "execution_count": 36,
   "metadata": {},
   "outputs": [],
   "source": [
    "my_clf = MyDecisionTreeClassifier(min_samples_split=2, max_depth=5, criterion='gini')\n",
    "clf = DecisionTreeClassifier(min_samples_split=2, max_depth=5, criterion='gini')"
   ]
  },
  {
   "cell_type": "code",
   "execution_count": 37,
   "metadata": {},
   "outputs": [],
   "source": [
    "X = df.drop(['match'], axis=1).to_numpy()\n",
    "y = df.match.to_numpy()"
   ]
  },
  {
   "cell_type": "code",
   "execution_count": 38,
   "metadata": {},
   "outputs": [],
   "source": [
    "X_train, X_val, y_train, y_val = train_test_split(X, y, test_size=0.1, stratify=y)"
   ]
  },
  {
   "cell_type": "code",
   "execution_count": 39,
   "metadata": {
    "colab": {},
    "colab_type": "code",
    "id": "avqKxmx7Dbcl"
   },
   "outputs": [],
   "source": [
    "clf.fit(X_train, y_train)\n",
    "my_clf.fit(X_train, y_train)"
   ]
  },
  {
   "cell_type": "code",
   "execution_count": 40,
   "metadata": {
    "colab": {},
    "colab_type": "code",
    "id": "yTm0EV9zDbcs"
   },
   "outputs": [
    {
     "name": "stdout",
     "output_type": "stream",
     "text": [
      "Accuracy by sklearn tree: 0.861\n",
      "Accuracy by custom  tree: 0.852\n"
     ]
    }
   ],
   "source": [
    "clf_acc = accuracy_score(y_pred=clf.predict(X_val), y_true=y_val)\n",
    "my_clf_acc = accuracy_score(y_pred=my_clf.predict(X_val), y_true=y_val)\n",
    "\n",
    "print('Accuracy by sklearn tree: %.3f' % clf_acc)\n",
    "print('Accuracy by custom  tree: %.3f' % my_clf_acc)"
   ]
  },
  {
   "cell_type": "code",
   "execution_count": 183,
   "metadata": {},
   "outputs": [],
   "source": [
    "search_params = {'max_depth': range(1,10),\\\n",
    "                 'min_sample_split': np.logspace(1,5,10,base=4),\\\n",
    "                 'criterion': ['gini', 'entropy']}# , 'misclass']}"
   ]
  },
  {
   "cell_type": "code",
   "execution_count": 184,
   "metadata": {},
   "outputs": [
    {
     "name": "stdout",
     "output_type": "stream",
     "text": [
      "Общее кол-во сочетаний параметров для перебора: 180\n"
     ]
    }
   ],
   "source": [
    "all_params = \\\n",
    "    [[depth, int(sample), crit] for depth in search_params['max_depth']\\\n",
    "                           for sample in search_params['min_sample_split']\\\n",
    "                           for crit in search_params['criterion']]\n",
    "\n",
    "print(\"Общее кол-во сочетаний параметров для перебора:\", len(all_params))"
   ]
  },
  {
   "cell_type": "code",
   "execution_count": 185,
   "metadata": {},
   "outputs": [],
   "source": [
    "folder = KFold(n_splits=2, shuffle=True)\n",
    "\n",
    "def get_score(params, X, y, metric=accuracy_score):\n",
    "    \n",
    "    my_scores = []    \n",
    "    my_estimator = MyDecisionTreeClassifier(max_depth=int(params[0]),\\\n",
    "                                            min_samples_split=int(params[1]),\\\n",
    "                                            criterion=params[2])\n",
    "\n",
    "    sk_scores = []        \n",
    "    sk_estimator = DecisionTreeClassifier(max_depth=int(params[0]),\\\n",
    "                                          min_samples_split=int(params[1]),\\\n",
    "                                          criterion=params[2])\n",
    "    \n",
    "    for train_index, val_index in folder.split(X,y):\n",
    "        \n",
    "        my_estimator.fit(X[train_index], y[train_index])\n",
    "        my_scores.append(accuracy_score(y_pred=my_estimator.predict(X[val_index]), y_true=y[val_index]))        \n",
    "        sk_estimator.fit(X[train_index], y[train_index])\n",
    "        sk_scores.append(accuracy_score(y_pred=sk_estimator.predict(X[val_index]), y_true=y[val_index]))        \n",
    "\n",
    "    return [np.mean(my_scores), np.mean(sk_scores)]"
   ]
  },
  {
   "cell_type": "code",
   "execution_count": 186,
   "metadata": {},
   "outputs": [],
   "source": [
    "indexes = np.arange(len(all_params))\n",
    "np.random.shuffle(indexes)"
   ]
  },
  {
   "cell_type": "code",
   "execution_count": 187,
   "metadata": {},
   "outputs": [
    {
     "data": {
      "application/vnd.jupyter.widget-view+json": {
       "model_id": "c8984b536fe640a6b93a65e373dbdaa9",
       "version_major": 2,
       "version_minor": 0
      },
      "text/plain": [
       "HBox(children=(FloatProgress(value=0.0, max=180.0), HTML(value='')))"
      ]
     },
     "metadata": {},
     "output_type": "display_data"
    },
    {
     "name": "stdout",
     "output_type": "stream",
     "text": [
      "\n"
     ]
    }
   ],
   "source": [
    "table_of_results = pd.DataFrame()\n",
    "\n",
    "my_history = []\n",
    "sk_history = []\n",
    "for index in tqdm(indexes):\n",
    "    \n",
    "    params = all_params[index]\n",
    "    scores = get_score(params, X, y)\n",
    "    \n",
    "    tmp_frame = pd.DataFrame({'model_owner': 'custom',\\\n",
    "                              'max_depth': params[0],\\\n",
    "                              'min_sample_split': params[1],\\\n",
    "                              'criterion': params[2],\\\n",
    "                              'accuracy_score': [scores[0]]})\n",
    "    table_of_results = table_of_results.append(tmp_frame)\n",
    "    \n",
    "    tmp_frame = pd.DataFrame({'model_owner': 'sklearn',\\\n",
    "                              'max_depth': params[0],\\\n",
    "                              'min_sample_split': params[1],\\\n",
    "                              'criterion': params[2],\\\n",
    "                              'accuracy_score': [scores[1]]})   \n",
    "    table_of_results = table_of_results.append(tmp_frame) \n",
    "    \n",
    "table_of_results = table_of_results.reset_index().drop(['index'], axis=1)"
   ]
  },
  {
   "cell_type": "code",
   "execution_count": 188,
   "metadata": {},
   "outputs": [
    {
     "data": {
      "text/html": [
       "<div>\n",
       "<style scoped>\n",
       "    .dataframe tbody tr th:only-of-type {\n",
       "        vertical-align: middle;\n",
       "    }\n",
       "\n",
       "    .dataframe tbody tr th {\n",
       "        vertical-align: top;\n",
       "    }\n",
       "\n",
       "    .dataframe thead th {\n",
       "        text-align: right;\n",
       "    }\n",
       "</style>\n",
       "<table border=\"1\" class=\"dataframe\">\n",
       "  <thead>\n",
       "    <tr style=\"text-align: right;\">\n",
       "      <th></th>\n",
       "      <th>model_owner</th>\n",
       "      <th>max_depth</th>\n",
       "      <th>min_sample_split</th>\n",
       "      <th>criterion</th>\n",
       "      <th>accuracy_score</th>\n",
       "    </tr>\n",
       "  </thead>\n",
       "  <tbody>\n",
       "    <tr>\n",
       "      <th>182</th>\n",
       "      <td>custom</td>\n",
       "      <td>4</td>\n",
       "      <td>13</td>\n",
       "      <td>gini</td>\n",
       "      <td>0.853800</td>\n",
       "    </tr>\n",
       "    <tr>\n",
       "      <th>4</th>\n",
       "      <td>custom</td>\n",
       "      <td>4</td>\n",
       "      <td>7</td>\n",
       "      <td>entropy</td>\n",
       "      <td>0.853438</td>\n",
       "    </tr>\n",
       "    <tr>\n",
       "      <th>342</th>\n",
       "      <td>custom</td>\n",
       "      <td>8</td>\n",
       "      <td>25</td>\n",
       "      <td>gini</td>\n",
       "      <td>0.853437</td>\n",
       "    </tr>\n",
       "    <tr>\n",
       "      <th>203</th>\n",
       "      <td>sklearn</td>\n",
       "      <td>7</td>\n",
       "      <td>47</td>\n",
       "      <td>entropy</td>\n",
       "      <td>0.853073</td>\n",
       "    </tr>\n",
       "    <tr>\n",
       "      <th>78</th>\n",
       "      <td>custom</td>\n",
       "      <td>6</td>\n",
       "      <td>13</td>\n",
       "      <td>entropy</td>\n",
       "      <td>0.852103</td>\n",
       "    </tr>\n",
       "    <tr>\n",
       "      <th>319</th>\n",
       "      <td>sklearn</td>\n",
       "      <td>4</td>\n",
       "      <td>7</td>\n",
       "      <td>gini</td>\n",
       "      <td>0.851861</td>\n",
       "    </tr>\n",
       "    <tr>\n",
       "      <th>310</th>\n",
       "      <td>custom</td>\n",
       "      <td>2</td>\n",
       "      <td>161</td>\n",
       "      <td>gini</td>\n",
       "      <td>0.851740</td>\n",
       "    </tr>\n",
       "    <tr>\n",
       "      <th>112</th>\n",
       "      <td>custom</td>\n",
       "      <td>5</td>\n",
       "      <td>87</td>\n",
       "      <td>gini</td>\n",
       "      <td>0.851498</td>\n",
       "    </tr>\n",
       "    <tr>\n",
       "      <th>69</th>\n",
       "      <td>sklearn</td>\n",
       "      <td>4</td>\n",
       "      <td>4</td>\n",
       "      <td>entropy</td>\n",
       "      <td>0.851498</td>\n",
       "    </tr>\n",
       "    <tr>\n",
       "      <th>68</th>\n",
       "      <td>custom</td>\n",
       "      <td>4</td>\n",
       "      <td>4</td>\n",
       "      <td>entropy</td>\n",
       "      <td>0.851255</td>\n",
       "    </tr>\n",
       "  </tbody>\n",
       "</table>\n",
       "</div>"
      ],
      "text/plain": [
       "    model_owner  max_depth  min_sample_split criterion  accuracy_score\n",
       "182      custom          4                13      gini        0.853800\n",
       "4        custom          4                 7   entropy        0.853438\n",
       "342      custom          8                25      gini        0.853437\n",
       "203     sklearn          7                47   entropy        0.853073\n",
       "78       custom          6                13   entropy        0.852103\n",
       "319     sklearn          4                 7      gini        0.851861\n",
       "310      custom          2               161      gini        0.851740\n",
       "112      custom          5                87      gini        0.851498\n",
       "69      sklearn          4                 4   entropy        0.851498\n",
       "68       custom          4                 4   entropy        0.851255"
      ]
     },
     "execution_count": 188,
     "metadata": {},
     "output_type": "execute_result"
    }
   ],
   "source": [
    "table_of_results.sort_values(by=['accuracy_score'], ascending=False).head(10)"
   ]
  },
  {
   "cell_type": "code",
   "execution_count": 197,
   "metadata": {},
   "outputs": [
    {
     "data": {
      "image/png": "[encoded data removed]",
      "text/plain": [
       "<Figure size 1080x360 with 1 Axes>"
      ]
     },
     "metadata": {
      "needs_background": "light"
     },
     "output_type": "display_data"
    }
   ],
   "source": [
    "# Визуализируем влияние max_depth на accuracy:\n",
    "\n",
    "fig = plt.figure(figsize=(15,5))\n",
    "ax = plt.subplot()\n",
    "ax.set_title('MyDecisionTreeClassifier / DecisionTreeClassifier')\n",
    "ax.set_xlabel('max depth')\n",
    "ax.set_ylabel('accuracy')\n",
    "ax.grid()\n",
    "\n",
    "\n",
    "# Модель построенная нами:\n",
    "\n",
    "indx_max = table_of_results.query('model_owner == \"custom\"').accuracy_score.idxmax()\n",
    "best_custom_model = table_of_results.iloc[[indx_max]]\n",
    "best_sample_split = best_custom_model.min_sample_split.to_list()[0]\n",
    "best_criterion = best_custom_model.criterion.to_list()[0]\n",
    "\n",
    "sub_table_by_depth = table_of_results.query('model_owner == \"custom\" \\\n",
    "                                           & min_sample_split == @best_sample_split \\\n",
    "                                           & criterion == @best_criterion')\n",
    "\n",
    "custom_graph = sub_table_by_depth.loc[:,['max_depth', 'accuracy_score']]\\\n",
    "                  .sort_values(by=['max_depth'])\\\n",
    "                  .set_index('max_depth')\n",
    "\n",
    "\n",
    "# Модель из библиотеки scikit-learn:\n",
    "\n",
    "indx_max = table_of_results.query('model_owner == \"sklearn\"').accuracy_score.idxmax()\n",
    "best_custom_model = table_of_results.iloc[[indx_max]]\n",
    "best_sample_split = best_custom_model.min_sample_split.to_list()[0]\n",
    "best_criterion = best_custom_model.criterion.to_list()[0]\n",
    "\n",
    "sub_table_by_depth = table_of_results.query('model_owner == \"sklearn\" \\\n",
    "                                           & min_sample_split == @best_sample_split \\\n",
    "                                           & criterion == @best_criterion')\n",
    "\n",
    "sklearn_graph = sub_table_by_depth.loc[:,['max_depth', 'accuracy_score']]\\\n",
    "                  .sort_values(by=['max_depth'])\\\n",
    "                  .set_index('max_depth')\n",
    "\n",
    "ax.plot(custom_graph, label='custom')\n",
    "ax.plot(sklearn_graph, label='sklearn')\n",
    "\n",
    "ax.legend()\n",
    "\n",
    "plt.show();"
   ]
  },
  {
   "cell_type": "code",
   "execution_count": 196,
   "metadata": {},
   "outputs": [
    {
     "data": {
      "image/png": "[encoded data removed]",
      "text/plain": [
       "<Figure size 1080x360 with 1 Axes>"
      ]
     },
     "metadata": {
      "needs_background": "light"
     },
     "output_type": "display_data"
    }
   ],
   "source": [
    "# Визуализируем влияние min_sample_split на accuracy:\n",
    "\n",
    "fig = plt.figure(figsize=(15,5))\n",
    "ax = plt.subplot()\n",
    "ax.set_title('MyDecisionTreeClassifier / DecisionTreeClassifier')\n",
    "ax.set_xlabel('min sample split')\n",
    "ax.set_ylabel('accuracy')\n",
    "ax.grid()\n",
    "\n",
    "\n",
    "# Модель построенная нами:\n",
    "\n",
    "indx_max = table_of_results.query('model_owner == \"custom\"').accuracy_score.idxmax()\n",
    "best_custom_model = table_of_results.iloc[[indx_max]]\n",
    "best_depth = best_custom_model.max_depth.to_list()[0]\n",
    "best_criterion = best_custom_model.criterion.to_list()[0]\n",
    "\n",
    "sub_table_by_depth = table_of_results.query('model_owner == \"custom\" \\\n",
    "                                           & max_depth == @best_depth \\\n",
    "                                           & criterion == @best_criterion')\n",
    "\n",
    "custom_graph = sub_table_by_depth.loc[:,['min_sample_split', 'accuracy_score']]\\\n",
    "                  .sort_values(by=['min_sample_split'])\\\n",
    "                  .set_index('min_sample_split')\n",
    "\n",
    "\n",
    "# Модель из библиотеки scikit-learn:\n",
    "\n",
    "indx_max = table_of_results.query('model_owner == \"sklearn\"').accuracy_score.idxmax()\n",
    "best_custom_model = table_of_results.iloc[[indx_max]]\n",
    "best_depth = best_custom_model.max_depth.to_list()[0]\n",
    "best_criterion = best_custom_model.criterion.to_list()[0]\n",
    "\n",
    "sub_table_by_depth = table_of_results.query('model_owner == \"sklearn\" \\\n",
    "                                           & max_depth == @best_depth \\\n",
    "                                           & criterion == @best_criterion')\n",
    "\n",
    "sklearn_graph = sub_table_by_depth.loc[:,['min_sample_split', 'accuracy_score']]\\\n",
    "                  .sort_values(by=['min_sample_split'])\\\n",
    "                  .set_index('min_sample_split')\n",
    "\n",
    "ax.plot(custom_graph, label='custom')\n",
    "ax.plot(sklearn_graph, label='sklearn')\n",
    "\n",
    "ax.legend()\n",
    "\n",
    "plt.show();"
   ]
  },
  {
   "cell_type": "code",
   "execution_count": 190,
   "metadata": {},
   "outputs": [
    {
     "data": {
      "text/html": [
       "<div>\n",
       "<style scoped>\n",
       "    .dataframe tbody tr th:only-of-type {\n",
       "        vertical-align: middle;\n",
       "    }\n",
       "\n",
       "    .dataframe tbody tr th {\n",
       "        vertical-align: top;\n",
       "    }\n",
       "\n",
       "    .dataframe thead th {\n",
       "        text-align: right;\n",
       "    }\n",
       "</style>\n",
       "<table border=\"1\" class=\"dataframe\">\n",
       "  <thead>\n",
       "    <tr style=\"text-align: right;\">\n",
       "      <th></th>\n",
       "      <th>model_owner</th>\n",
       "      <th>max_depth</th>\n",
       "      <th>min_sample_split</th>\n",
       "      <th>criterion</th>\n",
       "      <th>accuracy_score</th>\n",
       "    </tr>\n",
       "  </thead>\n",
       "  <tbody>\n",
       "    <tr>\n",
       "      <th>182</th>\n",
       "      <td>custom</td>\n",
       "      <td>4</td>\n",
       "      <td>13</td>\n",
       "      <td>gini</td>\n",
       "      <td>0.853800</td>\n",
       "    </tr>\n",
       "    <tr>\n",
       "      <th>203</th>\n",
       "      <td>sklearn</td>\n",
       "      <td>7</td>\n",
       "      <td>47</td>\n",
       "      <td>entropy</td>\n",
       "      <td>0.853073</td>\n",
       "    </tr>\n",
       "  </tbody>\n",
       "</table>\n",
       "</div>"
      ],
      "text/plain": [
       "    model_owner  max_depth  min_sample_split criterion  accuracy_score\n",
       "182      custom          4                13      gini        0.853800\n",
       "203     sklearn          7                47   entropy        0.853073"
      ]
     },
     "execution_count": 190,
     "metadata": {},
     "output_type": "execute_result"
    }
   ],
   "source": [
    "custom_index = table_of_results.query('model_owner == \"custom\"').accuracy_score.idxmax()\n",
    "sklearn_index = table_of_results.query('model_owner == \"sklearn\"').accuracy_score.idxmax()\n",
    "table_of_results.iloc[[custom_index, sklearn_index]]"
   ]
  },
  {
   "cell_type": "markdown",
   "metadata": {
    "colab_type": "text",
    "id": "nvivFf1UDbcy"
   },
   "source": [
    "## Находим самые важные признаки (2 балла)\n",
    "\n"
   ]
  },
  {
   "cell_type": "markdown",
   "metadata": {
    "colab_type": "text",
    "id": "A7oRhgoYDbcz"
   },
   "source": [
    "По построенному дереву  легко понять, какие признаки лучше всего помогли решить задачу. Часто это бывает нужно  не только  для сокращения размерности в данных, но и для лучшего понимания прикладной задачи. Например, Вы хотите понять, какие признаки стоит еще конструировать -- для этого нужно понимать, какие из текущих лучше всего работают в дереве. "
   ]
  },
  {
   "cell_type": "markdown",
   "metadata": {
    "colab_type": "text",
    "id": "VXKFjz8XDbc0"
   },
   "source": [
    "Самый простой метод -- посчитать число сплитов, где использовался данные признак. Это не лучший вариант, так как по признаку который принимает всего 2 значения, но который почти точно разделяет выборку, число сплитов будет очень 1, но при этом признак сам очень хороший. \n",
    "В этом задании предлагается для каждого признака считать суммарный gain (в лекции обозначено как Q) при использовании этого признака в сплите. Тогда даже у очень хороших признаков с маленьким число сплитов это значение должно быть довольно высоким.  "
   ]
  },
  {
   "cell_type": "markdown",
   "metadata": {
    "colab_type": "text",
    "id": "EbpQfk6zDbc2"
   },
   "source": [
    "Реализовать это довольно просто: создаете словарь номер фичи : суммарный гейн и добавляете в нужную фичу каждый раз, когда используете ее при построении дерева. "
   ]
  },
  {
   "cell_type": "markdown",
   "metadata": {
    "colab_type": "text",
    "id": "jLtG3U7HDbc3"
   },
   "source": [
    "Добавьте функционал, который определяет значения feature importance. Обучите дерево на датасете Speed Dating Data.\n",
    "Выведите 10 главных фичей по важности."
   ]
  },
  {
   "cell_type": "code",
   "execution_count": 191,
   "metadata": {
    "colab": {},
    "colab_type": "code",
    "id": "hKOrU7ZdDbc4"
   },
   "outputs": [],
   "source": [
    "my_clf = MyDecisionTreeClassifier(max_depth=4, min_samples_split=13, criterion='entropy')\n",
    "clf    =   DecisionTreeClassifier(max_depth=7, min_samples_split=47, criterion='entropy')"
   ]
  },
  {
   "cell_type": "code",
   "execution_count": 192,
   "metadata": {},
   "outputs": [
    {
     "data": {
      "text/plain": [
       "DecisionTreeClassifier(class_weight=None, criterion='entropy', max_depth=7,\n",
       "                       max_features=None, max_leaf_nodes=None,\n",
       "                       min_impurity_decrease=0.0, min_impurity_split=None,\n",
       "                       min_samples_leaf=1, min_samples_split=47,\n",
       "                       min_weight_fraction_leaf=0.0, presort=False,\n",
       "                       random_state=None, splitter='best')"
      ]
     },
     "execution_count": 192,
     "metadata": {},
     "output_type": "execute_result"
    }
   ],
   "source": [
    "my_clf.fit(X, y)\n",
    "clf.fit(X, y)"
   ]
  },
  {
   "cell_type": "code",
   "execution_count": 193,
   "metadata": {},
   "outputs": [
    {
     "name": "stdout",
     "output_type": "stream",
     "text": [
      "sklearn: dec prob pid intel1_1 attr2_1 sinc2_1 fun race fun1_1 imprelig\n"
     ]
    }
   ],
   "source": [
    "# Важность признаков в дереве из sklearn:\n",
    "\n",
    "args=clf.feature_importances_.argsort()\n",
    "sklearn_features = np.array(df.drop(['match'],axis=1).columns.tolist())[args[::-1][:10]]\n",
    "print(\"sklearn:\", *sklearn_features)"
   ]
  },
  {
   "cell_type": "code",
   "execution_count": 194,
   "metadata": {
    "colab": {},
    "colab_type": "code",
    "id": "fSsiF7McDbdA"
   },
   "outputs": [
    {
     "name": "stdout",
     "output_type": "stream",
     "text": [
      "custom: intel3_1 dec intel2_1 attr2_1 from_Toronto, London, India imprelig sinc2_1 race prob pid\n"
     ]
    }
   ],
   "source": [
    "# Важность признаков в custom дереве:\n",
    "\n",
    "args=my_clf.feature_importances_.argsort()\n",
    "custom_features = np.array(df.drop(['match'],axis=1).columns.tolist())[args[::-1][:10]]\n",
    "print(\"custom:\", *custom_features)"
   ]
  },
  {
   "cell_type": "code",
   "execution_count": 195,
   "metadata": {},
   "outputs": [
    {
     "name": "stdout",
     "output_type": "stream",
     "text": [
      "Доля совпадений: 0.700\n"
     ]
    }
   ],
   "source": [
    "print(\"Доля совпадений: %.3f\" % ((sklearn_features[...,np.newaxis] == custom_features[np.newaxis])\\\n",
    "                                 .sum()/sklearn_features.size))"
   ]
  },
  {
   "cell_type": "markdown",
   "metadata": {
    "colab_type": "text",
    "id": "sJKyLdT1DbdH"
   },
   "source": [
    "## Фидбек (бесценно)"
   ]
  },
  {
   "cell_type": "markdown",
   "metadata": {
    "colab_type": "text",
    "id": "stTDpfM9DbdI"
   },
   "source": [
    "* Какие аспекты обучения деревьев решений Вам показались непонятными? Какое место стоит дополнительно объяснить?"
   ]
  },
  {
   "cell_type": "markdown",
   "metadata": {
    "colab_type": "text",
    "id": "JpWDfCQADbdK"
   },
   "source": [
    "### Ваш ответ здесь"
   ]
  },
  {
   "cell_type": "markdown",
   "metadata": {
    "colab_type": "text",
    "id": "4yQ51eUfDbdM"
   },
   "source": [
    "Принцип суррогатов, при пропуске значений."
   ]
  },
  {
   "cell_type": "markdown",
   "metadata": {
    "colab_type": "text",
    "id": "iv-eWbzdDbdQ"
   },
   "source": [
    "### ВАШ ОТЗЫВ ЗДЕСЬ\n",
    "\n"
   ]
  },
  {
   "cell_type": "code",
   "execution_count": 0,
   "metadata": {
    "colab": {},
    "colab_type": "code",
    "id": "gPaNABSYDbdS"
   },
   "outputs": [],
   "source": [
    "Всё вери гуд, ай дид лайк ит!"
   ]
  }
 ],
 "metadata": {
  "anaconda-cloud": {},
  "colab": {
   "name": "hw3.ipynb",
   "provenance": []
  },
  "kernelspec": {
   "display_name": "Python 3",
   "language": "python",
   "name": "python3"
  },
  "language_info": {
   "codemirror_mode": {
    "name": "ipython",
    "version": 3
   },
   "file_extension": ".py",
   "mimetype": "text/x-python",
   "name": "python",
   "nbconvert_exporter": "python",
   "pygments_lexer": "ipython3",
   "version": "3.7.3"
  }
 },
 "nbformat": 4,
 "nbformat_minor": 1
}
