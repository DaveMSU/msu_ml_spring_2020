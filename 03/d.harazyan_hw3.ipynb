{
 "cells": [
  {
   "cell_type": "markdown",
   "metadata": {
    "colab_type": "text",
    "id": "sg-NCKx5DbaT"
   },
   "source": [
    "### Алгоритмы интеллектуальной обработки больших объемов данных\n",
    "## Домашнее задание №3 - Дерево решений\n"
   ]
  },
  {
   "cell_type": "markdown",
   "metadata": {
    "colab_type": "text",
    "id": "a8v55muHDbaa"
   },
   "source": [
    "**Общая информация**\n",
    "\n",
    "**Срок сдачи:** 27 апреля 2020, 08:30   \n",
    "**Штраф за опоздание:** -2 балла после 08:30 27 апреля, -4 балла после 08:30 4 мая, -6 баллов после 08:30 11 мая, -8 баллов после 08:30 18 мая.\n",
    "\n",
    "При отправлении ДЗ указывайте фамилию в названии файла Присылать ДЗ необходимо в виде ссылки на свой github репозиторий на почту ml1.sphere@mail.ru с указанием темы в следующем формате:\n",
    "[ML0220, Задание 3] Фамилия Имя. \n",
    "\n",
    "\n",
    "Используйте данный Ipython Notebook при оформлении домашнего задания."
   ]
  },
  {
   "cell_type": "markdown",
   "metadata": {
    "colab_type": "text",
    "id": "NxPyifesDbac"
   },
   "source": [
    "##  Реализуем дерево решений (3 балла)"
   ]
  },
  {
   "cell_type": "markdown",
   "metadata": {
    "colab_type": "text",
    "id": "JdUDbJDCDbad"
   },
   "source": [
    "Допишите недостающие части дерева решений. Ваша реализация дерева должна работать по точности не хуже DecisionTreeClassifier из sklearn.\n",
    "Внимание: если Вас не устраивает предложенная структура хранения дерева, Вы без потери баллов можете сделать свой класс DecisionTreeClassifier, в котором сами полностью воспроизведете алгоритм дерева решений. Обязательно в нем иметь только функции fit, predict"
   ]
  },
  {
   "cell_type": "code",
   "execution_count": 170,
   "metadata": {
    "colab": {},
    "colab_type": "code",
    "id": "MNH3aqhlDbaf"
   },
   "outputs": [],
   "source": [
    "import matplotlib.pyplot as plt\n",
    "import numpy as np\n",
    "import pandas as pd\n",
    "\n",
    "from sklearn.datasets import load_wine\n",
    "from sklearn.ensemble import RandomForestClassifier\n",
    "from sklearn.metrics import accuracy_score\n",
    "from sklearn.model_selection import KFold, train_test_split, GridSearchCV, RandomizedSearchCV\n",
    "from sklearn.tree import DecisionTreeClassifier"
   ]
  },
  {
   "cell_type": "code",
   "execution_count": null,
   "metadata": {},
   "outputs": [],
   "source": [
    "#     def __find_threshold(self, x, y):\n",
    "#         \"\"\"\n",
    "#         Находим оптимальный признак и порог для сплита\n",
    "#         Здесь используемые разные impurity в зависимости от self.criterion\n",
    "#         \"\"\"\n",
    "#         max_info_gain = -1\n",
    "#         if x.shape[0] == 0:\n",
    "#             raise RuntimeError(\"Received an empty sample!\")\n",
    "\n",
    "#         features = np.arange(x.shape[1])\n",
    "#         varians = np.array([])\n",
    "\n",
    "#         for feature in features:\n",
    "#             tmp = np.unique(x[:,feature])\n",
    "#             if tmp.shape[0] < 2:\n",
    "#                 thresholds = tmp.copy()\n",
    "#             else:\n",
    "#                 thresholds = np.mean((tmp[:-1], np.roll(tmp, -1)[:-1]), axis=0)\n",
    "#             tmp_features = np.repeat(feature, thresholds.shape[0])\n",
    "#             tmp = np.dstack((tmp_features, thresholds))[0]\n",
    "\n",
    "#             if varians.shape[0] == 0:\n",
    "#                 varians = tmp.copy()\n",
    "#             else:\n",
    "#                 varians = np.vstack((varians, tmp))\n",
    "        \n",
    "#         current_info = self.__info(x, y, self.criterion)\n",
    "        \n",
    "#         for f_and_t in varians:\n",
    "            \n",
    "#             feature_id = int(f_and_t[0])\n",
    "#             threshold  = f_and_t[1]\n",
    "            \n",
    "#             # print(feature_id, threshold)\n",
    "\n",
    "#             x_left, x_right, y_left, y_right = self.__div_samples(x, y, feature_id, threshold)\n",
    "#             left_share = x_left.shape[0] / x.shape[0]\n",
    "\n",
    "#             left_info  = left_share       * self.__info(x_left,  y_left,  self.criterion)\n",
    "#             right_info = (1 - left_share) * self.__info(x_right, y_right, self.criterion)\n",
    "\n",
    "#             info_gain = current_info - left_info - right_info\n",
    "\n",
    "#             print(feature_id, \"%.4f\" % threshold, \"%.10f\" % info_gain, \"%.10f\" % max_info_gain)\n",
    "            \n",
    "#             if info_gain > max_info_gain:\n",
    "\n",
    "#                 max_info_gain = info_gain\n",
    "#                 best_feature_id = feature_id\n",
    "#                 best_threshold  = threshold\n",
    "                \n",
    "#             print(\"best feature: %.f\" % best_feature_id, \"best th: %.4f\" % best_threshold)\n",
    "#             print()\n",
    "\n",
    "#         x_left, x_right, y_left, y_right = self.__div_samples(x, y, best_feature_id, best_threshold) # ~о-мально!\n",
    "#         return best_feature_id, best_threshold, x_left, x_right, y_left, y_right\n",
    "        \n"
   ]
  },
  {
   "cell_type": "code",
   "execution_count": 1118,
   "metadata": {},
   "outputs": [],
   "source": [
    "class MyDecisionTreeClassifier:\n",
    "    NON_LEAF_TYPE = 0\n",
    "    LEAF_TYPE = 1\n",
    "\n",
    "    def __init__(self, min_samples_split=2, max_depth=5, criterion='gini'):\n",
    "        \"\"\"\n",
    "        criterion -- критерий расщепления. необходимо релизовать три:\n",
    "        Ошибка классификации, Индекс Джини, Энтропийный критерий\n",
    "        max_depth -- максимальная глубина дерева\n",
    "        min_samples_split -- минимальное число объектов в листе, чтобы сделать новый сплит\n",
    "        \"\"\"\n",
    "        self.criterion = criterion\n",
    "        self.min_samples_split = min_samples_split\n",
    "        self.max_depth = max_depth\n",
    "        self.num_class = -1\n",
    "        # Для последнего задания\n",
    "        self.feature_importances_ = None\n",
    "        self.criterion = criterion\n",
    "\n",
    "        # Структура, которая описывает дерево\n",
    "        # Представляет словарь, где для  node_id (айдишник узла дерева) храним\n",
    "        # (тип_узла, айдишник признака сплита, порог сплита) если тип NON_LEAF_TYPE\n",
    "        # (тип_узла, предсказание класса, вероятность класса) если тип LEAF_TYPE\n",
    "        # Подразумевается, что у каждого node_id в дереве слева \n",
    "        # узел с айди 2 * node_id + 1, а справа 2 * node_id + 2\n",
    "                \n",
    "        self.tree = {0: [self.__class__.NON_LEAF_TYPE, -1, 0.0]}\n",
    "        \n",
    "\n",
    "    def __div_samples(self, x, y, feature_id, threshold):\n",
    "        \"\"\"\n",
    "        Разделяет объекты на 2 множества\n",
    "        x -- матрица объектов\n",
    "        y -- вектор ответов\n",
    "        feature_id -- айдишник признака, по которому делаем сплит\n",
    "        threshold -- порог, по которому делаем сплит\n",
    "        \"\"\"\n",
    "        left_mask = x[:, feature_id] > threshold\n",
    "        right_mask = ~left_mask\n",
    "        return x[left_mask], x[right_mask], y[left_mask], y[right_mask]\n",
    "    \n",
    "\n",
    "    def __info(self, x, y, criterion):\n",
    "        \"\"\"\n",
    "        Считаем меру неопределённости\n",
    "        посредством критерия criterion\n",
    "        по выборке (x, y)\n",
    "        \"\"\"\n",
    "        \n",
    "        y_len = y.shape[0]\n",
    "\n",
    "        if y_len == 0:\n",
    "            return 0.0\n",
    "        \n",
    "        prob_distr = np.bincount(y,\\\n",
    "                                 minlength=self.num_class,\\\n",
    "                                 weights=[1/y_len]*y_len)\n",
    "        \n",
    "        if   criterion == 'error':\n",
    "            return 1 - prob_distr.max()\n",
    "        \n",
    "        elif criterion == 'gini':\n",
    "            return 1 - np.power(prob_distr, 2).sum()\n",
    "        \n",
    "        elif criterion == 'entropy':\n",
    "            return -(prob_distr * np.log2(prob_distr+1e-10)).sum() # 2 - в битах (e - натах).\n",
    "        \n",
    "        else:\n",
    "            return 0.1\n",
    "            # raise RuntimeError(\"No such criterion as \\'{}\\'!\".format(criterion))\n",
    "            \n",
    "    \n",
    "    def __find_threshold(self, x, y):\n",
    "        \"\"\"\n",
    "        Находим оптимальный признак и порог для сплита\n",
    "        Здесь используемые разные impurity в зависимости от self.criterion\n",
    "        \"\"\"\n",
    "        max_info_gain = -1\n",
    "        if x.shape[0] == 0:\n",
    "            raise RuntimeError(\"Received an empty sample!\")\n",
    "            \n",
    "        for feature_id in range(x.shape[1]): # Использовать np.apply_along_axis()\n",
    "            \n",
    "            current_info = self.__info(x, y, self.criterion)\n",
    "            \n",
    "            tmp = np.unique(x[:,feature_id])\n",
    "            if tmp.shape[0] < 2:\n",
    "                thresholds = tmp\n",
    "            else:\n",
    "                thresholds = np.mean((tmp[:-1], np.roll(tmp, -1)[:-1]), axis=0)\n",
    "            \n",
    "            for threshold in thresholds: # Испо-ать np.apply_along_axis()\n",
    "                \n",
    "                x_left, x_right, y_left, y_right = self.__div_samples(x, y, feature_id, threshold)\n",
    "                left_share = x_left.shape[0] / x.shape[0]\n",
    "                \n",
    "                left_info  = left_share       * self.__info(x_left,  y_left,  self.criterion)\n",
    "                right_info = (1 - left_share) * self.__info(x_right, y_right, self.criterion)\n",
    "                \n",
    "                info_gain = current_info - left_info - right_info\n",
    "                \n",
    "                if info_gain > max_info_gain:\n",
    "                    \n",
    "                    max_info_gain = info_gain\n",
    "                    best_feature_id = feature_id\n",
    "                    best_threshold  = threshold\n",
    "            \n",
    "        \n",
    "        x_left, x_right, y_left, y_right = self.__div_samples(x, y, best_feature_id, best_threshold) # ~о-мально!\n",
    "        return best_feature_id, best_threshold, x_left, x_right, y_left, y_right\n",
    "        \n",
    "\n",
    "    def __fit_node(self, x, y, node_id, depth):\n",
    "        \"\"\"\n",
    "        Делаем новый узел в дереве\n",
    "        Решаем, терминальный он или нет\n",
    "        Если нет, то строим левый узел  с айди 2 * node_id + 1\n",
    "        И правый узел с  айди 2 * node_id + 2\n",
    "        \"\"\"\n",
    "        # if trunc(np.log2(node_id+1)) > depth:\n",
    "        #      return\n",
    "    \n",
    "        c_node = self.tree[node_id]\n",
    "        \n",
    "        y_len = y.shape[0]\n",
    "        prob_distr = np.bincount(y, minlength=self.num_class,\\\n",
    "                                    weights=[1/y_len]*y_len)\n",
    "        \n",
    "        condition = (x.shape[0] <= self.min_samples_split) or (np.isclose(np.max(prob_distr), 1.0))   \n",
    "        \n",
    "        if condition:\n",
    "            c_node[0] = self.__class__.LEAF_TYPE        \n",
    "            c_node[1] = np.argmax(prob_distr)\n",
    "            c_node[2] = prob_distr[c_node[1]]\n",
    "        \n",
    "        else:\n",
    "            c_node[1], c_node[2], x_left, x_right, y_left, y_right = self.__find_threshold(x, y)\n",
    "            c_node[0] = self.__class__.NON_LEAF_TYPE\n",
    "            self.tree[2*node_id+1] = [None, None, None]\n",
    "            self.tree[2*node_id+2] = [None, None, None]  \n",
    "            self.__fit_node(x_left,  y_left,  2*node_id+1, depth+1)\n",
    "            self.__fit_node(x_right, y_right, 2*node_id+2, depth+1)\n",
    "    \n",
    "    \n",
    "    def fit(self, x, y):        \n",
    "        \"\"\"\n",
    "        Рекурсивно строим дерево решений\n",
    "        Начинаем с корня node_id 0\n",
    "        \"\"\"\n",
    "        self.num_class = np.unique(y).size\n",
    "        self.__fit_node(np.asarray(x), np.asarray(y), 0, 0)\n",
    "            \n",
    "\n",
    "    def __predict_class(self, x, node_id):\n",
    "        \"\"\"\n",
    "        Рекурсивно обходим дерево по всем узлам,\n",
    "        пока не дойдем до терминального\n",
    "        \"\"\"\n",
    "        node = self.tree[node_id]\n",
    "        if node[0] == self.__class__.NON_LEAF_TYPE:\n",
    "            _, feature_id, threshold = node\n",
    "            if x[feature_id] > threshold:\n",
    "                return self.__predict_class(x, 2 * node_id + 1)\n",
    "            else:\n",
    "                return self.__predict_class(x, 2 * node_id + 2)\n",
    "        else:\n",
    "            return node[1]\n",
    "        \n",
    "        \n",
    "    def predict(self, X):\n",
    "        \"\"\"\n",
    "        Вызывает predict для всех объектов из матрицы X\n",
    "        \"\"\"\n",
    "        return np.array([self.__predict_class(x, 0) for x in np.asarray(X)])\n",
    "\n",
    "    \n",
    "    def fit_predict(self, x_train, y_train, predicted_x):\n",
    "        self.fit(x_train, y_train)\n",
    "        return self.predict(predicted_x)\n",
    "\n",
    "    \n",
    "    def get_feature_importance():\n",
    "        \"\"\"\n",
    "        Возвращает важность признаков\n",
    "        \"\"\"\n",
    "        # Ваш код здесь\n",
    "        pass"
   ]
  },
  {
   "cell_type": "code",
   "execution_count": 1129,
   "metadata": {},
   "outputs": [
    {
     "data": {
      "text/plain": [
       "array([[ 1, 10],\n",
       "       [ 1, 20],\n",
       "       [ 2, 10],\n",
       "       [ 2, 20],\n",
       "       [ 3, 10],\n",
       "       [ 3, 20]])"
      ]
     },
     "execution_count": 1129,
     "metadata": {},
     "output_type": "execute_result"
    }
   ],
   "source": [
    "a = np.array([1,2,3])\n",
    "b = np.array([10,20])\n",
    "tmp1 = np.repeat(a, b.shape[0])\n",
    "tmp2 = np.tile(b, a.shape[0])\n",
    "np.dstack((tmp1,tmp2))[0]"
   ]
  },
  {
   "cell_type": "code",
   "execution_count": 1130,
   "metadata": {},
   "outputs": [
    {
     "name": "stdout",
     "output_type": "stream",
     "text": [
      "20.4 µs ± 3.84 µs per loop (mean ± std. dev. of 7 runs, 100000 loops each)\n"
     ]
    }
   ],
   "source": [
    "%timeit np.unique(x[:,5])"
   ]
  },
  {
   "cell_type": "code",
   "execution_count": 1120,
   "metadata": {
    "colab": {},
    "colab_type": "code",
    "id": "AwcM7PqSDbbC"
   },
   "outputs": [],
   "source": [
    "my_clf = MyDecisionTreeClassifier(min_samples_split=2, criterion='fuck ya')\n",
    "clf = DecisionTreeClassifier(min_samples_split=2, criterion='gini')"
   ]
  },
  {
   "cell_type": "code",
   "execution_count": 1121,
   "metadata": {
    "colab": {},
    "colab_type": "code",
    "id": "QhisFftGDbbP"
   },
   "outputs": [],
   "source": [
    "wine = load_wine()\n",
    "X_train, X_test, y_train, y_test = train_test_split(wine.data, wine.target, test_size=0.1, stratify=wine.target)"
   ]
  },
  {
   "cell_type": "code",
   "execution_count": 1122,
   "metadata": {},
   "outputs": [
    {
     "data": {
      "text/plain": [
       "DecisionTreeClassifier(class_weight=None, criterion='gini', max_depth=None,\n",
       "                       max_features=None, max_leaf_nodes=None,\n",
       "                       min_impurity_decrease=0.0, min_impurity_split=None,\n",
       "                       min_samples_leaf=1, min_samples_split=2,\n",
       "                       min_weight_fraction_leaf=0.0, presort=False,\n",
       "                       random_state=None, splitter='best')"
      ]
     },
     "execution_count": 1122,
     "metadata": {},
     "output_type": "execute_result"
    }
   ],
   "source": [
    "my_clf.fit(X_train, y_train)\n",
    "clf.fit(X_train, y_train)"
   ]
  },
  {
   "cell_type": "code",
   "execution_count": 1123,
   "metadata": {
    "colab": {},
    "colab_type": "code",
    "id": "O7db8QSSDbba"
   },
   "outputs": [
    {
     "data": {
      "text/plain": [
       "(0.8888888888888888, 0.6666666666666666)"
      ]
     },
     "execution_count": 1123,
     "metadata": {},
     "output_type": "execute_result"
    }
   ],
   "source": [
    "accuracy_score(y_pred=clf.predict(X_test), y_true=y_test), accuracy_score(y_pred=my_clf.predict(X_test), y_true=y_test)"
   ]
  },
  {
   "cell_type": "code",
   "execution_count": 1124,
   "metadata": {},
   "outputs": [],
   "source": [
    "from IPython.display import Image  \n",
    "from sklearn import tree\n",
    "import pydotplus # installing pyparsing maybe needed\n",
    "\n",
    "dot_data = tree.export_graphviz(clf, out_file=None, feature_names = None)\n",
    "graph = pydotplus.graph_from_dot_data(dot_data)\n",
    "#Image(graph.create_png())"
   ]
  },
  {
   "cell_type": "code",
   "execution_count": 1125,
   "metadata": {},
   "outputs": [
    {
     "data": {
      "image/png": "[encoded data removed]",
      "text/plain": [
       "<IPython.core.display.Image object>"
      ]
     },
     "execution_count": 1125,
     "metadata": {},
     "output_type": "execute_result"
    }
   ],
   "source": [
    "Image(graph.create_png())"
   ]
  },
  {
   "cell_type": "code",
   "execution_count": 1126,
   "metadata": {},
   "outputs": [
    {
     "data": {
      "text/plain": [
       "{0: [0, 0, 13.515],\n",
       " 1: [0, 0, 13.864999999999998],\n",
       " 2: [0, 1, 3.58],\n",
       " 3: [0, 1, 1.935],\n",
       " 4: [0, 0, 13.765],\n",
       " 7: [0, 0, 14.145],\n",
       " 8: [0, 0, 13.89],\n",
       " 15: [0, 0, 14.215],\n",
       " 16: [0, 0, 14.08],\n",
       " 31: [1, 0, 1.0],\n",
       " 32: [1, 0, 0.5],\n",
       " 33: [1, 0, 0.5],\n",
       " 34: [1, 0, 1.0],\n",
       " 17: [0, 0, 13.92],\n",
       " 18: [1, 0, 1.0],\n",
       " 35: [0, 0, 14.225000000000001],\n",
       " 36: [1, 0, 1.0],\n",
       " 71: [0, 0, 14.32],\n",
       " 72: [1, 0, 0.9999999999999998],\n",
       " 143: [0, 0, 14.36],\n",
       " 144: [1, 0, 1.0],\n",
       " 287: [1, 0, 1.0],\n",
       " 288: [1, 2, 1.0],\n",
       " 9: [0, 0, 13.825],\n",
       " 10: [0, 0, 13.54],\n",
       " 19: [0, 0, 13.835],\n",
       " 20: [0, 0, 13.774999999999999],\n",
       " 39: [0, 0, 13.85],\n",
       " 40: [1, 0, 1.0],\n",
       " 79: [1, 0, 0.5],\n",
       " 80: [1, 2, 1.0],\n",
       " 41: [1, 0, 0.5],\n",
       " 42: [1, 0, 1.0],\n",
       " 21: [0, 1, 1.375],\n",
       " 22: [1, 2, 1.0],\n",
       " 43: [0, 0, 13.57],\n",
       " 44: [1, 1, 1.0],\n",
       " 87: [0, 1, 1.5150000000000001],\n",
       " 88: [1, 0, 1.0],\n",
       " 175: [0, 1, 2.84],\n",
       " 176: [1, 0, 1.0],\n",
       " 351: [0, 0, 13.665],\n",
       " 352: [0, 0, 13.725000000000001],\n",
       " 703: [1, 2, 1.0],\n",
       " 704: [1, 0, 0.5],\n",
       " 705: [1, 0, 1.0],\n",
       " 706: [0, 0, 13.629999999999999],\n",
       " 1413: [1, 0, 1.0],\n",
       " 1414: [1, 0, 0.5],\n",
       " 5: [0, 0, 13.405000000000001],\n",
       " 6: [0, 0, 13.135],\n",
       " 11: [0, 0, 13.43],\n",
       " 12: [0, 0, 11.665],\n",
       " 23: [1, 2, 1.0],\n",
       " 24: [1, 0, 1.0],\n",
       " 25: [0, 0, 12.145],\n",
       " 26: [1, 1, 1.0],\n",
       " 51: [0, 0, 12.305],\n",
       " 52: [1, 1, 1.0],\n",
       " 103: [0, 0, 13.065000000000001],\n",
       " 104: [1, 2, 1.0],\n",
       " 207: [0, 0, 13.205],\n",
       " 208: [0, 0, 12.899999999999999],\n",
       " 415: [0, 0, 13.32],\n",
       " 416: [1, 2, 1.0],\n",
       " 831: [1, 2, 1.0],\n",
       " 832: [1, 0, 1.0],\n",
       " 417: [0, 0, 12.99],\n",
       " 418: [0, 0, 12.475],\n",
       " 835: [1, 1, 1.0],\n",
       " 836: [1, 0, 1.0],\n",
       " 837: [1, 2, 1.0],\n",
       " 838: [1, 1, 0.5],\n",
       " 13: [0, 0, 13.504999999999999],\n",
       " 14: [0, 0, 12.59],\n",
       " 27: [1, 0, 1.0],\n",
       " 28: [0, 0, 13.165],\n",
       " 57: [0, 0, 13.184999999999999],\n",
       " 58: [1, 2, 1.0],\n",
       " 115: [0, 0, 13.235],\n",
       " 116: [1, 2, 1.0],\n",
       " 231: [0, 0, 13.26],\n",
       " 232: [1, 0, 0.5],\n",
       " 463: [0, 0, 13.435],\n",
       " 464: [1, 0, 1.0],\n",
       " 927: [0, 0, 13.485],\n",
       " 928: [0, 0, 13.33],\n",
       " 1855: [0, 0, 13.495000000000001],\n",
       " 1856: [1, 0, 0.5],\n",
       " 3711: [1, 0, 0.5],\n",
       " 3712: [1, 1, 1.0],\n",
       " 1857: [0, 0, 13.35],\n",
       " 1858: [0, 0, 13.295],\n",
       " 3715: [1, 0, 0.5],\n",
       " 3716: [1, 1, 1.0],\n",
       " 3717: [1, 0, 0.5],\n",
       " 3718: [1, 0, 1.0],\n",
       " 29: [0, 0, 12.905000000000001],\n",
       " 30: [0, 0, 12.55],\n",
       " 59: [0, 1, 1.9749999999999999],\n",
       " 60: [0, 0, 12.8],\n",
       " 119: [0, 0, 12.945],\n",
       " 120: [0, 1, 1.7],\n",
       " 239: [1, 0, 0.5],\n",
       " 240: [1, 2, 1.0],\n",
       " 241: [0, 0, 13.08],\n",
       " 242: [0, 0, 13.04],\n",
       " 483: [1, 2, 1.0],\n",
       " 484: [1, 0, 1.0],\n",
       " 485: [1, 0, 1.0],\n",
       " 486: [1, 1, 1.0],\n",
       " 121: [0, 0, 12.825],\n",
       " 122: [0, 0, 12.68],\n",
       " 243: [0, 0, 12.855],\n",
       " 244: [1, 2, 1.0],\n",
       " 487: [1, 2, 1.0],\n",
       " 488: [0, 0, 12.844999999999999],\n",
       " 977: [1, 0, 0.5],\n",
       " 978: [1, 2, 1.0],\n",
       " 245: [0, 0, 12.745000000000001],\n",
       " 246: [0, 0, 12.635],\n",
       " 491: [0, 0, 12.78],\n",
       " 492: [1, 1, 1.0],\n",
       " 983: [1, 2, 1.0],\n",
       " 984: [1, 1, 0.5],\n",
       " 493: [1, 1, 1.0],\n",
       " 494: [1, 1, 0.5],\n",
       " 61: [1, 2, 1.0],\n",
       " 62: [0, 0, 12.309999999999999],\n",
       " 125: [0, 1, 0.965],\n",
       " 126: [0, 0, 12.035],\n",
       " 251: [0, 1, 1.03],\n",
       " 252: [1, 1, 1.0],\n",
       " 503: [0, 0, 12.355],\n",
       " 504: [1, 1, 1.0],\n",
       " 1007: [0, 1, 1.1],\n",
       " 1008: [1, 1, 1.0],\n",
       " 2015: [0, 0, 12.44],\n",
       " 2016: [1, 1, 1.0],\n",
       " 4031: [0, 0, 12.49],\n",
       " 4032: [1, 1, 0.9999999999999998],\n",
       " 8063: [0, 0, 12.515],\n",
       " 8064: [1, 1, 0.5],\n",
       " 16127: [1, 1, 1.0],\n",
       " 16128: [1, 1, 0.5],\n",
       " 253: [0, 1, 1.24],\n",
       " 254: [1, 1, 1.0000000000000002],\n",
       " 507: [0, 0, 12.075],\n",
       " 508: [1, 1, 1.0],\n",
       " 1015: [0, 0, 12.235],\n",
       " 1016: [1, 1, 1.0],\n",
       " 2031: [1, 1, 1.0],\n",
       " 2032: [0, 0, 12.165],\n",
       " 4065: [0, 0, 12.184999999999999],\n",
       " 4066: [1, 1, 1.0],\n",
       " 8131: [1, 1, 0.5],\n",
       " 8132: [1, 1, 1.0]}"
      ]
     },
     "execution_count": 1126,
     "metadata": {},
     "output_type": "execute_result"
    }
   ],
   "source": [
    "my_clf.tree"
   ]
  },
  {
   "cell_type": "markdown",
   "metadata": {
    "colab_type": "text",
    "id": "FGauzyl6Dbbm"
   },
   "source": [
    "## Ускоряем дерево решений (2 балла)\n",
    "Добиться скорости работы на fit не медленнее чем в 10 раз sklearn на данных wine. \n",
    "Для этого используем numpy."
   ]
  },
  {
   "cell_type": "code",
   "execution_count": 1127,
   "metadata": {
    "colab": {},
    "colab_type": "code",
    "id": "VV8mXglkDbbr",
    "scrolled": true
   },
   "outputs": [
    {
     "name": "stdout",
     "output_type": "stream",
     "text": [
      "1.56 ms ± 80.4 µs per loop (mean ± std. dev. of 7 runs, 100 loops each)\n"
     ]
    }
   ],
   "source": [
    "%timeit clf.fit(X_train, y_train)"
   ]
  },
  {
   "cell_type": "code",
   "execution_count": 1128,
   "metadata": {
    "colab": {},
    "colab_type": "code",
    "id": "2hd1mV6gDbb5"
   },
   "outputs": [
    {
     "name": "stdout",
     "output_type": "stream",
     "text": [
      "677 ms ± 9.53 ms per loop (mean ± std. dev. of 7 runs, 1 loop each)\n"
     ]
    }
   ],
   "source": [
    "%timeit my_clf.fit(X_train, y_train)"
   ]
  },
  {
   "cell_type": "code",
   "execution_count": 0,
   "metadata": {
    "colab": {},
    "colab_type": "code",
    "id": "cZPeen4_DbcD"
   },
   "outputs": [],
   "source": []
  },
  {
   "cell_type": "markdown",
   "metadata": {
    "colab_type": "text",
    "id": "cEtP59-6DbcP"
   },
   "source": [
    "## Боевое применение (3 балла)\n",
    "\n",
    "На практике Вы познакомились с датасетом Speed Dating Data. В нем каждая пара в быстрых свиданиях характеризуется определенным набором признаков. Задача -- предсказать, произойдет ли матч пары (колонка match). \n",
    "\n",
    "Пример работы с датасетом можете найти в практике пункт 2\n",
    "https://github.com/VVVikulin/ml1.sphere/blob/master/2019-09/lecture_06/pract-trees.ipynb\n",
    "\n",
    "Данные и описания колонок лежат тут\n",
    "https://cloud.mail.ru/public/8nHV/p6J7wY1y1/speed-dating-experiment/"
   ]
  },
  {
   "cell_type": "markdown",
   "metadata": {
    "colab_type": "text",
    "id": "H8TdyRwoDbcQ"
   },
   "source": [
    "Скачайте датасет, обработайте данные, как показано на семинаре или своим собственным способом. Обучите дерево классифкации. В качестве таргета возьмите колонку 'match'. Постарайтесь хорошо обработать признаки, чтобы выбить максимальную точность. Если точность будет близка к случайному гаданию, задание не будет защитано. \n"
   ]
  },
  {
   "cell_type": "code",
   "execution_count": 0,
   "metadata": {
    "colab": {},
    "colab_type": "code",
    "id": "17ybw0FiDbcR"
   },
   "outputs": [],
   "source": []
  },
  {
   "cell_type": "code",
   "execution_count": 0,
   "metadata": {
    "colab": {},
    "colab_type": "code",
    "id": "0nXhHBJYDbcY"
   },
   "outputs": [],
   "source": []
  },
  {
   "cell_type": "markdown",
   "metadata": {
    "colab_type": "text",
    "id": "Cr198YkuDbck"
   },
   "source": [
    "Разбейте датасет на трейн и валидацию. Подберите на валидации оптимальный критерий  информативности. \n",
    "Постройте графики зависимости точности на валидации от глубины дерева, от минимального числа объектов для сплита. \n",
    "Какой максимальной точности удалось достигнуть?"
   ]
  },
  {
   "cell_type": "code",
   "execution_count": 0,
   "metadata": {
    "colab": {},
    "colab_type": "code",
    "id": "avqKxmx7Dbcl"
   },
   "outputs": [],
   "source": []
  },
  {
   "cell_type": "code",
   "execution_count": 0,
   "metadata": {
    "colab": {},
    "colab_type": "code",
    "id": "yTm0EV9zDbcs"
   },
   "outputs": [],
   "source": []
  },
  {
   "cell_type": "markdown",
   "metadata": {
    "colab_type": "text",
    "id": "nvivFf1UDbcy"
   },
   "source": [
    "## Находим самые важные признаки (2 балла)\n",
    "\n"
   ]
  },
  {
   "cell_type": "markdown",
   "metadata": {
    "colab_type": "text",
    "id": "A7oRhgoYDbcz"
   },
   "source": [
    "По построенному дереву  легко понять, какие признаки лучше всего помогли решить задачу. Часто это бывает нужно  не только  для сокращения размерности в данных, но и для лучшего понимания прикладной задачи. Например, Вы хотите понять, какие признаки стоит еще конструировать -- для этого нужно понимать, какие из текущих лучше всего работают в дереве. "
   ]
  },
  {
   "cell_type": "markdown",
   "metadata": {
    "colab_type": "text",
    "id": "VXKFjz8XDbc0"
   },
   "source": [
    "Самый простой метод -- посчитать число сплитов, где использовался данные признак. Это не лучший вариант, так как по признаку который принимает всего 2 значения, но который почти точно разделяет выборку, число сплитов будет очень 1, но при этом признак сам очень хороший. \n",
    "В этом задании предлагается для каждого признака считать суммарный gain (в лекции обозначено как Q) при использовании этого признака в сплите. Тогда даже у очень хороших признаков с маленьким число сплитов это значение должно быть довольно высоким.  "
   ]
  },
  {
   "cell_type": "markdown",
   "metadata": {
    "colab_type": "text",
    "id": "EbpQfk6zDbc2"
   },
   "source": [
    "Реализовать это довольно просто: создаете словарь номер фичи : суммарный гейн и добавляете в нужную фичу каждый раз, когда используете ее при построении дерева. "
   ]
  },
  {
   "cell_type": "markdown",
   "metadata": {
    "colab_type": "text",
    "id": "jLtG3U7HDbc3"
   },
   "source": [
    "Добавьте функционал, который определяет значения feature importance. Обучите дерево на датасете Speed Dating Data.\n",
    "Выведите 10 главных фичей по важности."
   ]
  },
  {
   "cell_type": "code",
   "execution_count": 0,
   "metadata": {
    "colab": {},
    "colab_type": "code",
    "id": "hKOrU7ZdDbc4"
   },
   "outputs": [],
   "source": []
  },
  {
   "cell_type": "code",
   "execution_count": 0,
   "metadata": {
    "colab": {},
    "colab_type": "code",
    "id": "fSsiF7McDbdA"
   },
   "outputs": [],
   "source": []
  },
  {
   "cell_type": "markdown",
   "metadata": {
    "colab_type": "text",
    "id": "sJKyLdT1DbdH"
   },
   "source": [
    "## Фидбек (бесценно)"
   ]
  },
  {
   "cell_type": "markdown",
   "metadata": {
    "colab_type": "text",
    "id": "stTDpfM9DbdI"
   },
   "source": [
    "* Какие аспекты обучения деревьев решений Вам показались непонятными? Какое место стоит дополнительно объяснить?"
   ]
  },
  {
   "cell_type": "markdown",
   "metadata": {
    "colab_type": "text",
    "id": "JpWDfCQADbdK"
   },
   "source": [
    "### Ваш ответ здесь"
   ]
  },
  {
   "cell_type": "markdown",
   "metadata": {
    "colab_type": "text",
    "id": "4yQ51eUfDbdM"
   },
   "source": [
    "* Здесь Вы можете оставить отзыв о этой домашней работе или о всем курсе."
   ]
  },
  {
   "cell_type": "markdown",
   "metadata": {
    "colab_type": "text",
    "id": "iv-eWbzdDbdQ"
   },
   "source": [
    "### ВАШ ОТЗЫВ ЗДЕСЬ\n",
    "\n"
   ]
  },
  {
   "cell_type": "code",
   "execution_count": 0,
   "metadata": {
    "colab": {},
    "colab_type": "code",
    "id": "gPaNABSYDbdS"
   },
   "outputs": [],
   "source": []
  },
  {
   "cell_type": "code",
   "execution_count": 0,
   "metadata": {
    "colab": {},
    "colab_type": "code",
    "id": "bvJErTq9DbdY"
   },
   "outputs": [],
   "source": []
  }
 ],
 "metadata": {
  "anaconda-cloud": {},
  "colab": {
   "name": "hw3.ipynb",
   "provenance": []
  },
  "kernelspec": {
   "display_name": "Python 3",
   "language": "python",
   "name": "python3"
  },
  "language_info": {
   "codemirror_mode": {
    "name": "ipython",
    "version": 3
   },
   "file_extension": ".py",
   "mimetype": "text/x-python",
   "name": "python",
   "nbconvert_exporter": "python",
   "pygments_lexer": "ipython3",
   "version": "3.7.4"
  }
 },
 "nbformat": 4,
 "nbformat_minor": 1
}
